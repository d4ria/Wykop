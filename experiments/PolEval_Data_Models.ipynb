{
  "nbformat": 4,
  "nbformat_minor": 0,
  "metadata": {
    "kernelspec": {
      "display_name": "Python 3",
      "language": "python",
      "name": "python3"
    },
    "language_info": {
      "codemirror_mode": {
        "name": "ipython",
        "version": 3
      },
      "file_extension": ".py",
      "mimetype": "text/x-python",
      "name": "python",
      "nbconvert_exporter": "python",
      "pygments_lexer": "ipython3",
      "version": "3.8.6"
    },
    "colab": {
      "name": "PolEval Data Models.ipynb",
      "provenance": [],
      "collapsed_sections": []
    }
  },
  "cells": [
    {
      "cell_type": "code",
      "metadata": {
        "id": "kNXCEmXLWs7a"
      },
      "source": [
        "import os\n",
        "import sys\n",
        "sys.path.append('../')\n",
        "\n",
        "import pandas as pd\n",
        "import numpy as np\n",
        "import tqdm\n",
        "from sklearn.svm import SVC\n",
        "from sklearn.model_selection import cross_validate, StratifiedKFold\n",
        "from sklearn.metrics import accuracy_score, precision_score, recall_score, f1_score\n",
        "\n",
        "#from wykop_scraper.hatebase import hate_words, curse_words"
      ],
      "execution_count": 20,
      "outputs": []
    },
    {
      "cell_type": "code",
      "metadata": {
        "id": "XWg_RWWxXvCb"
      },
      "source": [
        "import os \r\n",
        "import urllib.request\r\n",
        "\r\n",
        "if not os.path.exists('kgr10.plain.lower.skipgram.dim300.neg10.bin'):\r\n",
        "  file_path = 'kgr10.plain.lower.skipgram.dim300.neg10.bin'\r\n",
        "  urllib.request.urlretrieve('https://nextcloud.clarin-pl.eu/index.php/s/luubhnS0AvjmtQc/download?path=%2F&files=kgr10.plain.lower.skipgram.dim300.neg10.bin', file_path)"
      ],
      "execution_count": 35,
      "outputs": []
    },
    {
      "cell_type": "code",
      "metadata": {
        "id": "VE21X4G-Ws7o"
      },
      "source": [
        "with open('data/poleval_train_text.txt') as f:\n",
        "    train_text = f.read().split('\\n')[:-1]\n",
        "\n",
        "with open('data/poleval_train_tags.txt') as f:\n",
        "    train_tags = f.read().split('\\n')[:-1]\n",
        "    \n",
        "with open('data/poleval_test_text.txt') as f:\n",
        "    test_text = f.read().split('\\n')[:-1]\n",
        "\n",
        "with open('data/poleval_test_tags.txt') as f:\n",
        "    test_tags = f.read().split('\\n')[:-1]"
      ],
      "execution_count": 3,
      "outputs": []
    },
    {
      "cell_type": "code",
      "metadata": {
        "id": "Ynd3dLklWs7p"
      },
      "source": [
        "train_data = pd.DataFrame({'tags': train_tags, 'text': train_text})\n",
        "train_data['tags'] = train_data['tags'].astype('int')\n",
        "\n",
        "test_data = pd.DataFrame({'tags': test_tags, 'text': test_text})\n",
        "test_data['tags'] = test_data['tags'].astype('int')"
      ],
      "execution_count": 4,
      "outputs": []
    },
    {
      "cell_type": "code",
      "metadata": {
        "colab": {
          "base_uri": "https://localhost:8080/"
        },
        "id": "R5AjN4u0Ws7q",
        "outputId": "b439ebb2-d4fd-45b2-c282-73fbd72cffc9"
      },
      "source": [
        "train_data.head(), test_data.head()"
      ],
      "execution_count": 5,
      "outputs": [
        {
          "output_type": "execute_result",
          "data": {
            "text/plain": [
              "(   tags                                               text\n",
              " 0     0  Dla mnie faworytem do tytułu będzie Cracovia. ...\n",
              " 1     0  @anonymized_account @anonymized_account Brawo ...\n",
              " 2     0  @anonymized_account @anonymized_account Super,...\n",
              " 3     0  @anonymized_account @anonymized_account Musi. ...\n",
              " 4     0    Odrzut natychmiastowy, kwaśna mina, mam problem,\n",
              "    tags                                               text\n",
              " 0     0  @anonymized_account Spoko, jak im Duda z Moraw...\n",
              " 1     0  @anonymized_account @anonymized_account Ale on...\n",
              " 2     0  @anonymized_account No czy Prezes nie miał rac...\n",
              " 3     0  @anonymized_account @anonymized_account Przeci...\n",
              " 4     0  @anonymized_account @anonymized_account Owszem...)"
            ]
          },
          "metadata": {
            "tags": []
          },
          "execution_count": 5
        }
      ]
    },
    {
      "cell_type": "markdown",
      "metadata": {
        "id": "JKJTo9e_Ws7q"
      },
      "source": [
        "# Baseline models "
      ]
    },
    {
      "cell_type": "code",
      "metadata": {
        "id": "tLs7-9G4Ws7r"
      },
      "source": [
        "class BaselineModel:\n",
        "    def __init__(self, dictionary: list):\n",
        "        self.dictionary = dictionary\n",
        "        \n",
        "    def fit(self, X, y):\n",
        "        pass\n",
        "    \n",
        "    def get_params(self, deep=True):\n",
        "        return {'dictionary': self.dictionary}\n",
        "    \n",
        "    def predict(self, X):\n",
        "        \"\"\"X: a list of strings\"\"\"\n",
        "        return np.reshape(np.array([1 if any(word in text for word in self.dictionary) else 0 for text in X]), (-1,))"
      ],
      "execution_count": null,
      "outputs": []
    },
    {
      "cell_type": "code",
      "metadata": {
        "id": "iAJ1HuH9Ws7r"
      },
      "source": [
        "baseline = BaselineModel(hate_words)\n",
        "skf = StratifiedKFold(n_splits=5, random_state=0, shuffle=True)\n",
        "X, y = test_data.text.to_numpy(), test_data.tags.to_numpy()"
      ],
      "execution_count": null,
      "outputs": []
    },
    {
      "cell_type": "code",
      "metadata": {
        "id": "VYJqvtXKWs7s"
      },
      "source": [
        "def train_and_return_results(model, train, test) -> dict:\n",
        "    \n",
        "    X, y = train_data.text.to_numpy(), train_data.tags.to_numpy()\n",
        "    \n",
        "    X_test, y_test = test_data.text.to_numpy(), test_data.tags.to_numpy()\n",
        "    model.fit(X, y)\n",
        "    prediction = model.predict(X_test)\n",
        "    \n",
        "    return {\n",
        "        'test_accuracy': accuracy_score(y_test, prediction),\n",
        "        'test_precision': precision_score(y_test, prediction),\n",
        "        'test_recall': recall_score(y_test, prediction),\n",
        "        'test_f1': f1_score(y_test, prediction),\n",
        "        'test_f1_macro': f1_score(y_test, prediction, average='macro')\n",
        "    }"
      ],
      "execution_count": null,
      "outputs": []
    },
    {
      "cell_type": "code",
      "metadata": {
        "id": "MZeeczHrWs7s",
        "outputId": "f122855f-76b4-4d05-fc79-53335405a91c"
      },
      "source": [
        "results = train_and_return_results(baseline, train_data, test_data)\n",
        "accuracy = results['test_accuracy']\n",
        "precision = results['test_precision']\n",
        "recall = results['test_recall']\n",
        "f1 = results['test_f1']\n",
        "macro_f1 = results['test_f1_macro']\n",
        "print(f'Accuracy: {accuracy}')\n",
        "print(f'Precision: {precision}')\n",
        "print(f'Recall: {recall}')\n",
        "print(f'F1-Score: {f1}')\n",
        "print(f'Macro F1-Score: {macro_f1}')"
      ],
      "execution_count": null,
      "outputs": [
        {
          "output_type": "stream",
          "text": [
            "Accuracy: 0.863\n",
            "Precision: 0.42857142857142855\n",
            "Recall: 0.06716417910447761\n",
            "F1-Score: 0.11612903225806451\n",
            "Macro F1-Score: 0.5209371448553195\n"
          ],
          "name": "stdout"
        }
      ]
    },
    {
      "cell_type": "code",
      "metadata": {
        "id": "IOdHUDiGWs7t",
        "outputId": "08aed7f9-91f8-4c10-de50-229cd24eddc1"
      },
      "source": [
        "baseline2 = BaselineModel(hate_words + curse_words)\n",
        "results = train_and_return_results(baseline2, train_data, test_data)\n",
        "accuracy = results['test_accuracy']\n",
        "precision = results['test_precision']\n",
        "recall = results['test_recall']\n",
        "f1 = results['test_f1']\n",
        "macro_f1 = results['test_f1_macro']\n",
        "print(f'Accuracy: {accuracy}')\n",
        "print(f'Precision: {precision}')\n",
        "print(f'Recall: {recall}')\n",
        "print(f'F1-Score: {f1}')\n",
        "print(f'Macro F1-Score: {macro_f1}')"
      ],
      "execution_count": null,
      "outputs": [
        {
          "output_type": "stream",
          "text": [
            "Accuracy: 0.88\n",
            "Precision: 0.625\n",
            "Recall: 0.26119402985074625\n",
            "F1-Score: 0.3684210526315789\n",
            "Macro F1-Score: 0.6510613550450712\n"
          ],
          "name": "stdout"
        }
      ]
    },
    {
      "cell_type": "code",
      "metadata": {
        "colab": {
          "base_uri": "https://localhost:8080/"
        },
        "id": "ehl4HhuubMaI",
        "outputId": "5b8e7edd-06cc-46da-b0f6-a36116281b0e"
      },
      "source": [
        "!git clone https://github.com/facebookresearch/fastText.git\r\n",
        "!pip install ./fastText"
      ],
      "execution_count": 7,
      "outputs": [
        {
          "output_type": "stream",
          "text": [
            "Cloning into 'fastText'...\n",
            "remote: Enumerating objects: 3854, done.\u001b[K\n",
            "remote: Total 3854 (delta 0), reused 0 (delta 0), pack-reused 3854\u001b[K\n",
            "Receiving objects: 100% (3854/3854), 8.23 MiB | 8.65 MiB/s, done.\n",
            "Resolving deltas: 100% (2416/2416), done.\n",
            "Processing ./fastText\n",
            "Requirement already satisfied: pybind11>=2.2 in /usr/local/lib/python3.6/dist-packages (from fasttext==0.9.2) (2.6.1)\n",
            "Requirement already satisfied: setuptools>=0.7.0 in /usr/local/lib/python3.6/dist-packages (from fasttext==0.9.2) (51.1.1)\n",
            "Requirement already satisfied: numpy in /usr/local/lib/python3.6/dist-packages (from fasttext==0.9.2) (1.19.5)\n",
            "Building wheels for collected packages: fasttext\n",
            "  Building wheel for fasttext (setup.py) ... \u001b[?25l\u001b[?25hdone\n",
            "  Created wheel for fasttext: filename=fasttext-0.9.2-cp36-cp36m-linux_x86_64.whl size=3032434 sha256=ffef303b6c9936eb9e25670a75de558fe1e9e2ba25ddc6e4cd6397728596816e\n",
            "  Stored in directory: /tmp/pip-ephem-wheel-cache-x44qi8dc/wheels/a1/9f/52/696ce6c5c46325e840c76614ee5051458c0df10306987e7443\n",
            "Successfully built fasttext\n",
            "Installing collected packages: fasttext\n",
            "Successfully installed fasttext-0.9.2\n"
          ],
          "name": "stdout"
        }
      ]
    },
    {
      "cell_type": "code",
      "metadata": {
        "id": "2qFVnrPgbmRM"
      },
      "source": [
        "import fasttext"
      ],
      "execution_count": 8,
      "outputs": []
    },
    {
      "cell_type": "markdown",
      "metadata": {
        "id": "emcGjVRIyda8"
      },
      "source": [
        "Fasttext embeddings\r\n"
      ]
    },
    {
      "cell_type": "code",
      "metadata": {
        "colab": {
          "base_uri": "https://localhost:8080/"
        },
        "id": "w5_jD1jwyfuq",
        "outputId": "e901dda4-df3c-4a8c-ebca-1fbf906e8b9e"
      },
      "source": [
        "!wget https://dl.fbaipublicfiles.com/fasttext/vectors-crawl/cc.pl.300.bin.gz"
      ],
      "execution_count": 9,
      "outputs": [
        {
          "output_type": "stream",
          "text": [
            "--2021-01-13 22:07:57--  https://dl.fbaipublicfiles.com/fasttext/vectors-crawl/cc.pl.300.bin.gz\n",
            "Resolving dl.fbaipublicfiles.com (dl.fbaipublicfiles.com)... 104.22.75.142, 104.22.74.142, 172.67.9.4, ...\n",
            "Connecting to dl.fbaipublicfiles.com (dl.fbaipublicfiles.com)|104.22.75.142|:443... connected.\n",
            "HTTP request sent, awaiting response... 200 OK\n",
            "Length: 4503081312 (4.2G) [application/octet-stream]\n",
            "Saving to: ‘cc.pl.300.bin.gz’\n",
            "\n",
            "cc.pl.300.bin.gz    100%[===================>]   4.19G  13.2MB/s    in 5m 29s  \n",
            "\n",
            "2021-01-13 22:13:27 (13.1 MB/s) - ‘cc.pl.300.bin.gz’ saved [4503081312/4503081312]\n",
            "\n"
          ],
          "name": "stdout"
        }
      ]
    },
    {
      "cell_type": "code",
      "metadata": {
        "colab": {
          "base_uri": "https://localhost:8080/"
        },
        "id": "rY5GIfOtyn0q",
        "outputId": "d9429389-60f1-4b51-bd1d-269f3472fa41"
      },
      "source": [
        "!7za x cc.pl.300.bin.gz"
      ],
      "execution_count": 10,
      "outputs": [
        {
          "output_type": "stream",
          "text": [
            "\n",
            "7-Zip (a) [64] 16.02 : Copyright (c) 1999-2016 Igor Pavlov : 2016-05-21\n",
            "p7zip Version 16.02 (locale=en_US.UTF-8,Utf16=on,HugeFiles=on,64 bits,2 CPUs AMD EPYC 7B12 (830F10),ASM,AES-NI)\n",
            "\n",
            "Scanning the drive for archives:\n",
            "  0M Scan\b\b\b\b\b\b\b\b\b         \b\b\b\b\b\b\b\b\b1 file, 4503081312 bytes (4295 MiB)\n",
            "\n",
            "Extracting archive: cc.pl.300.bin.gz\n",
            "--\n",
            "Path = cc.pl.300.bin.gz\n",
            "Type = gzip\n",
            "Headers Size = 24\n",
            "\n",
            "  0% - cc.pl.300.bin\b\b\b\b\b\b\b\b\b\b\b\b\b\b\b\b\b\b\b\b                    \b\b\b\b\b\b\b\b\b\b\b\b\b\b\b\b\b\b\b\b  1% - cc.pl.300.bin\b\b\b\b\b\b\b\b\b\b\b\b\b\b\b\b\b\b\b\b                    \b\b\b\b\b\b\b\b\b\b\b\b\b\b\b\b\b\b\b\b  2% - cc.pl.300.bin\b\b\b\b\b\b\b\b\b\b\b\b\b\b\b\b\b\b\b\b                    \b\b\b\b\b\b\b\b\b\b\b\b\b\b\b\b\b\b\b\b  3% - cc.pl.300.bin\b\b\b\b\b\b\b\b\b\b\b\b\b\b\b\b\b\b\b\b                    \b\b\b\b\b\b\b\b\b\b\b\b\b\b\b\b\b\b\b\b  4% - cc.pl.300.bin\b\b\b\b\b\b\b\b\b\b\b\b\b\b\b\b\b\b\b\b                    \b\b\b\b\b\b\b\b\b\b\b\b\b\b\b\b\b\b\b\b  5% - cc.pl.300.bin\b\b\b\b\b\b\b\b\b\b\b\b\b\b\b\b\b\b\b\b                    \b\b\b\b\b\b\b\b\b\b\b\b\b\b\b\b\b\b\b\b  6% - cc.pl.300.bin\b\b\b\b\b\b\b\b\b\b\b\b\b\b\b\b\b\b\b\b                    \b\b\b\b\b\b\b\b\b\b\b\b\b\b\b\b\b\b\b\b  7% - cc.pl.300.bin\b\b\b\b\b\b\b\b\b\b\b\b\b\b\b\b\b\b\b\b                    \b\b\b\b\b\b\b\b\b\b\b\b\b\b\b\b\b\b\b\b  8% - cc.pl.300.bin\b\b\b\b\b\b\b\b\b\b\b\b\b\b\b\b\b\b\b\b                    \b\b\b\b\b\b\b\b\b\b\b\b\b\b\b\b\b\b\b\b  9% - cc.pl.300.bin\b\b\b\b\b\b\b\b\b\b\b\b\b\b\b\b\b\b\b\b                    \b\b\b\b\b\b\b\b\b\b\b\b\b\b\b\b\b\b\b\b 10% - cc.pl.300.bin\b\b\b\b\b\b\b\b\b\b\b\b\b\b\b\b\b\b\b\b                    \b\b\b\b\b\b\b\b\b\b\b\b\b\b\b\b\b\b\b\b 11% - cc.pl.300.bin\b\b\b\b\b\b\b\b\b\b\b\b\b\b\b\b\b\b\b\b                    \b\b\b\b\b\b\b\b\b\b\b\b\b\b\b\b\b\b\b\b 12% - cc.pl.300.bin\b\b\b\b\b\b\b\b\b\b\b\b\b\b\b\b\b\b\b\b                    \b\b\b\b\b\b\b\b\b\b\b\b\b\b\b\b\b\b\b\b 13% - cc.pl.300.bin\b\b\b\b\b\b\b\b\b\b\b\b\b\b\b\b\b\b\b\b                    \b\b\b\b\b\b\b\b\b\b\b\b\b\b\b\b\b\b\b\b 14% - cc.pl.300.bin\b\b\b\b\b\b\b\b\b\b\b\b\b\b\b\b\b\b\b\b                    \b\b\b\b\b\b\b\b\b\b\b\b\b\b\b\b\b\b\b\b 15% - cc.pl.300.bin\b\b\b\b\b\b\b\b\b\b\b\b\b\b\b\b\b\b\b\b                    \b\b\b\b\b\b\b\b\b\b\b\b\b\b\b\b\b\b\b\b 16% - cc.pl.300.bin\b\b\b\b\b\b\b\b\b\b\b\b\b\b\b\b\b\b\b\b                    \b\b\b\b\b\b\b\b\b\b\b\b\b\b\b\b\b\b\b\b 17% - cc.pl.300.bin\b\b\b\b\b\b\b\b\b\b\b\b\b\b\b\b\b\b\b\b                    \b\b\b\b\b\b\b\b\b\b\b\b\b\b\b\b\b\b\b\b 18% - cc.pl.300.bin\b\b\b\b\b\b\b\b\b\b\b\b\b\b\b\b\b\b\b\b                    \b\b\b\b\b\b\b\b\b\b\b\b\b\b\b\b\b\b\b\b 19% - cc.pl.300.bin\b\b\b\b\b\b\b\b\b\b\b\b\b\b\b\b\b\b\b\b                    \b\b\b\b\b\b\b\b\b\b\b\b\b\b\b\b\b\b\b\b 20% - cc.pl.300.bin\b\b\b\b\b\b\b\b\b\b\b\b\b\b\b\b\b\b\b\b                    \b\b\b\b\b\b\b\b\b\b\b\b\b\b\b\b\b\b\b\b 21% - cc.pl.300.bin\b\b\b\b\b\b\b\b\b\b\b\b\b\b\b\b\b\b\b\b                    \b\b\b\b\b\b\b\b\b\b\b\b\b\b\b\b\b\b\b\b 22% - cc.pl.300.bin\b\b\b\b\b\b\b\b\b\b\b\b\b\b\b\b\b\b\b\b                    \b\b\b\b\b\b\b\b\b\b\b\b\b\b\b\b\b\b\b\b 23% - cc.pl.300.bin\b\b\b\b\b\b\b\b\b\b\b\b\b\b\b\b\b\b\b\b                    \b\b\b\b\b\b\b\b\b\b\b\b\b\b\b\b\b\b\b\b 24% - cc.pl.300.bin\b\b\b\b\b\b\b\b\b\b\b\b\b\b\b\b\b\b\b\b                    \b\b\b\b\b\b\b\b\b\b\b\b\b\b\b\b\b\b\b\b 25% - cc.pl.300.bin\b\b\b\b\b\b\b\b\b\b\b\b\b\b\b\b\b\b\b\b                    \b\b\b\b\b\b\b\b\b\b\b\b\b\b\b\b\b\b\b\b 26% - cc.pl.300.bin\b\b\b\b\b\b\b\b\b\b\b\b\b\b\b\b\b\b\b\b                    \b\b\b\b\b\b\b\b\b\b\b\b\b\b\b\b\b\b\b\b 27% - cc.pl.300.bin\b\b\b\b\b\b\b\b\b\b\b\b\b\b\b\b\b\b\b\b                    \b\b\b\b\b\b\b\b\b\b\b\b\b\b\b\b\b\b\b\b 28% - cc.pl.300.bin\b\b\b\b\b\b\b\b\b\b\b\b\b\b\b\b\b\b\b\b                    \b\b\b\b\b\b\b\b\b\b\b\b\b\b\b\b\b\b\b\b 29% - cc.pl.300.bin\b\b\b\b\b\b\b\b\b\b\b\b\b\b\b\b\b\b\b\b                    \b\b\b\b\b\b\b\b\b\b\b\b\b\b\b\b\b\b\b\b 30% - cc.pl.300.bin\b\b\b\b\b\b\b\b\b\b\b\b\b\b\b\b\b\b\b\b                    \b\b\b\b\b\b\b\b\b\b\b\b\b\b\b\b\b\b\b\b 31% - cc.pl.300.bin\b\b\b\b\b\b\b\b\b\b\b\b\b\b\b\b\b\b\b\b                    \b\b\b\b\b\b\b\b\b\b\b\b\b\b\b\b\b\b\b\b 32% - cc.pl.300.bin\b\b\b\b\b\b\b\b\b\b\b\b\b\b\b\b\b\b\b\b                    \b\b\b\b\b\b\b\b\b\b\b\b\b\b\b\b\b\b\b\b 33% - cc.pl.300.bin\b\b\b\b\b\b\b\b\b\b\b\b\b\b\b\b\b\b\b\b                    \b\b\b\b\b\b\b\b\b\b\b\b\b\b\b\b\b\b\b\b 34% - cc.pl.300.bin\b\b\b\b\b\b\b\b\b\b\b\b\b\b\b\b\b\b\b\b                    \b\b\b\b\b\b\b\b\b\b\b\b\b\b\b\b\b\b\b\b 35% - cc.pl.300.bin\b\b\b\b\b\b\b\b\b\b\b\b\b\b\b\b\b\b\b\b                    \b\b\b\b\b\b\b\b\b\b\b\b\b\b\b\b\b\b\b\b 36% - cc.pl.300.bin\b\b\b\b\b\b\b\b\b\b\b\b\b\b\b\b\b\b\b\b                    \b\b\b\b\b\b\b\b\b\b\b\b\b\b\b\b\b\b\b\b 37% - cc.pl.300.bin\b\b\b\b\b\b\b\b\b\b\b\b\b\b\b\b\b\b\b\b                    \b\b\b\b\b\b\b\b\b\b\b\b\b\b\b\b\b\b\b\b 38% - cc.pl.300.bin\b\b\b\b\b\b\b\b\b\b\b\b\b\b\b\b\b\b\b\b                    \b\b\b\b\b\b\b\b\b\b\b\b\b\b\b\b\b\b\b\b 39% - cc.pl.300.bin\b\b\b\b\b\b\b\b\b\b\b\b\b\b\b\b\b\b\b\b                    \b\b\b\b\b\b\b\b\b\b\b\b\b\b\b\b\b\b\b\b 40% - cc.pl.300.bin\b\b\b\b\b\b\b\b\b\b\b\b\b\b\b\b\b\b\b\b                    \b\b\b\b\b\b\b\b\b\b\b\b\b\b\b\b\b\b\b\b 41% - cc.pl.300.bin\b\b\b\b\b\b\b\b\b\b\b\b\b\b\b\b\b\b\b\b                    \b\b\b\b\b\b\b\b\b\b\b\b\b\b\b\b\b\b\b\b 42% - cc.pl.300.bin\b\b\b\b\b\b\b\b\b\b\b\b\b\b\b\b\b\b\b\b                    \b\b\b\b\b\b\b\b\b\b\b\b\b\b\b\b\b\b\b\b 43% - cc.pl.300.bin\b\b\b\b\b\b\b\b\b\b\b\b\b\b\b\b\b\b\b\b                    \b\b\b\b\b\b\b\b\b\b\b\b\b\b\b\b\b\b\b\b 44% - cc.pl.300.bin\b\b\b\b\b\b\b\b\b\b\b\b\b\b\b\b\b\b\b\b                    \b\b\b\b\b\b\b\b\b\b\b\b\b\b\b\b\b\b\b\b 45% - cc.pl.300.bin\b\b\b\b\b\b\b\b\b\b\b\b\b\b\b\b\b\b\b\b                    \b\b\b\b\b\b\b\b\b\b\b\b\b\b\b\b\b\b\b\b 46% - cc.pl.300.bin\b\b\b\b\b\b\b\b\b\b\b\b\b\b\b\b\b\b\b\b                    \b\b\b\b\b\b\b\b\b\b\b\b\b\b\b\b\b\b\b\b 47% - cc.pl.300.bin\b\b\b\b\b\b\b\b\b\b\b\b\b\b\b\b\b\b\b\b                    \b\b\b\b\b\b\b\b\b\b\b\b\b\b\b\b\b\b\b\b 48% - cc.pl.300.bin\b\b\b\b\b\b\b\b\b\b\b\b\b\b\b\b\b\b\b\b                    \b\b\b\b\b\b\b\b\b\b\b\b\b\b\b\b\b\b\b\b 49% - cc.pl.300.bin\b\b\b\b\b\b\b\b\b\b\b\b\b\b\b\b\b\b\b\b                    \b\b\b\b\b\b\b\b\b\b\b\b\b\b\b\b\b\b\b\b 50% - cc.pl.300.bin\b\b\b\b\b\b\b\b\b\b\b\b\b\b\b\b\b\b\b\b                    \b\b\b\b\b\b\b\b\b\b\b\b\b\b\b\b\b\b\b\b 51% - cc.pl.300.bin\b\b\b\b\b\b\b\b\b\b\b\b\b\b\b\b\b\b\b\b                    \b\b\b\b\b\b\b\b\b\b\b\b\b\b\b\b\b\b\b\b 52% - cc.pl.300.bin\b\b\b\b\b\b\b\b\b\b\b\b\b\b\b\b\b\b\b\b                    \b\b\b\b\b\b\b\b\b\b\b\b\b\b\b\b\b\b\b\b 53% - cc.pl.300.bin\b\b\b\b\b\b\b\b\b\b\b\b\b\b\b\b\b\b\b\b                    \b\b\b\b\b\b\b\b\b\b\b\b\b\b\b\b\b\b\b\b 54% - cc.pl.300.bin\b\b\b\b\b\b\b\b\b\b\b\b\b\b\b\b\b\b\b\b                    \b\b\b\b\b\b\b\b\b\b\b\b\b\b\b\b\b\b\b\b 55% - cc.pl.300.bin\b\b\b\b\b\b\b\b\b\b\b\b\b\b\b\b\b\b\b\b                    \b\b\b\b\b\b\b\b\b\b\b\b\b\b\b\b\b\b\b\b 56% - cc.pl.300.bin\b\b\b\b\b\b\b\b\b\b\b\b\b\b\b\b\b\b\b\b                    \b\b\b\b\b\b\b\b\b\b\b\b\b\b\b\b\b\b\b\b 57% - cc.pl.300.bin\b\b\b\b\b\b\b\b\b\b\b\b\b\b\b\b\b\b\b\b                    \b\b\b\b\b\b\b\b\b\b\b\b\b\b\b\b\b\b\b\b 58% - cc.pl.300.bin\b\b\b\b\b\b\b\b\b\b\b\b\b\b\b\b\b\b\b\b                    \b\b\b\b\b\b\b\b\b\b\b\b\b\b\b\b\b\b\b\b 59% - cc.pl.300.bin\b\b\b\b\b\b\b\b\b\b\b\b\b\b\b\b\b\b\b\b                    \b\b\b\b\b\b\b\b\b\b\b\b\b\b\b\b\b\b\b\b 60% - cc.pl.300.bin\b\b\b\b\b\b\b\b\b\b\b\b\b\b\b\b\b\b\b\b                    \b\b\b\b\b\b\b\b\b\b\b\b\b\b\b\b\b\b\b\b 61% - cc.pl.300.bin\b\b\b\b\b\b\b\b\b\b\b\b\b\b\b\b\b\b\b\b                    \b\b\b\b\b\b\b\b\b\b\b\b\b\b\b\b\b\b\b\b 62% - cc.pl.300.bin\b\b\b\b\b\b\b\b\b\b\b\b\b\b\b\b\b\b\b\b                    \b\b\b\b\b\b\b\b\b\b\b\b\b\b\b\b\b\b\b\b 63% - cc.pl.300.bin\b\b\b\b\b\b\b\b\b\b\b\b\b\b\b\b\b\b\b\b                    \b\b\b\b\b\b\b\b\b\b\b\b\b\b\b\b\b\b\b\b 64% - cc.pl.300.bin\b\b\b\b\b\b\b\b\b\b\b\b\b\b\b\b\b\b\b\b                    \b\b\b\b\b\b\b\b\b\b\b\b\b\b\b\b\b\b\b\b 65% - cc.pl.300.bin\b\b\b\b\b\b\b\b\b\b\b\b\b\b\b\b\b\b\b\b                    \b\b\b\b\b\b\b\b\b\b\b\b\b\b\b\b\b\b\b\b 66% - cc.pl.300.bin\b\b\b\b\b\b\b\b\b\b\b\b\b\b\b\b\b\b\b\b                    \b\b\b\b\b\b\b\b\b\b\b\b\b\b\b\b\b\b\b\b 67% - cc.pl.300.bin\b\b\b\b\b\b\b\b\b\b\b\b\b\b\b\b\b\b\b\b                    \b\b\b\b\b\b\b\b\b\b\b\b\b\b\b\b\b\b\b\b 68% - cc.pl.300.bin\b\b\b\b\b\b\b\b\b\b\b\b\b\b\b\b\b\b\b\b                    \b\b\b\b\b\b\b\b\b\b\b\b\b\b\b\b\b\b\b\b 69% - cc.pl.300.bin\b\b\b\b\b\b\b\b\b\b\b\b\b\b\b\b\b\b\b\b                    \b\b\b\b\b\b\b\b\b\b\b\b\b\b\b\b\b\b\b\b 70% - cc.pl.300.bin\b\b\b\b\b\b\b\b\b\b\b\b\b\b\b\b\b\b\b\b                    \b\b\b\b\b\b\b\b\b\b\b\b\b\b\b\b\b\b\b\b 71% - cc.pl.300.bin\b\b\b\b\b\b\b\b\b\b\b\b\b\b\b\b\b\b\b\b                    \b\b\b\b\b\b\b\b\b\b\b\b\b\b\b\b\b\b\b\b 72% - cc.pl.300.bin\b\b\b\b\b\b\b\b\b\b\b\b\b\b\b\b\b\b\b\b                    \b\b\b\b\b\b\b\b\b\b\b\b\b\b\b\b\b\b\b\b 73% - cc.pl.300.bin\b\b\b\b\b\b\b\b\b\b\b\b\b\b\b\b\b\b\b\b                    \b\b\b\b\b\b\b\b\b\b\b\b\b\b\b\b\b\b\b\b 74% - cc.pl.300.bin\b\b\b\b\b\b\b\b\b\b\b\b\b\b\b\b\b\b\b\b                    \b\b\b\b\b\b\b\b\b\b\b\b\b\b\b\b\b\b\b\b 75% - cc.pl.300.bin\b\b\b\b\b\b\b\b\b\b\b\b\b\b\b\b\b\b\b\b                    \b\b\b\b\b\b\b\b\b\b\b\b\b\b\b\b\b\b\b\b 76% - cc.pl.300.bin\b\b\b\b\b\b\b\b\b\b\b\b\b\b\b\b\b\b\b\b                    \b\b\b\b\b\b\b\b\b\b\b\b\b\b\b\b\b\b\b\b 77% - cc.pl.300.bin\b\b\b\b\b\b\b\b\b\b\b\b\b\b\b\b\b\b\b\b                    \b\b\b\b\b\b\b\b\b\b\b\b\b\b\b\b\b\b\b\b 78% - cc.pl.300.bin\b\b\b\b\b\b\b\b\b\b\b\b\b\b\b\b\b\b\b\b                    \b\b\b\b\b\b\b\b\b\b\b\b\b\b\b\b\b\b\b\b 79% - cc.pl.300.bin\b\b\b\b\b\b\b\b\b\b\b\b\b\b\b\b\b\b\b\b                    \b\b\b\b\b\b\b\b\b\b\b\b\b\b\b\b\b\b\b\b 80% - cc.pl.300.bin\b\b\b\b\b\b\b\b\b\b\b\b\b\b\b\b\b\b\b\b                    \b\b\b\b\b\b\b\b\b\b\b\b\b\b\b\b\b\b\b\b 81% - cc.pl.300.bin\b\b\b\b\b\b\b\b\b\b\b\b\b\b\b\b\b\b\b\b                    \b\b\b\b\b\b\b\b\b\b\b\b\b\b\b\b\b\b\b\b 82% - cc.pl.300.bin\b\b\b\b\b\b\b\b\b\b\b\b\b\b\b\b\b\b\b\b                    \b\b\b\b\b\b\b\b\b\b\b\b\b\b\b\b\b\b\b\b 83% - cc.pl.300.bin\b\b\b\b\b\b\b\b\b\b\b\b\b\b\b\b\b\b\b\b                    \b\b\b\b\b\b\b\b\b\b\b\b\b\b\b\b\b\b\b\b 84% - cc.pl.300.bin\b\b\b\b\b\b\b\b\b\b\b\b\b\b\b\b\b\b\b\b                    \b\b\b\b\b\b\b\b\b\b\b\b\b\b\b\b\b\b\b\b 85% - cc.pl.300.bin\b\b\b\b\b\b\b\b\b\b\b\b\b\b\b\b\b\b\b\b                    \b\b\b\b\b\b\b\b\b\b\b\b\b\b\b\b\b\b\b\b 86% - cc.pl.300.bin\b\b\b\b\b\b\b\b\b\b\b\b\b\b\b\b\b\b\b\b                    \b\b\b\b\b\b\b\b\b\b\b\b\b\b\b\b\b\b\b\b 87% - cc.pl.300.bin\b\b\b\b\b\b\b\b\b\b\b\b\b\b\b\b\b\b\b\b                    \b\b\b\b\b\b\b\b\b\b\b\b\b\b\b\b\b\b\b\b 88% - cc.pl.300.bin\b\b\b\b\b\b\b\b\b\b\b\b\b\b\b\b\b\b\b\b                    \b\b\b\b\b\b\b\b\b\b\b\b\b\b\b\b\b\b\b\b 89% - cc.pl.300.bin\b\b\b\b\b\b\b\b\b\b\b\b\b\b\b\b\b\b\b\b                    \b\b\b\b\b\b\b\b\b\b\b\b\b\b\b\b\b\b\b\b 90% - cc.pl.300.bin\b\b\b\b\b\b\b\b\b\b\b\b\b\b\b\b\b\b\b\b                    \b\b\b\b\b\b\b\b\b\b\b\b\b\b\b\b\b\b\b\b 91% - cc.pl.300.bin\b\b\b\b\b\b\b\b\b\b\b\b\b\b\b\b\b\b\b\b                    \b\b\b\b\b\b\b\b\b\b\b\b\b\b\b\b\b\b\b\b 92% - cc.pl.300.bin\b\b\b\b\b\b\b\b\b\b\b\b\b\b\b\b\b\b\b\b                    \b\b\b\b\b\b\b\b\b\b\b\b\b\b\b\b\b\b\b\b 93% - cc.pl.300.bin\b\b\b\b\b\b\b\b\b\b\b\b\b\b\b\b\b\b\b\b                    \b\b\b\b\b\b\b\b\b\b\b\b\b\b\b\b\b\b\b\b 94% - cc.pl.300.bin\b\b\b\b\b\b\b\b\b\b\b\b\b\b\b\b\b\b\b\b                    \b\b\b\b\b\b\b\b\b\b\b\b\b\b\b\b\b\b\b\b 95% - cc.pl.300.bin\b\b\b\b\b\b\b\b\b\b\b\b\b\b\b\b\b\b\b\b                    \b\b\b\b\b\b\b\b\b\b\b\b\b\b\b\b\b\b\b\b 96% - cc.pl.300.bin\b\b\b\b\b\b\b\b\b\b\b\b\b\b\b\b\b\b\b\b                    \b\b\b\b\b\b\b\b\b\b\b\b\b\b\b\b\b\b\b\b 97% - cc.pl.300.bin\b\b\b\b\b\b\b\b\b\b\b\b\b\b\b\b\b\b\b\b                    \b\b\b\b\b\b\b\b\b\b\b\b\b\b\b\b\b\b\b\b 98% - cc.pl.300.bin\b\b\b\b\b\b\b\b\b\b\b\b\b\b\b\b\b\b\b\b                    \b\b\b\b\b\b\b\b\b\b\b\b\b\b\b\b\b\b\b\b 99% - cc.pl.300.bin\b\b\b\b\b\b\b\b\b\b\b\b\b\b\b\b\b\b\b\b                    \b\b\b\b\b\b\b\b\b\b\b\b\b\b\b\b\b\b\b\b100% - cc.pl.300.bin\b\b\b\b\b\b\b\b\b\b\b\b\b\b\b\b\b\b\b\b                    \b\b\b\b\b\b\b\b\b\b\b\b\b\b\b\b\b\b\b\bEverything is Ok\n",
            "\n",
            "Size:       7239846128\n",
            "Compressed: 4503081312\n"
          ],
          "name": "stdout"
        }
      ]
    },
    {
      "cell_type": "code",
      "metadata": {
        "id": "97bQu4NryqHS"
      },
      "source": [
        "fasttext_model = fasttext.load_model('cc.pl.300.bin')"
      ],
      "execution_count": 11,
      "outputs": []
    },
    {
      "cell_type": "code",
      "metadata": {
        "colab": {
          "base_uri": "https://localhost:8080/"
        },
        "id": "Q0bCm3WkyvS4",
        "outputId": "4c87153a-7d2b-4ca7-90e6-953ead928c22"
      },
      "source": [
        "train_embeddings = np.zeros((train_data.shape[0], 300))\r\n",
        "for index, row in tqdm.tqdm(train_data.iterrows(), total=train_data.shape[0]):\r\n",
        "            vector = fasttext_model.get_sentence_vector(row['text'])\r\n",
        "            train_embeddings[index, :] = vector"
      ],
      "execution_count": 12,
      "outputs": [
        {
          "output_type": "stream",
          "text": [
            "100%|██████████| 10041/10041 [00:02<00:00, 4374.79it/s]\n"
          ],
          "name": "stderr"
        }
      ]
    },
    {
      "cell_type": "code",
      "metadata": {
        "colab": {
          "base_uri": "https://localhost:8080/"
        },
        "id": "qPHq2SoMyvV8",
        "outputId": "1a3f266d-8cf3-424c-ceb8-6f5568001ed8"
      },
      "source": [
        "test_embeddings = np.zeros((test_data.shape[0], 300))\r\n",
        "for index, row in tqdm.tqdm(test_data.iterrows(), total=test_data.shape[0]):\r\n",
        "            vector = fasttext_model.get_sentence_vector(row['text'])\r\n",
        "            test_embeddings[index, :] = vector"
      ],
      "execution_count": 13,
      "outputs": [
        {
          "output_type": "stream",
          "text": [
            "100%|██████████| 1000/1000 [00:00<00:00, 3999.97it/s]\n"
          ],
          "name": "stderr"
        }
      ]
    },
    {
      "cell_type": "code",
      "metadata": {
        "id": "1g1BNPo_yva3"
      },
      "source": [
        "def check_svm(c=1.0, downsampling=True, ratio=1.0):\r\n",
        "    accuracy, recall, precision, f1, macro_f1 = [], [], [], [], []\r\n",
        "    X_train, X_test = train_embeddings, test_embeddings\r\n",
        "    y_train, y_test = train_data.tags.to_numpy(), test_data.tags.to_numpy()\r\n",
        "    if downsampling:\r\n",
        "      offensive_indices = np.where(y_train == 1)[0]\r\n",
        "      nonoffensive_indices = np.where(y_train == 0)[0]\r\n",
        "      sampled_nonoffensive_indices = np.random.choice(nonoffensive_indices,\r\n",
        "                                                        size=int(ratio * len(offensive_indices)),\r\n",
        "                                                        replace=False)\r\n",
        "      indices = np.concatenate((offensive_indices, sampled_nonoffensive_indices))\r\n",
        "      np.random.shuffle(indices)\r\n",
        "      downsampled_y = y_train[indices]\r\n",
        "      downsampled_X = X_train[indices, :]\r\n",
        "    else:\r\n",
        "      downsampled_y, downsampled_X = y_train, X_train\r\n",
        "    clf = SVC(C=c)\r\n",
        "    clf.fit(downsampled_X, downsampled_y)\r\n",
        "    preds = clf.predict(X_test)\r\n",
        "    accuracy.append(accuracy_score(y_test, preds))\r\n",
        "    precision.append(precision_score(y_test, preds))\r\n",
        "    recall.append(recall_score(y_test, preds))\r\n",
        "    f1.append(f1_score(y_test, preds))\r\n",
        "    macro_f1.append(f1_score(y_test, preds, average='macro'))\r\n",
        "    return accuracy, recall, precision, f1, macro_f1"
      ],
      "execution_count": 21,
      "outputs": []
    },
    {
      "cell_type": "code",
      "metadata": {
        "colab": {
          "base_uri": "https://localhost:8080/"
        },
        "id": "Wf6iyxSkzvRM",
        "outputId": "117ac988-8c4c-4ffc-eb8b-b4cf911beb6f"
      },
      "source": [
        "accuracy, recall, precision, f1, macro_f1 = check_svm(10.0, False)\r\n",
        "print(f'Avg accuracy: {np.array(accuracy).mean()}')\r\n",
        "print(f'Avg precision: {np.array(precision).mean()}')\r\n",
        "print(f'Avg recall: {np.array(recall).mean()}')\r\n",
        "print(f'Avg F1-Score: {np.array(f1).mean()}')\r\n",
        "print(f'Avg macro F1-Score: {np.array(macro_f1).mean()}')"
      ],
      "execution_count": 22,
      "outputs": [
        {
          "output_type": "stream",
          "text": [
            "Avg accuracy: 0.89\n",
            "Avg precision: 0.7857142857142857\n",
            "Avg recall: 0.2462686567164179\n",
            "Avg F1-Score: 0.375\n",
            "Avg macro F1-Score: 0.6573464912280702\n"
          ],
          "name": "stdout"
        }
      ]
    },
    {
      "cell_type": "code",
      "metadata": {
        "colab": {
          "base_uri": "https://localhost:8080/"
        },
        "id": "qurdGIbGz1DS",
        "outputId": "97bd22c7-a2f2-4f1d-e43a-e82ce6a8fd38"
      },
      "source": [
        "accuracy, recall, precision, f1, macro_f1 = check_svm(10.0, True, 1)\r\n",
        "print(f'Avg accuracy: {np.array(accuracy).mean()}')\r\n",
        "print(f'Avg precision: {np.array(precision).mean()}')\r\n",
        "print(f'Avg recall: {np.array(recall).mean()}')\r\n",
        "print(f'Avg F1-Score: {np.array(f1).mean()}')\r\n",
        "print(f'Avg macro F1-Score: {np.array(macro_f1).mean()}')"
      ],
      "execution_count": 23,
      "outputs": [
        {
          "output_type": "stream",
          "text": [
            "Avg accuracy: 0.825\n",
            "Avg precision: 0.41832669322709165\n",
            "Avg recall: 0.7835820895522388\n",
            "Avg F1-Score: 0.5454545454545455\n",
            "Avg macro F1-Score: 0.7185477061638053\n"
          ],
          "name": "stdout"
        }
      ]
    },
    {
      "cell_type": "code",
      "metadata": {
        "colab": {
          "base_uri": "https://localhost:8080/"
        },
        "id": "TiIla3_Cyvr2",
        "outputId": "e7b41d54-cbf0-4f85-9205-6b4df52f2278"
      },
      "source": [
        "accuracy, recall, precision, f1, macro_f1 = check_svm(1.0, True, 1)\r\n",
        "print(f'Avg accuracy: {np.array(accuracy).mean()}')\r\n",
        "print(f'Avg precision: {np.array(precision).mean()}')\r\n",
        "print(f'Avg recall: {np.array(recall).mean()}')\r\n",
        "print(f'Avg F1-Score: {np.array(f1).mean()}')\r\n",
        "print(f'Avg macro F1-Score: {np.array(macro_f1).mean()}')"
      ],
      "execution_count": 24,
      "outputs": [
        {
          "output_type": "stream",
          "text": [
            "Avg accuracy: 0.841\n",
            "Avg precision: 0.44813278008298757\n",
            "Avg recall: 0.8059701492537313\n",
            "Avg F1-Score: 0.576\n",
            "Avg macro F1-Score: 0.7390769230769231\n"
          ],
          "name": "stdout"
        }
      ]
    },
    {
      "cell_type": "code",
      "metadata": {
        "colab": {
          "base_uri": "https://localhost:8080/"
        },
        "id": "ySGUvmbhz509",
        "outputId": "f4585241-e1c7-4655-fdac-3e1512c64878"
      },
      "source": [
        "accuracy, recall, precision, f1, macro_f1 = check_svm(1.0, True, 2)\r\n",
        "print(f'Avg accuracy: {np.array(accuracy).mean()}')\r\n",
        "print(f'Avg precision: {np.array(precision).mean()}')\r\n",
        "print(f'Avg recall: {np.array(recall).mean()}')\r\n",
        "print(f'Avg F1-Score: {np.array(f1).mean()}')\r\n",
        "print(f'Avg macro F1-Score: {np.array(macro_f1).mean()}')"
      ],
      "execution_count": 25,
      "outputs": [
        {
          "output_type": "stream",
          "text": [
            "Avg accuracy: 0.888\n",
            "Avg precision: 0.5774647887323944\n",
            "Avg recall: 0.6119402985074627\n",
            "Avg F1-Score: 0.5942028985507247\n",
            "Avg macro F1-Score: 0.7646188506674738\n"
          ],
          "name": "stdout"
        }
      ]
    },
    {
      "cell_type": "code",
      "metadata": {
        "id": "UxOrCEj7yckw"
      },
      "source": [
        "def check_nn(downsampling=True, ratio=1.0, weighting=True, weights_dict=None,\r\n",
        "             batch_size=200, epochs=50, only_one=False):\r\n",
        "    accuracy, recall, precision, f1, macro_f1 = [], [], [], [], []\r\n",
        "  \r\n",
        "    X_train, X_test = train_embeddings, test_embeddings\r\n",
        "    y_train, y_test = train_data.tags.to_numpy(), test_data.tags.to_numpy()\r\n",
        "    if downsampling:\r\n",
        "          offensive_indices = np.where(y_train == 1)[0]\r\n",
        "          nonoffensive_indices = np.where(y_train == 0)[0]\r\n",
        "          sampled_nonoffensive_indices = np.random.choice(nonoffensive_indices,\r\n",
        "                                                          size=int(ratio * len(offensive_indices)),\r\n",
        "                                                          replace=False)\r\n",
        "          indices = np.concatenate((offensive_indices, sampled_nonoffensive_indices))\r\n",
        "          np.random.shuffle(indices)\r\n",
        "          downsampled_y = y_train[indices]\r\n",
        "          downsampled_X = X_train[indices, :]    \r\n",
        "    else:\r\n",
        "        downsampled_y, downsampled_X = y_train, X_train\r\n",
        "    if weighting and weights_dict is None:\r\n",
        "        class_weights = class_weight.compute_class_weight('balanced',\r\n",
        "                                                        np.unique(downsampled_y),\r\n",
        "                                                        downsampled_y)\r\n",
        "        weights_dict = dict(enumerate(class_weights))\r\n",
        "\r\n",
        "    keras_nn = keras.Sequential([layers.Dense(128, activation=\"relu\"),\r\n",
        "                                 layers.Dropout(0.5),\r\n",
        "                                 layers.Dense(32, activation=\"relu\"),\r\n",
        "                                 layers.Dense(1, activation='sigmoid')])\r\n",
        "    opt = keras.optimizers.Adam(0.001)\r\n",
        "    keras_nn.compile(loss='binary_crossentropy', optimizer=opt, \r\n",
        "                     metrics=[tf.keras.metrics.Recall(name=\"recall\"), tf.keras.metrics.Precision(name=\"prec\")])\r\n",
        "    if only_one:\r\n",
        "      keras_nn.fit(X_train, y_train, batch_size=batch_size, epochs=epochs,\r\n",
        "                   validation_data=(X_test, y_test), class_weight=weights_dict)\r\n",
        "    if weighting:\r\n",
        "      keras_nn.fit(X_train, y_train, batch_size=batch_size, \r\n",
        "                   class_weight=weights_dict, epochs=epochs, verbose=0)\r\n",
        "    else:\r\n",
        "      keras_nn.fit(X_train, y_train, batch_size=batch_size,\r\n",
        "                   epochs=epochs, verbose=0)\r\n",
        "    preds = np.round(keras_nn.predict(X_test))\r\n",
        "    accuracy.append(accuracy_score(y_test, preds))\r\n",
        "    precision.append(precision_score(y_test, preds))\r\n",
        "    recall.append(recall_score(y_test, preds))\r\n",
        "    f1.append(f1_score(y_test, preds))\r\n",
        "    macro_f1.append(f1_score(y_test, preds, average='macro'))\r\n",
        "    return accuracy, recall, precision, f1, macro_f1"
      ],
      "execution_count": 29,
      "outputs": []
    },
    {
      "cell_type": "code",
      "metadata": {
        "colab": {
          "base_uri": "https://localhost:8080/"
        },
        "id": "X6iBENcz2KrU",
        "outputId": "9d73e8f4-f941-458a-e7c2-e9eab8a8b67b"
      },
      "source": [
        "acc, recall, prec, f1, macro_f1 = check_nn(downsampling=False, weighting=True, \r\n",
        "                                           weights_dict=None, batch_size=200, epochs=50)\r\n",
        "print(f'Avg accuracy: {np.array(acc).mean()}')\r\n",
        "print(f'Avg precision: {np.array(prec).mean()}')\r\n",
        "print(f'Avg recall: {np.array(recall).mean()}')\r\n",
        "print(f'Avg F1-Score: {np.array(f1).mean()}')\r\n",
        "print(f'Avg macro F1-Score: {np.array(macro_f1).mean()}')"
      ],
      "execution_count": 30,
      "outputs": [
        {
          "output_type": "stream",
          "text": [
            "Avg accuracy: 0.888\n",
            "Avg precision: 0.5733333333333334\n",
            "Avg recall: 0.6417910447761194\n",
            "Avg F1-Score: 0.6056338028169014\n",
            "Avg macro F1-Score: 0.7701828687744181\n"
          ],
          "name": "stdout"
        }
      ]
    },
    {
      "cell_type": "code",
      "metadata": {
        "colab": {
          "base_uri": "https://localhost:8080/"
        },
        "id": "3xTCOHuP2pHg",
        "outputId": "050e2bc1-74f9-4049-e2d2-b1801ddca582"
      },
      "source": [
        "acc, recall, prec, f1, macro_f1 = check_nn(downsampling=False, weighting=True, \r\n",
        "                                           weights_dict={0: 0.2, 1: 1.0}, batch_size=200, epochs=50)\r\n",
        "print(f'Avg accuracy: {np.array(acc).mean()}')\r\n",
        "print(f'Avg precision: {np.array(prec).mean()}')\r\n",
        "print(f'Avg recall: {np.array(recall).mean()}')\r\n",
        "print(f'Avg F1-Score: {np.array(f1).mean()}')\r\n",
        "print(f'Avg macro F1-Score: {np.array(macro_f1).mean()}')"
      ],
      "execution_count": 31,
      "outputs": [
        {
          "output_type": "stream",
          "text": [
            "Avg accuracy: 0.896\n",
            "Avg precision: 0.625\n",
            "Avg recall: 0.5597014925373134\n",
            "Avg F1-Score: 0.5905511811023623\n",
            "Avg macro F1-Score: 0.7654932308719142\n"
          ],
          "name": "stdout"
        }
      ]
    },
    {
      "cell_type": "code",
      "metadata": {
        "colab": {
          "base_uri": "https://localhost:8080/"
        },
        "id": "2mwHlVg22w2Z",
        "outputId": "05a6d76e-2d70-412f-9f7d-5ba1a87005b9"
      },
      "source": [
        "acc, recall, prec, f1, macro_f1 = check_nn(downsampling=True, ratio=1.0,\r\n",
        "                                           weighting=False, batch_size=100, epochs=30)\r\n",
        "print(f'Avg accuracy: {np.array(acc).mean()}')\r\n",
        "print(f'Avg precision: {np.array(prec).mean()}')\r\n",
        "print(f'Avg recall: {np.array(recall).mean()}')\r\n",
        "print(f'Avg F1-Score: {np.array(f1).mean()}')\r\n",
        "print(f'Avg macro F1-Score: {np.array(macro_f1).mean()}')"
      ],
      "execution_count": 32,
      "outputs": [
        {
          "output_type": "stream",
          "text": [
            "Avg accuracy: 0.897\n",
            "Avg precision: 0.8974358974358975\n",
            "Avg recall: 0.26119402985074625\n",
            "Avg F1-Score: 0.4046242774566473\n",
            "Avg macro F1-Score: 0.6741238519193473\n"
          ],
          "name": "stdout"
        }
      ]
    },
    {
      "cell_type": "code",
      "metadata": {
        "colab": {
          "base_uri": "https://localhost:8080/"
        },
        "id": "Dq6xheTy21IW",
        "outputId": "646309ff-e261-4f06-fa2b-e91be74686e2"
      },
      "source": [
        "acc, recall, prec, f1, macro_f1 = check_nn(downsampling=True, ratio=2.0,\r\n",
        "                                           weighting=False, batch_size=100, epochs=30)\r\n",
        "print(f'Avg accuracy: {np.array(acc).mean()}')\r\n",
        "print(f'Avg precision: {np.array(prec).mean()}')\r\n",
        "print(f'Avg recall: {np.array(recall).mean()}')\r\n",
        "print(f'Avg F1-Score: {np.array(f1).mean()}')\r\n",
        "print(f'Avg macro F1-Score: {np.array(macro_f1).mean()}')"
      ],
      "execution_count": 33,
      "outputs": [
        {
          "output_type": "stream",
          "text": [
            "Avg accuracy: 0.901\n",
            "Avg precision: 0.7692307692307693\n",
            "Avg recall: 0.373134328358209\n",
            "Avg F1-Score: 0.5025125628140703\n",
            "Avg macro F1-Score: 0.7237715507018714\n"
          ],
          "name": "stdout"
        }
      ]
    },
    {
      "cell_type": "code",
      "metadata": {
        "id": "fvOV4uv76Xye"
      },
      "source": [
        "del fasttext_model"
      ],
      "execution_count": 34,
      "outputs": []
    },
    {
      "cell_type": "markdown",
      "metadata": {
        "id": "E8J8s9pey7uw"
      },
      "source": [
        "KGR Embeddings"
      ]
    },
    {
      "cell_type": "code",
      "metadata": {
        "id": "9ZaqqI-QbMX6"
      },
      "source": [
        "fasttext_model = fasttext.load_model('kgr10.plain.lower.skipgram.dim300.neg10.bin')"
      ],
      "execution_count": 36,
      "outputs": []
    },
    {
      "cell_type": "code",
      "metadata": {
        "colab": {
          "base_uri": "https://localhost:8080/"
        },
        "id": "uBk1AXpwbMD2",
        "outputId": "3ed24625-b11a-4bf8-f00c-3a6aa5f53f39"
      },
      "source": [
        "train_embeddings = np.zeros((train_data.shape[0], 300))\r\n",
        "for index, row in tqdm.tqdm(train_data.iterrows(), total=train_data.shape[0]):\r\n",
        "            vector = fasttext_model.get_sentence_vector(row['text'])\r\n",
        "            train_embeddings[index, :] = vector"
      ],
      "execution_count": 37,
      "outputs": [
        {
          "output_type": "stream",
          "text": [
            "100%|██████████| 10041/10041 [00:03<00:00, 2835.07it/s]\n"
          ],
          "name": "stderr"
        }
      ]
    },
    {
      "cell_type": "code",
      "metadata": {
        "colab": {
          "base_uri": "https://localhost:8080/"
        },
        "id": "xJQoyynodDkn",
        "outputId": "254e0c9a-4185-4135-c3db-a93dd3150453"
      },
      "source": [
        "test_embeddings = np.zeros((test_data.shape[0], 300))\r\n",
        "for index, row in tqdm.tqdm(test_data.iterrows(), total=test_data.shape[0]):\r\n",
        "            vector = fasttext_model.get_sentence_vector(row['text'])\r\n",
        "            test_embeddings[index, :] = vector"
      ],
      "execution_count": 38,
      "outputs": [
        {
          "output_type": "stream",
          "text": [
            "100%|██████████| 1000/1000 [00:00<00:00, 3072.40it/s]\n"
          ],
          "name": "stderr"
        }
      ]
    },
    {
      "cell_type": "code",
      "metadata": {
        "colab": {
          "base_uri": "https://localhost:8080/"
        },
        "id": "xMyvoO7O6qRm",
        "outputId": "dd5fcf49-ce3f-4834-9f1a-e7221b832efa"
      },
      "source": [
        "accuracy, recall, precision, f1, macro_f1 = check_svm(10.0, False)\r\n",
        "print(f'Avg accuracy: {np.array(accuracy).mean()}')\r\n",
        "print(f'Avg precision: {np.array(precision).mean()}')\r\n",
        "print(f'Avg recall: {np.array(recall).mean()}')\r\n",
        "print(f'Avg F1-Score: {np.array(f1).mean()}')\r\n",
        "print(f'Avg macro F1-Score: {np.array(macro_f1).mean()}')"
      ],
      "execution_count": 40,
      "outputs": [
        {
          "output_type": "stream",
          "text": [
            "Avg accuracy: 0.886\n",
            "Avg precision: 0.8571428571428571\n",
            "Avg recall: 0.1791044776119403\n",
            "Avg F1-Score: 0.2962962962962963\n",
            "Avg macro F1-Score: 0.6171361786160481\n"
          ],
          "name": "stdout"
        }
      ]
    },
    {
      "cell_type": "code",
      "metadata": {
        "colab": {
          "base_uri": "https://localhost:8080/"
        },
        "id": "Ex7UFthu6qec",
        "outputId": "1228c961-ce55-427b-bd95-1bbb71b4ad03"
      },
      "source": [
        "accuracy, recall, precision, f1, macro_f1 = check_svm(1, True, 1)\r\n",
        "print(f'Avg accuracy: {np.array(accuracy).mean()}')\r\n",
        "print(f'Avg precision: {np.array(precision).mean()}')\r\n",
        "print(f'Avg recall: {np.array(recall).mean()}')\r\n",
        "print(f'Avg F1-Score: {np.array(f1).mean()}')\r\n",
        "print(f'Avg macro F1-Score: {np.array(macro_f1).mean()}')"
      ],
      "execution_count": 41,
      "outputs": [
        {
          "output_type": "stream",
          "text": [
            "Avg accuracy: 0.841\n",
            "Avg precision: 0.4458874458874459\n",
            "Avg recall: 0.7686567164179104\n",
            "Avg F1-Score: 0.5643835616438356\n",
            "Avg macro F1-Score: 0.7335679276109086\n"
          ],
          "name": "stdout"
        }
      ]
    },
    {
      "cell_type": "code",
      "metadata": {
        "colab": {
          "base_uri": "https://localhost:8080/"
        },
        "id": "gP5Jttz56qmr",
        "outputId": "7664f899-8805-42c1-ea4d-f6c538bd00d7"
      },
      "source": [
        "accuracy, recall, precision, f1, macro_f1 = check_svm(1, True, 2)\r\n",
        "print(f'Avg accuracy: {np.array(accuracy).mean()}')\r\n",
        "print(f'Avg precision: {np.array(precision).mean()}')\r\n",
        "print(f'Avg recall: {np.array(recall).mean()}')\r\n",
        "print(f'Avg F1-Score: {np.array(f1).mean()}')\r\n",
        "print(f'Avg macro F1-Score: {np.array(macro_f1).mean()}')"
      ],
      "execution_count": 42,
      "outputs": [
        {
          "output_type": "stream",
          "text": [
            "Avg accuracy: 0.9\n",
            "Avg precision: 0.6287878787878788\n",
            "Avg recall: 0.6194029850746269\n",
            "Avg F1-Score: 0.6240601503759399\n",
            "Avg macro F1-Score: 0.7831950117508304\n"
          ],
          "name": "stdout"
        }
      ]
    },
    {
      "cell_type": "code",
      "metadata": {
        "id": "gbptByue6qq1"
      },
      "source": [
        "# Keras NN"
      ],
      "execution_count": 39,
      "outputs": []
    },
    {
      "cell_type": "code",
      "metadata": {
        "colab": {
          "base_uri": "https://localhost:8080/"
        },
        "id": "7363tg8k6qu6",
        "outputId": "a43e8c1b-5185-44c3-8198-559988520bbd"
      },
      "source": [
        "acc, recall, prec, f1, macro_f1 = check_nn(downsampling=False, weighting=True, \r\n",
        "                                           weights_dict=None, batch_size=200, epochs=50)\r\n",
        "print(f'Avg accuracy: {np.array(acc).mean()}')\r\n",
        "print(f'Avg precision: {np.array(prec).mean()}')\r\n",
        "print(f'Avg recall: {np.array(recall).mean()}')\r\n",
        "print(f'Avg F1-Score: {np.array(f1).mean()}')\r\n",
        "print(f'Avg macro F1-Score: {np.array(macro_f1).mean()}')"
      ],
      "execution_count": 43,
      "outputs": [
        {
          "output_type": "stream",
          "text": [
            "Avg accuracy: 0.882\n",
            "Avg precision: 0.5512820512820513\n",
            "Avg recall: 0.6417910447761194\n",
            "Avg F1-Score: 0.593103448275862\n",
            "Avg macro F1-Score: 0.7620488001613228\n"
          ],
          "name": "stdout"
        }
      ]
    },
    {
      "cell_type": "code",
      "metadata": {
        "colab": {
          "base_uri": "https://localhost:8080/"
        },
        "id": "IWencKjV6qyi",
        "outputId": "1831dd01-56da-4791-d1ed-ef50d47e7034"
      },
      "source": [
        "acc, recall, prec, f1, macro_f1 = check_nn(downsampling=True, ratio=1.0,\r\n",
        "                                           weighting=False, batch_size=100, epochs=30)\r\n",
        "print(f'Avg accuracy: {np.array(acc).mean()}')\r\n",
        "print(f'Avg precision: {np.array(prec).mean()}')\r\n",
        "print(f'Avg recall: {np.array(recall).mean()}')\r\n",
        "print(f'Avg F1-Score: {np.array(f1).mean()}')\r\n",
        "print(f'Avg macro F1-Score: {np.array(macro_f1).mean()}')"
      ],
      "execution_count": 44,
      "outputs": [
        {
          "output_type": "stream",
          "text": [
            "Avg accuracy: 0.899\n",
            "Avg precision: 0.8367346938775511\n",
            "Avg recall: 0.30597014925373134\n",
            "Avg F1-Score: 0.4480874316939891\n",
            "Avg macro F1-Score: 0.6962506503544243\n"
          ],
          "name": "stdout"
        }
      ]
    },
    {
      "cell_type": "code",
      "metadata": {
        "colab": {
          "base_uri": "https://localhost:8080/"
        },
        "id": "YnCsJh7O6q3T",
        "outputId": "caec35e6-05cd-4431-a7a1-c9445618e78d"
      },
      "source": [
        "acc, recall, prec, f1, macro_f1 = check_nn(downsampling=True, ratio=2.0,\r\n",
        "                                           weighting=False, batch_size=100, epochs=30)\r\n",
        "print(f'Avg accuracy: {np.array(acc).mean()}')\r\n",
        "print(f'Avg precision: {np.array(prec).mean()}')\r\n",
        "print(f'Avg recall: {np.array(recall).mean()}')\r\n",
        "print(f'Avg F1-Score: {np.array(f1).mean()}')\r\n",
        "print(f'Avg macro F1-Score: {np.array(macro_f1).mean()}')"
      ],
      "execution_count": 45,
      "outputs": [
        {
          "output_type": "stream",
          "text": [
            "Avg accuracy: 0.896\n",
            "Avg precision: 0.8571428571428571\n",
            "Avg recall: 0.26865671641791045\n",
            "Avg F1-Score: 0.40909090909090906\n",
            "Avg macro F1-Score: 0.6760366826156301\n"
          ],
          "name": "stdout"
        }
      ]
    },
    {
      "cell_type": "code",
      "metadata": {
        "id": "-TCIO9OM_me2"
      },
      "source": [
        ""
      ],
      "execution_count": null,
      "outputs": []
    }
  ]
}