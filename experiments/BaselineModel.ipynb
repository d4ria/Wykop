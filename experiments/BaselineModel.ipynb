{
 "cells": [
  {
   "cell_type": "code",
   "execution_count": 1,
   "metadata": {},
   "outputs": [],
   "source": [
    "import sys\n",
    "sys.path.append('../')\n",
    "import pandas as pd\n",
    "import numpy as np\n",
    "from wykop_scraper.hatebase import hate_words, curse_words\n",
    "from sklearn.model_selection import cross_validate, StratifiedKFold\n",
    "import re"
   ]
  },
  {
   "cell_type": "markdown",
   "metadata": {},
   "source": [
    "Load the annotations dataset:"
   ]
  },
  {
   "cell_type": "code",
   "execution_count": 2,
   "metadata": {},
   "outputs": [],
   "source": [
    "df = pd.read_csv('../annotations/data/classification_dataset.csv')\n",
    "df = df.iloc[:, 1:]"
   ]
  },
  {
   "cell_type": "code",
   "execution_count": 3,
   "metadata": {},
   "outputs": [
    {
     "data": {
      "text/html": [
       "<div>\n",
       "<style scoped>\n",
       "    .dataframe tbody tr th:only-of-type {\n",
       "        vertical-align: middle;\n",
       "    }\n",
       "\n",
       "    .dataframe tbody tr th {\n",
       "        vertical-align: top;\n",
       "    }\n",
       "\n",
       "    .dataframe thead th {\n",
       "        text-align: right;\n",
       "    }\n",
       "</style>\n",
       "<table border=\"1\" class=\"dataframe\">\n",
       "  <thead>\n",
       "    <tr style=\"text-align: right;\">\n",
       "      <th></th>\n",
       "      <th>comment_id</th>\n",
       "      <th>entry_id</th>\n",
       "      <th>date</th>\n",
       "      <th>text</th>\n",
       "      <th>author_login</th>\n",
       "      <th>vote_count</th>\n",
       "      <th>receiver</th>\n",
       "      <th>hate_word_counts</th>\n",
       "      <th>is_hateful</th>\n",
       "      <th>annotation</th>\n",
       "    </tr>\n",
       "  </thead>\n",
       "  <tbody>\n",
       "    <tr>\n",
       "      <th>0</th>\n",
       "      <td>185386257</td>\n",
       "      <td>52292479</td>\n",
       "      <td>2020-09-23 00:18:39</td>\n",
       "      <td>Ty no kurwa że też ja na to nie wpadłem ale ze...</td>\n",
       "      <td>Cybek-Marian</td>\n",
       "      <td>1</td>\n",
       "      <td>atteint</td>\n",
       "      <td>2</td>\n",
       "      <td>1</td>\n",
       "      <td>0</td>\n",
       "    </tr>\n",
       "    <tr>\n",
       "      <th>1</th>\n",
       "      <td>174804569</td>\n",
       "      <td>49417029</td>\n",
       "      <td>2020-05-14 19:45:44</td>\n",
       "      <td>coś ponad 1 a mniej niż 2</td>\n",
       "      <td>wytrzzeszcz</td>\n",
       "      <td>1</td>\n",
       "      <td>Kosciany</td>\n",
       "      <td>0</td>\n",
       "      <td>0</td>\n",
       "      <td>0</td>\n",
       "    </tr>\n",
       "    <tr>\n",
       "      <th>2</th>\n",
       "      <td>189533891</td>\n",
       "      <td>53440779</td>\n",
       "      <td>2020-11-09 20:41:58</td>\n",
       "      <td>Motor ma już w garażu</td>\n",
       "      <td>piSSowiec39</td>\n",
       "      <td>3</td>\n",
       "      <td>Zagmadfany2</td>\n",
       "      <td>0</td>\n",
       "      <td>0</td>\n",
       "      <td>0</td>\n",
       "    </tr>\n",
       "    <tr>\n",
       "      <th>3</th>\n",
       "      <td>172538589</td>\n",
       "      <td>48804329</td>\n",
       "      <td>2020-04-17 01:00:24</td>\n",
       "      <td>znow robic na tego zlodzieja</td>\n",
       "      <td>ranunculus</td>\n",
       "      <td>3</td>\n",
       "      <td>Graner</td>\n",
       "      <td>0</td>\n",
       "      <td>0</td>\n",
       "      <td>0</td>\n",
       "    </tr>\n",
       "    <tr>\n",
       "      <th>4</th>\n",
       "      <td>185485247</td>\n",
       "      <td>52313979</td>\n",
       "      <td>2020-09-24 11:51:11</td>\n",
       "      <td>kurwa człowieku no do kurwy nędzy chociaż wytn...</td>\n",
       "      <td>Cybek-Marian</td>\n",
       "      <td>0</td>\n",
       "      <td>AgentGRU</td>\n",
       "      <td>3</td>\n",
       "      <td>1</td>\n",
       "      <td>1</td>\n",
       "    </tr>\n",
       "    <tr>\n",
       "      <th>...</th>\n",
       "      <td>...</td>\n",
       "      <td>...</td>\n",
       "      <td>...</td>\n",
       "      <td>...</td>\n",
       "      <td>...</td>\n",
       "      <td>...</td>\n",
       "      <td>...</td>\n",
       "      <td>...</td>\n",
       "      <td>...</td>\n",
       "      <td>...</td>\n",
       "    </tr>\n",
       "    <tr>\n",
       "      <th>5816</th>\n",
       "      <td>186254803</td>\n",
       "      <td>52523329</td>\n",
       "      <td>2020-10-04 01:25:55</td>\n",
       "      <td>ale jak to Nocna a ty w gaciach</td>\n",
       "      <td>Paula_pi</td>\n",
       "      <td>2</td>\n",
       "      <td>Graner</td>\n",
       "      <td>0</td>\n",
       "      <td>0</td>\n",
       "      <td>0</td>\n",
       "    </tr>\n",
       "    <tr>\n",
       "      <th>5817</th>\n",
       "      <td>190203499</td>\n",
       "      <td>53620979</td>\n",
       "      <td>2020-11-17 20:48:21</td>\n",
       "      <td>mam ledwo 21 lat ja tam z dorosłością mam niew...</td>\n",
       "      <td>Anty_Chryst</td>\n",
       "      <td>0</td>\n",
       "      <td>SkrytyZolw</td>\n",
       "      <td>0</td>\n",
       "      <td>0</td>\n",
       "      <td>0</td>\n",
       "    </tr>\n",
       "    <tr>\n",
       "      <th>5818</th>\n",
       "      <td>188107553</td>\n",
       "      <td>53038579</td>\n",
       "      <td>2020-10-25 15:19:22</td>\n",
       "      <td>tylko niech potem nikogo nie zdziwi że protest...</td>\n",
       "      <td>galicjanin</td>\n",
       "      <td>0</td>\n",
       "      <td>muwieszeptem</td>\n",
       "      <td>1</td>\n",
       "      <td>1</td>\n",
       "      <td>0</td>\n",
       "    </tr>\n",
       "    <tr>\n",
       "      <th>5819</th>\n",
       "      <td>174952993</td>\n",
       "      <td>49460679</td>\n",
       "      <td>2020-05-16 17:17:34</td>\n",
       "      <td>a wiesz co jest najgorsze ze jak Michau bedzie...</td>\n",
       "      <td>niezdiagnozowany</td>\n",
       "      <td>0</td>\n",
       "      <td>Gon70</td>\n",
       "      <td>0</td>\n",
       "      <td>0</td>\n",
       "      <td>1</td>\n",
       "    </tr>\n",
       "    <tr>\n",
       "      <th>5820</th>\n",
       "      <td>182798817</td>\n",
       "      <td>51530079</td>\n",
       "      <td>2020-08-21 15:06:27</td>\n",
       "      <td>Ja ścinałem się na łyso zanim szkalowanie zako...</td>\n",
       "      <td>Blaskun</td>\n",
       "      <td>1</td>\n",
       "      <td>PiccoloColo</td>\n",
       "      <td>0</td>\n",
       "      <td>0</td>\n",
       "      <td>0</td>\n",
       "    </tr>\n",
       "  </tbody>\n",
       "</table>\n",
       "<p>5821 rows × 10 columns</p>\n",
       "</div>"
      ],
      "text/plain": [
       "      comment_id  entry_id                 date  \\\n",
       "0      185386257  52292479  2020-09-23 00:18:39   \n",
       "1      174804569  49417029  2020-05-14 19:45:44   \n",
       "2      189533891  53440779  2020-11-09 20:41:58   \n",
       "3      172538589  48804329  2020-04-17 01:00:24   \n",
       "4      185485247  52313979  2020-09-24 11:51:11   \n",
       "...          ...       ...                  ...   \n",
       "5816   186254803  52523329  2020-10-04 01:25:55   \n",
       "5817   190203499  53620979  2020-11-17 20:48:21   \n",
       "5818   188107553  53038579  2020-10-25 15:19:22   \n",
       "5819   174952993  49460679  2020-05-16 17:17:34   \n",
       "5820   182798817  51530079  2020-08-21 15:06:27   \n",
       "\n",
       "                                                   text      author_login  \\\n",
       "0     Ty no kurwa że też ja na to nie wpadłem ale ze...      Cybek-Marian   \n",
       "1                             coś ponad 1 a mniej niż 2       wytrzzeszcz   \n",
       "2                                 Motor ma już w garażu       piSSowiec39   \n",
       "3                          znow robic na tego zlodzieja        ranunculus   \n",
       "4     kurwa człowieku no do kurwy nędzy chociaż wytn...      Cybek-Marian   \n",
       "...                                                 ...               ...   \n",
       "5816                    ale jak to Nocna a ty w gaciach          Paula_pi   \n",
       "5817  mam ledwo 21 lat ja tam z dorosłością mam niew...       Anty_Chryst   \n",
       "5818  tylko niech potem nikogo nie zdziwi że protest...        galicjanin   \n",
       "5819  a wiesz co jest najgorsze ze jak Michau bedzie...  niezdiagnozowany   \n",
       "5820  Ja ścinałem się na łyso zanim szkalowanie zako...           Blaskun   \n",
       "\n",
       "      vote_count      receiver  hate_word_counts  is_hateful  annotation  \n",
       "0              1       atteint                 2           1           0  \n",
       "1              1      Kosciany                 0           0           0  \n",
       "2              3   Zagmadfany2                 0           0           0  \n",
       "3              3        Graner                 0           0           0  \n",
       "4              0      AgentGRU                 3           1           1  \n",
       "...          ...           ...               ...         ...         ...  \n",
       "5816           2        Graner                 0           0           0  \n",
       "5817           0    SkrytyZolw                 0           0           0  \n",
       "5818           0  muwieszeptem                 1           1           0  \n",
       "5819           0         Gon70                 0           0           1  \n",
       "5820           1   PiccoloColo                 0           0           0  \n",
       "\n",
       "[5821 rows x 10 columns]"
      ]
     },
     "execution_count": 3,
     "metadata": {},
     "output_type": "execute_result"
    }
   ],
   "source": [
    "df"
   ]
  },
  {
   "cell_type": "markdown",
   "metadata": {},
   "source": [
    "Define the baseline model class:"
   ]
  },
  {
   "cell_type": "code",
   "execution_count": 4,
   "metadata": {},
   "outputs": [],
   "source": [
    "class BaselineModel:\n",
    "    def __init__(self, dictionary: list):\n",
    "        self.dictionary = dictionary\n",
    "        \n",
    "    def fit(self, X, y):\n",
    "        pass\n",
    "    \n",
    "    def get_params(self, deep=True):\n",
    "        return {'dictionary': self.dictionary}\n",
    "    \n",
    "    def predict(self, X):\n",
    "        \"\"\"X: a list of strings\"\"\"\n",
    "        return np.reshape(np.array([1 if any(word in text for word in self.dictionary) else 0 for text in X]), (-1,))"
   ]
  },
  {
   "cell_type": "markdown",
   "metadata": {},
   "source": [
    "### HateBase model"
   ]
  },
  {
   "cell_type": "code",
   "execution_count": 5,
   "metadata": {},
   "outputs": [],
   "source": [
    "baseline = BaselineModel(hate_words)\n",
    "skf = StratifiedKFold(n_splits=5, random_state=0, shuffle=True)\n",
    "X, y = df.text.to_numpy(), df.annotation.to_numpy()"
   ]
  },
  {
   "cell_type": "markdown",
   "metadata": {},
   "source": [
    "Calculate metrics for every split:"
   ]
  },
  {
   "cell_type": "code",
   "execution_count": 7,
   "metadata": {},
   "outputs": [
    {
     "name": "stdout",
     "output_type": "stream",
     "text": [
      "Accuracy: [0.8832618  0.88917526 0.89003436 0.88402062 0.88316151]\n",
      "Precision: [0.29166667 0.41666667 0.46341463 0.27272727 0.32258065]\n",
      "Recall: [0.05555556 0.08       0.152      0.048      0.08      ]\n",
      "F1-Score: [0.09333333 0.13422819 0.22891566 0.08163265 0.12820513]\n",
      "Macro F1-Score: [0.51547401 0.53751336 0.58485561 0.50986722 0.53279501]\n"
     ]
    }
   ],
   "source": [
    "results = cross_validate(baseline, X, y, cv=skf, scoring = ['accuracy', 'precision', 'recall', 'f1', 'f1_macro'])\n",
    "accuracy = results['test_accuracy']\n",
    "precision = results['test_precision']\n",
    "recall = results['test_recall']\n",
    "f1 = results['test_f1']\n",
    "macro_f1 = results['test_f1_macro']\n",
    "print(f'Accuracy: {accuracy}')\n",
    "print(f'Precision: {precision}')\n",
    "print(f'Recall: {recall}')\n",
    "print(f'F1-Score: {f1}')\n",
    "print(f'Macro F1-Score: {macro_f1}')"
   ]
  },
  {
   "cell_type": "markdown",
   "metadata": {},
   "source": [
    "Calculate averaged values:"
   ]
  },
  {
   "cell_type": "code",
   "execution_count": 9,
   "metadata": {},
   "outputs": [
    {
     "name": "stdout",
     "output_type": "stream",
     "text": [
      "Avg accuracy: 0.8859307110304855\n",
      "Avg precision: 0.35341117707364755\n",
      "Avg recall: 0.08311111111111111\n",
      "Avg F1-Score: 0.1332629930339503\n",
      "Avg macro F1-Score: 0.5361010422053678\n"
     ]
    }
   ],
   "source": [
    "print(f'Avg accuracy: {np.array(accuracy).mean()}')\n",
    "print(f'Avg precision: {np.array(precision).mean()}')\n",
    "print(f'Avg recall: {np.array(recall).mean()}')\n",
    "print(f'Avg F1-Score: {np.array(f1).mean()}')\n",
    "print(f'Avg macro F1-Score: {np.array(macro_f1).mean()}')"
   ]
  },
  {
   "cell_type": "markdown",
   "metadata": {},
   "source": [
    "### HateBase + curse words model"
   ]
  },
  {
   "cell_type": "code",
   "execution_count": 10,
   "metadata": {},
   "outputs": [],
   "source": [
    "baseline2 = BaselineModel(hate_words + curse_words)"
   ]
  },
  {
   "cell_type": "markdown",
   "metadata": {},
   "source": [
    "Metrics for the 2nd baseline:"
   ]
  },
  {
   "cell_type": "code",
   "execution_count": 11,
   "metadata": {},
   "outputs": [
    {
     "name": "stdout",
     "output_type": "stream",
     "text": [
      "Accuracy: [0.85493562 0.85738832 0.8685567  0.86082474 0.86340206]\n",
      "Precision: [0.31623932 0.2970297  0.39230769 0.2967033  0.32291667]\n",
      "Recall: [0.29365079 0.24       0.408      0.216      0.248     ]\n",
      "F1-Score: [0.30452675 0.26548673 0.4        0.25       0.28054299]\n",
      "Macro F1-Score: [0.61177463 0.59325716 0.66309696 0.58664773 0.60254012]\n"
     ]
    }
   ],
   "source": [
    "results2 = cross_validate(baseline2, X, y, cv=skf, scoring = ['accuracy', 'precision', 'recall', 'f1', 'f1_macro'])\n",
    "accuracy2 = results2['test_accuracy']\n",
    "precision2 = results2['test_precision']\n",
    "recall2 = results2['test_recall']\n",
    "f12 = results2['test_f1']\n",
    "macro_f12 = results2['test_f1_macro']\n",
    "print(f'Accuracy: {accuracy2}')\n",
    "print(f'Precision: {precision2}')\n",
    "print(f'Recall: {recall2}')\n",
    "print(f'F1-Score: {f12}')\n",
    "print(f'Macro F1-Score: {macro_f12}')"
   ]
  },
  {
   "cell_type": "code",
   "execution_count": 12,
   "metadata": {},
   "outputs": [
    {
     "name": "stdout",
     "output_type": "stream",
     "text": [
      "Avg accuracy: 0.8610214887246876\n",
      "Avg precision: 0.3250393349774538\n",
      "Avg recall: 0.28113015873015873\n",
      "Avg F1-Score: 0.3001112922120499\n",
      "Avg macro F1-Score: 0.6114633207354213\n"
     ]
    }
   ],
   "source": [
    "print(f'Avg accuracy: {np.array(accuracy2).mean()}')\n",
    "print(f'Avg precision: {np.array(precision2).mean()}')\n",
    "print(f'Avg recall: {np.array(recall2).mean()}')\n",
    "print(f'Avg F1-Score: {np.array(f12).mean()}')\n",
    "print(f'Avg macro F1-Score: {np.array(macro_f12).mean()}')"
   ]
  }
 ],
 "metadata": {
  "kernelspec": {
   "display_name": "Python 3",
   "language": "python",
   "name": "python3"
  },
  "language_info": {
   "codemirror_mode": {
    "name": "ipython",
    "version": 3
   },
   "file_extension": ".py",
   "mimetype": "text/x-python",
   "name": "python",
   "nbconvert_exporter": "python",
   "pygments_lexer": "ipython3",
   "version": "3.8.0"
  }
 },
 "nbformat": 4,
 "nbformat_minor": 4
}
