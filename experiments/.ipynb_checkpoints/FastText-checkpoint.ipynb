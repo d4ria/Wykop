{
 "cells": [
  {
   "cell_type": "code",
   "execution_count": null,
   "metadata": {
    "colab": {
     "base_uri": "https://localhost:8080/"
    },
    "id": "HB6gIMo4kFT9",
    "outputId": "344634a6-ac42-4c9e-a50b-0cf5306ac759"
   },
   "outputs": [
    {
     "name": "stdout",
     "output_type": "stream",
     "text": [
      "Collecting fasttext\n",
      "\u001b[?25l  Downloading https://files.pythonhosted.org/packages/f8/85/e2b368ab6d3528827b147fdb814f8189acc981a4bc2f99ab894650e05c40/fasttext-0.9.2.tar.gz (68kB)\n",
      "\r",
      "\u001b[K     |████▊                           | 10kB 11.4MB/s eta 0:00:01\r",
      "\u001b[K     |█████████▌                      | 20kB 16.9MB/s eta 0:00:01\r",
      "\u001b[K     |██████████████▎                 | 30kB 12.6MB/s eta 0:00:01\r",
      "\u001b[K     |███████████████████             | 40kB 8.4MB/s eta 0:00:01\r",
      "\u001b[K     |███████████████████████▉        | 51kB 4.2MB/s eta 0:00:01\r",
      "\u001b[K     |████████████████████████████▋   | 61kB 4.7MB/s eta 0:00:01\r",
      "\u001b[K     |████████████████████████████████| 71kB 3.2MB/s \n",
      "\u001b[?25hRequirement already satisfied: pybind11>=2.2 in /usr/local/lib/python3.6/dist-packages (from fasttext) (2.6.1)\n",
      "Requirement already satisfied: setuptools>=0.7.0 in /usr/local/lib/python3.6/dist-packages (from fasttext) (51.1.1)\n",
      "Requirement already satisfied: numpy in /usr/local/lib/python3.6/dist-packages (from fasttext) (1.19.5)\n",
      "Building wheels for collected packages: fasttext\n",
      "  Building wheel for fasttext (setup.py) ... \u001b[?25l\u001b[?25hdone\n",
      "  Created wheel for fasttext: filename=fasttext-0.9.2-cp36-cp36m-linux_x86_64.whl size=3040717 sha256=ea4c39fd6f99ccd713d6743d0e860ce690cb9d6c29301079c6374e4597ac166f\n",
      "  Stored in directory: /root/.cache/pip/wheels/98/ba/7f/b154944a1cf5a8cee91c154b75231136cc3a3321ab0e30f592\n",
      "Successfully built fasttext\n",
      "Installing collected packages: fasttext\n",
      "Successfully installed fasttext-0.9.2\n"
     ]
    }
   ],
   "source": [
    "!pip install fasttext"
   ]
  },
  {
   "cell_type": "code",
   "execution_count": null,
   "metadata": {
    "colab": {
     "base_uri": "https://localhost:8080/"
    },
    "id": "JzTYzGsQ02n8",
    "outputId": "be856465-222b-4866-f4f0-453f1957023c"
   },
   "outputs": [
    {
     "name": "stdout",
     "output_type": "stream",
     "text": [
      "--2021-01-13 16:04:47--  https://dl.fbaipublicfiles.com/fasttext/vectors-crawl/cc.pl.300.bin.gz\n",
      "Resolving dl.fbaipublicfiles.com (dl.fbaipublicfiles.com)... 104.22.74.142, 172.67.9.4, 104.22.75.142, ...\n",
      "Connecting to dl.fbaipublicfiles.com (dl.fbaipublicfiles.com)|104.22.74.142|:443... connected.\n",
      "HTTP request sent, awaiting response... 200 OK\n",
      "Length: 4503081312 (4.2G) [application/octet-stream]\n",
      "Saving to: ‘cc.pl.300.bin.gz’\n",
      "\n",
      "cc.pl.300.bin.gz    100%[===================>]   4.19G  24.3MB/s    in 3m 1s   \n",
      "\n",
      "2021-01-13 16:07:49 (23.8 MB/s) - ‘cc.pl.300.bin.gz’ saved [4503081312/4503081312]\n",
      "\n"
     ]
    }
   ],
   "source": [
    "!wget https://dl.fbaipublicfiles.com/fasttext/vectors-crawl/cc.pl.300.bin.gz"
   ]
  },
  {
   "cell_type": "code",
   "execution_count": null,
   "metadata": {
    "colab": {
     "base_uri": "https://localhost:8080/"
    },
    "id": "O18EhCkO0VQ9",
    "outputId": "01bbf97b-3618-49ae-f7d2-0c13a146979e"
   },
   "outputs": [
    {
     "name": "stdout",
     "output_type": "stream",
     "text": [
      "\n",
      "7-Zip (a) [64] 16.02 : Copyright (c) 1999-2016 Igor Pavlov : 2016-05-21\n",
      "p7zip Version 16.02 (locale=en_US.UTF-8,Utf16=on,HugeFiles=on,64 bits,2 CPUs Intel(R) Xeon(R) CPU @ 2.30GHz (306F0),ASM,AES-NI)\n",
      "\n",
      "Scanning the drive for archives:\n",
      "  0M Scan\b\b\b\b\b\b\b\b\b         \b\b\b\b\b\b\b\b\b1 file, 4503081312 bytes (4295 MiB)\n",
      "\n",
      "Extracting archive: cc.pl.300.bin.gz\n",
      "--\n",
      "Path = cc.pl.300.bin.gz\n",
      "Type = gzip\n",
      "Headers Size = 24\n",
      "\n",
      "  0% - cc.pl.300.bin\b\b\b\b\b\b\b\b\b\b\b\b\b\b\b\b\b\b\b\b                    \b\b\b\b\b\b\b\b\b\b\b\b\b\b\b\b\b\b\b\b  1% - cc.pl.300.bin\b\b\b\b\b\b\b\b\b\b\b\b\b\b\b\b\b\b\b\b                    \b\b\b\b\b\b\b\b\b\b\b\b\b\b\b\b\b\b\b\b  2% - cc.pl.300.bin\b\b\b\b\b\b\b\b\b\b\b\b\b\b\b\b\b\b\b\b                    \b\b\b\b\b\b\b\b\b\b\b\b\b\b\b\b\b\b\b\b  3% - cc.pl.300.bin\b\b\b\b\b\b\b\b\b\b\b\b\b\b\b\b\b\b\b\b                    \b\b\b\b\b\b\b\b\b\b\b\b\b\b\b\b\b\b\b\b  4% - cc.pl.300.bin\b\b\b\b\b\b\b\b\b\b\b\b\b\b\b\b\b\b\b\b                    \b\b\b\b\b\b\b\b\b\b\b\b\b\b\b\b\b\b\b\b  5% - cc.pl.300.bin\b\b\b\b\b\b\b\b\b\b\b\b\b\b\b\b\b\b\b\b                    \b\b\b\b\b\b\b\b\b\b\b\b\b\b\b\b\b\b\b\b  6% - cc.pl.300.bin\b\b\b\b\b\b\b\b\b\b\b\b\b\b\b\b\b\b\b\b                    \b\b\b\b\b\b\b\b\b\b\b\b\b\b\b\b\b\b\b\b  7% - cc.pl.300.bin\b\b\b\b\b\b\b\b\b\b\b\b\b\b\b\b\b\b\b\b                    \b\b\b\b\b\b\b\b\b\b\b\b\b\b\b\b\b\b\b\b  8% - cc.pl.300.bin\b\b\b\b\b\b\b\b\b\b\b\b\b\b\b\b\b\b\b\b                    \b\b\b\b\b\b\b\b\b\b\b\b\b\b\b\b\b\b\b\b  9% - cc.pl.300.bin\b\b\b\b\b\b\b\b\b\b\b\b\b\b\b\b\b\b\b\b                    \b\b\b\b\b\b\b\b\b\b\b\b\b\b\b\b\b\b\b\b 10% - cc.pl.300.bin\b\b\b\b\b\b\b\b\b\b\b\b\b\b\b\b\b\b\b\b                    \b\b\b\b\b\b\b\b\b\b\b\b\b\b\b\b\b\b\b\b 11% - cc.pl.300.bin\b\b\b\b\b\b\b\b\b\b\b\b\b\b\b\b\b\b\b\b                    \b\b\b\b\b\b\b\b\b\b\b\b\b\b\b\b\b\b\b\b 12% - cc.pl.300.bin\b\b\b\b\b\b\b\b\b\b\b\b\b\b\b\b\b\b\b\b                    \b\b\b\b\b\b\b\b\b\b\b\b\b\b\b\b\b\b\b\b 13% - cc.pl.300.bin\b\b\b\b\b\b\b\b\b\b\b\b\b\b\b\b\b\b\b\b                    \b\b\b\b\b\b\b\b\b\b\b\b\b\b\b\b\b\b\b\b 14% - cc.pl.300.bin\b\b\b\b\b\b\b\b\b\b\b\b\b\b\b\b\b\b\b\b                    \b\b\b\b\b\b\b\b\b\b\b\b\b\b\b\b\b\b\b\b 15% - cc.pl.300.bin\b\b\b\b\b\b\b\b\b\b\b\b\b\b\b\b\b\b\b\b                    \b\b\b\b\b\b\b\b\b\b\b\b\b\b\b\b\b\b\b\b 16% - cc.pl.300.bin\b\b\b\b\b\b\b\b\b\b\b\b\b\b\b\b\b\b\b\b                    \b\b\b\b\b\b\b\b\b\b\b\b\b\b\b\b\b\b\b\b 17% - cc.pl.300.bin\b\b\b\b\b\b\b\b\b\b\b\b\b\b\b\b\b\b\b\b                    \b\b\b\b\b\b\b\b\b\b\b\b\b\b\b\b\b\b\b\b 18% - cc.pl.300.bin\b\b\b\b\b\b\b\b\b\b\b\b\b\b\b\b\b\b\b\b                    \b\b\b\b\b\b\b\b\b\b\b\b\b\b\b\b\b\b\b\b 19% - cc.pl.300.bin\b\b\b\b\b\b\b\b\b\b\b\b\b\b\b\b\b\b\b\b                    \b\b\b\b\b\b\b\b\b\b\b\b\b\b\b\b\b\b\b\b 20% - cc.pl.300.bin\b\b\b\b\b\b\b\b\b\b\b\b\b\b\b\b\b\b\b\b                    \b\b\b\b\b\b\b\b\b\b\b\b\b\b\b\b\b\b\b\b 21% - cc.pl.300.bin\b\b\b\b\b\b\b\b\b\b\b\b\b\b\b\b\b\b\b\b                    \b\b\b\b\b\b\b\b\b\b\b\b\b\b\b\b\b\b\b\b 22% - cc.pl.300.bin\b\b\b\b\b\b\b\b\b\b\b\b\b\b\b\b\b\b\b\b                    \b\b\b\b\b\b\b\b\b\b\b\b\b\b\b\b\b\b\b\b 23% - cc.pl.300.bin\b\b\b\b\b\b\b\b\b\b\b\b\b\b\b\b\b\b\b\b                    \b\b\b\b\b\b\b\b\b\b\b\b\b\b\b\b\b\b\b\b 24% - cc.pl.300.bin\b\b\b\b\b\b\b\b\b\b\b\b\b\b\b\b\b\b\b\b                    \b\b\b\b\b\b\b\b\b\b\b\b\b\b\b\b\b\b\b\b 25% - cc.pl.300.bin\b\b\b\b\b\b\b\b\b\b\b\b\b\b\b\b\b\b\b\b                    \b\b\b\b\b\b\b\b\b\b\b\b\b\b\b\b\b\b\b\b 26% - cc.pl.300.bin\b\b\b\b\b\b\b\b\b\b\b\b\b\b\b\b\b\b\b\b                    \b\b\b\b\b\b\b\b\b\b\b\b\b\b\b\b\b\b\b\b 27% - cc.pl.300.bin\b\b\b\b\b\b\b\b\b\b\b\b\b\b\b\b\b\b\b\b                    \b\b\b\b\b\b\b\b\b\b\b\b\b\b\b\b\b\b\b\b 28% - cc.pl.300.bin\b\b\b\b\b\b\b\b\b\b\b\b\b\b\b\b\b\b\b\b                    \b\b\b\b\b\b\b\b\b\b\b\b\b\b\b\b\b\b\b\b 29% - cc.pl.300.bin\b\b\b\b\b\b\b\b\b\b\b\b\b\b\b\b\b\b\b\b                    \b\b\b\b\b\b\b\b\b\b\b\b\b\b\b\b\b\b\b\b 30% - cc.pl.300.bin\b\b\b\b\b\b\b\b\b\b\b\b\b\b\b\b\b\b\b\b                    \b\b\b\b\b\b\b\b\b\b\b\b\b\b\b\b\b\b\b\b 31% - cc.pl.300.bin\b\b\b\b\b\b\b\b\b\b\b\b\b\b\b\b\b\b\b\b                    \b\b\b\b\b\b\b\b\b\b\b\b\b\b\b\b\b\b\b\b 32% - cc.pl.300.bin\b\b\b\b\b\b\b\b\b\b\b\b\b\b\b\b\b\b\b\b                    \b\b\b\b\b\b\b\b\b\b\b\b\b\b\b\b\b\b\b\b 33% - cc.pl.300.bin\b\b\b\b\b\b\b\b\b\b\b\b\b\b\b\b\b\b\b\b                    \b\b\b\b\b\b\b\b\b\b\b\b\b\b\b\b\b\b\b\b 34% - cc.pl.300.bin\b\b\b\b\b\b\b\b\b\b\b\b\b\b\b\b\b\b\b\b                    \b\b\b\b\b\b\b\b\b\b\b\b\b\b\b\b\b\b\b\b 35% - cc.pl.300.bin\b\b\b\b\b\b\b\b\b\b\b\b\b\b\b\b\b\b\b\b                    \b\b\b\b\b\b\b\b\b\b\b\b\b\b\b\b\b\b\b\b 36% - cc.pl.300.bin\b\b\b\b\b\b\b\b\b\b\b\b\b\b\b\b\b\b\b\b                    \b\b\b\b\b\b\b\b\b\b\b\b\b\b\b\b\b\b\b\b 37% - cc.pl.300.bin\b\b\b\b\b\b\b\b\b\b\b\b\b\b\b\b\b\b\b\b                    \b\b\b\b\b\b\b\b\b\b\b\b\b\b\b\b\b\b\b\b 38% - cc.pl.300.bin\b\b\b\b\b\b\b\b\b\b\b\b\b\b\b\b\b\b\b\b                    \b\b\b\b\b\b\b\b\b\b\b\b\b\b\b\b\b\b\b\b 39% - cc.pl.300.bin\b\b\b\b\b\b\b\b\b\b\b\b\b\b\b\b\b\b\b\b                    \b\b\b\b\b\b\b\b\b\b\b\b\b\b\b\b\b\b\b\b 40% - cc.pl.300.bin\b\b\b\b\b\b\b\b\b\b\b\b\b\b\b\b\b\b\b\b                    \b\b\b\b\b\b\b\b\b\b\b\b\b\b\b\b\b\b\b\b 41% - cc.pl.300.bin\b\b\b\b\b\b\b\b\b\b\b\b\b\b\b\b\b\b\b\b                    \b\b\b\b\b\b\b\b\b\b\b\b\b\b\b\b\b\b\b\b 42% - cc.pl.300.bin\b\b\b\b\b\b\b\b\b\b\b\b\b\b\b\b\b\b\b\b                    \b\b\b\b\b\b\b\b\b\b\b\b\b\b\b\b\b\b\b\b 43% - cc.pl.300.bin\b\b\b\b\b\b\b\b\b\b\b\b\b\b\b\b\b\b\b\b                    \b\b\b\b\b\b\b\b\b\b\b\b\b\b\b\b\b\b\b\b 44% - cc.pl.300.bin\b\b\b\b\b\b\b\b\b\b\b\b\b\b\b\b\b\b\b\b                    \b\b\b\b\b\b\b\b\b\b\b\b\b\b\b\b\b\b\b\b 45% - cc.pl.300.bin\b\b\b\b\b\b\b\b\b\b\b\b\b\b\b\b\b\b\b\b                    \b\b\b\b\b\b\b\b\b\b\b\b\b\b\b\b\b\b\b\b 46% - cc.pl.300.bin\b\b\b\b\b\b\b\b\b\b\b\b\b\b\b\b\b\b\b\b                    \b\b\b\b\b\b\b\b\b\b\b\b\b\b\b\b\b\b\b\b 47% - cc.pl.300.bin\b\b\b\b\b\b\b\b\b\b\b\b\b\b\b\b\b\b\b\b                    \b\b\b\b\b\b\b\b\b\b\b\b\b\b\b\b\b\b\b\b 48% - cc.pl.300.bin\b\b\b\b\b\b\b\b\b\b\b\b\b\b\b\b\b\b\b\b                    \b\b\b\b\b\b\b\b\b\b\b\b\b\b\b\b\b\b\b\b 49% - cc.pl.300.bin\b\b\b\b\b\b\b\b\b\b\b\b\b\b\b\b\b\b\b\b                    \b\b\b\b\b\b\b\b\b\b\b\b\b\b\b\b\b\b\b\b 50% - cc.pl.300.bin\b\b\b\b\b\b\b\b\b\b\b\b\b\b\b\b\b\b\b\b                    \b\b\b\b\b\b\b\b\b\b\b\b\b\b\b\b\b\b\b\b 51% - cc.pl.300.bin\b\b\b\b\b\b\b\b\b\b\b\b\b\b\b\b\b\b\b\b                    \b\b\b\b\b\b\b\b\b\b\b\b\b\b\b\b\b\b\b\b 52% - cc.pl.300.bin\b\b\b\b\b\b\b\b\b\b\b\b\b\b\b\b\b\b\b\b                    \b\b\b\b\b\b\b\b\b\b\b\b\b\b\b\b\b\b\b\b 53% - cc.pl.300.bin\b\b\b\b\b\b\b\b\b\b\b\b\b\b\b\b\b\b\b\b                    \b\b\b\b\b\b\b\b\b\b\b\b\b\b\b\b\b\b\b\b 54% - cc.pl.300.bin\b\b\b\b\b\b\b\b\b\b\b\b\b\b\b\b\b\b\b\b                    \b\b\b\b\b\b\b\b\b\b\b\b\b\b\b\b\b\b\b\b 55% - cc.pl.300.bin\b\b\b\b\b\b\b\b\b\b\b\b\b\b\b\b\b\b\b\b                    \b\b\b\b\b\b\b\b\b\b\b\b\b\b\b\b\b\b\b\b 56% - cc.pl.300.bin\b\b\b\b\b\b\b\b\b\b\b\b\b\b\b\b\b\b\b\b                    \b\b\b\b\b\b\b\b\b\b\b\b\b\b\b\b\b\b\b\b 57% - cc.pl.300.bin\b\b\b\b\b\b\b\b\b\b\b\b\b\b\b\b\b\b\b\b                    \b\b\b\b\b\b\b\b\b\b\b\b\b\b\b\b\b\b\b\b 58% - cc.pl.300.bin\b\b\b\b\b\b\b\b\b\b\b\b\b\b\b\b\b\b\b\b                    \b\b\b\b\b\b\b\b\b\b\b\b\b\b\b\b\b\b\b\b 59% - cc.pl.300.bin\b\b\b\b\b\b\b\b\b\b\b\b\b\b\b\b\b\b\b\b                    \b\b\b\b\b\b\b\b\b\b\b\b\b\b\b\b\b\b\b\b 60% - cc.pl.300.bin\b\b\b\b\b\b\b\b\b\b\b\b\b\b\b\b\b\b\b\b                    \b\b\b\b\b\b\b\b\b\b\b\b\b\b\b\b\b\b\b\b 61% - cc.pl.300.bin\b\b\b\b\b\b\b\b\b\b\b\b\b\b\b\b\b\b\b\b                    \b\b\b\b\b\b\b\b\b\b\b\b\b\b\b\b\b\b\b\b 62% - cc.pl.300.bin\b\b\b\b\b\b\b\b\b\b\b\b\b\b\b\b\b\b\b\b                    \b\b\b\b\b\b\b\b\b\b\b\b\b\b\b\b\b\b\b\b 63% - cc.pl.300.bin\b\b\b\b\b\b\b\b\b\b\b\b\b\b\b\b\b\b\b\b                    \b\b\b\b\b\b\b\b\b\b\b\b\b\b\b\b\b\b\b\b 64% - cc.pl.300.bin\b\b\b\b\b\b\b\b\b\b\b\b\b\b\b\b\b\b\b\b                    \b\b\b\b\b\b\b\b\b\b\b\b\b\b\b\b\b\b\b\b 65% - cc.pl.300.bin\b\b\b\b\b\b\b\b\b\b\b\b\b\b\b\b\b\b\b\b                    \b\b\b\b\b\b\b\b\b\b\b\b\b\b\b\b\b\b\b\b 66% - cc.pl.300.bin\b\b\b\b\b\b\b\b\b\b\b\b\b\b\b\b\b\b\b\b                    \b\b\b\b\b\b\b\b\b\b\b\b\b\b\b\b\b\b\b\b 67% - cc.pl.300.bin\b\b\b\b\b\b\b\b\b\b\b\b\b\b\b\b\b\b\b\b                    \b\b\b\b\b\b\b\b\b\b\b\b\b\b\b\b\b\b\b\b 68% - cc.pl.300.bin\b\b\b\b\b\b\b\b\b\b\b\b\b\b\b\b\b\b\b\b                    \b\b\b\b\b\b\b\b\b\b\b\b\b\b\b\b\b\b\b\b 69% - cc.pl.300.bin\b\b\b\b\b\b\b\b\b\b\b\b\b\b\b\b\b\b\b\b                    \b\b\b\b\b\b\b\b\b\b\b\b\b\b\b\b\b\b\b\b 70% - cc.pl.300.bin\b\b\b\b\b\b\b\b\b\b\b\b\b\b\b\b\b\b\b\b                    \b\b\b\b\b\b\b\b\b\b\b\b\b\b\b\b\b\b\b\b 71% - cc.pl.300.bin\b\b\b\b\b\b\b\b\b\b\b\b\b\b\b\b\b\b\b\b                    \b\b\b\b\b\b\b\b\b\b\b\b\b\b\b\b\b\b\b\b 72% - cc.pl.300.bin\b\b\b\b\b\b\b\b\b\b\b\b\b\b\b\b\b\b\b\b                    \b\b\b\b\b\b\b\b\b\b\b\b\b\b\b\b\b\b\b\b 73% - cc.pl.300.bin\b\b\b\b\b\b\b\b\b\b\b\b\b\b\b\b\b\b\b\b                    \b\b\b\b\b\b\b\b\b\b\b\b\b\b\b\b\b\b\b\b 74% - cc.pl.300.bin\b\b\b\b\b\b\b\b\b\b\b\b\b\b\b\b\b\b\b\b                    \b\b\b\b\b\b\b\b\b\b\b\b\b\b\b\b\b\b\b\b 75% - cc.pl.300.bin\b\b\b\b\b\b\b\b\b\b\b\b\b\b\b\b\b\b\b\b                    \b\b\b\b\b\b\b\b\b\b\b\b\b\b\b\b\b\b\b\b 76% - cc.pl.300.bin\b\b\b\b\b\b\b\b\b\b\b\b\b\b\b\b\b\b\b\b                    \b\b\b\b\b\b\b\b\b\b\b\b\b\b\b\b\b\b\b\b 77% - cc.pl.300.bin\b\b\b\b\b\b\b\b\b\b\b\b\b\b\b\b\b\b\b\b                    \b\b\b\b\b\b\b\b\b\b\b\b\b\b\b\b\b\b\b\b 78% - cc.pl.300.bin\b\b\b\b\b\b\b\b\b\b\b\b\b\b\b\b\b\b\b\b                    \b\b\b\b\b\b\b\b\b\b\b\b\b\b\b\b\b\b\b\b 79% - cc.pl.300.bin\b\b\b\b\b\b\b\b\b\b\b\b\b\b\b\b\b\b\b\b                    \b\b\b\b\b\b\b\b\b\b\b\b\b\b\b\b\b\b\b\b 80% - cc.pl.300.bin\b\b\b\b\b\b\b\b\b\b\b\b\b\b\b\b\b\b\b\b                    \b\b\b\b\b\b\b\b\b\b\b\b\b\b\b\b\b\b\b\b 81% - cc.pl.300.bin\b\b\b\b\b\b\b\b\b\b\b\b\b\b\b\b\b\b\b\b                    \b\b\b\b\b\b\b\b\b\b\b\b\b\b\b\b\b\b\b\b 82% - cc.pl.300.bin\b\b\b\b\b\b\b\b\b\b\b\b\b\b\b\b\b\b\b\b                    \b\b\b\b\b\b\b\b\b\b\b\b\b\b\b\b\b\b\b\b 83% - cc.pl.300.bin\b\b\b\b\b\b\b\b\b\b\b\b\b\b\b\b\b\b\b\b                    \b\b\b\b\b\b\b\b\b\b\b\b\b\b\b\b\b\b\b\b 84% - cc.pl.300.bin\b\b\b\b\b\b\b\b\b\b\b\b\b\b\b\b\b\b\b\b                    \b\b\b\b\b\b\b\b\b\b\b\b\b\b\b\b\b\b\b\b 85% - cc.pl.300.bin\b\b\b\b\b\b\b\b\b\b\b\b\b\b\b\b\b\b\b\b                    \b\b\b\b\b\b\b\b\b\b\b\b\b\b\b\b\b\b\b\b 86% - cc.pl.300.bin\b\b\b\b\b\b\b\b\b\b\b\b\b\b\b\b\b\b\b\b                    \b\b\b\b\b\b\b\b\b\b\b\b\b\b\b\b\b\b\b\b 87% - cc.pl.300.bin\b\b\b\b\b\b\b\b\b\b\b\b\b\b\b\b\b\b\b\b                    \b\b\b\b\b\b\b\b\b\b\b\b\b\b\b\b\b\b\b\b 88% - cc.pl.300.bin\b\b\b\b\b\b\b\b\b\b\b\b\b\b\b\b\b\b\b\b                    \b\b\b\b\b\b\b\b\b\b\b\b\b\b\b\b\b\b\b\b 89% - cc.pl.300.bin\b\b\b\b\b\b\b\b\b\b\b\b\b\b\b\b\b\b\b\b                    \b\b\b\b\b\b\b\b\b\b\b\b\b\b\b\b\b\b\b\b 90% - cc.pl.300.bin\b\b\b\b\b\b\b\b\b\b\b\b\b\b\b\b\b\b\b\b                    \b\b\b\b\b\b\b\b\b\b\b\b\b\b\b\b\b\b\b\b 91% - cc.pl.300.bin\b\b\b\b\b\b\b\b\b\b\b\b\b\b\b\b\b\b\b\b                    \b\b\b\b\b\b\b\b\b\b\b\b\b\b\b\b\b\b\b\b 92% - cc.pl.300.bin\b\b\b\b\b\b\b\b\b\b\b\b\b\b\b\b\b\b\b\b                    \b\b\b\b\b\b\b\b\b\b\b\b\b\b\b\b\b\b\b\b 93% - cc.pl.300.bin\b\b\b\b\b\b\b\b\b\b\b\b\b\b\b\b\b\b\b\b                    \b\b\b\b\b\b\b\b\b\b\b\b\b\b\b\b\b\b\b\b 94% - cc.pl.300.bin\b\b\b\b\b\b\b\b\b\b\b\b\b\b\b\b\b\b\b\b                    \b\b\b\b\b\b\b\b\b\b\b\b\b\b\b\b\b\b\b\b 95% - cc.pl.300.bin\b\b\b\b\b\b\b\b\b\b\b\b\b\b\b\b\b\b\b\b                    \b\b\b\b\b\b\b\b\b\b\b\b\b\b\b\b\b\b\b\b 96% - cc.pl.300.bin\b\b\b\b\b\b\b\b\b\b\b\b\b\b\b\b\b\b\b\b                    \b\b\b\b\b\b\b\b\b\b\b\b\b\b\b\b\b\b\b\b 97% - cc.pl.300.bin\b\b\b\b\b\b\b\b\b\b\b\b\b\b\b\b\b\b\b\b                    \b\b\b\b\b\b\b\b\b\b\b\b\b\b\b\b\b\b\b\b 98% - cc.pl.300.bin\b\b\b\b\b\b\b\b\b\b\b\b\b\b\b\b\b\b\b\b                    \b\b\b\b\b\b\b\b\b\b\b\b\b\b\b\b\b\b\b\b 99% - cc.pl.300.bin\b\b\b\b\b\b\b\b\b\b\b\b\b\b\b\b\b\b\b\b                    \b\b\b\b\b\b\b\b\b\b\b\b\b\b\b\b\b\b\b\b100% - cc.pl.300.bin\b\b\b\b\b\b\b\b\b\b\b\b\b\b\b\b\b\b\b\b                    \b\b\b\b\b\b\b\b\b\b\b\b\b\b\b\b\b\b\b\bEverything is Ok\n",
      "\n",
      "Size:       7239846128\n",
      "Compressed: 4503081312\n"
     ]
    }
   ],
   "source": [
    "!7za x cc.pl.300.bin.gz"
   ]
  },
  {
   "cell_type": "code",
   "execution_count": null,
   "metadata": {
    "colab": {
     "base_uri": "https://localhost:8080/"
    },
    "id": "m6SZt3J503in",
    "outputId": "7e75c3f8-f85b-43de-a921-d8cecd66ed8a"
   },
   "outputs": [
    {
     "name": "stdout",
     "output_type": "stream",
     "text": [
      "The autoreload extension is already loaded. To reload it, use:\n",
      "  %reload_ext autoreload\n"
     ]
    }
   ],
   "source": [
    "import pandas as pd\n",
    "import numpy as np\n",
    "import fasttext\n",
    "from tqdm import tqdm\n",
    "from sklearn.model_selection import cross_val_score, StratifiedKFold, cross_validate\n",
    "from sklearn.svm import SVC\n",
    "from sklearn.metrics import accuracy_score, precision_score, recall_score, f1_score, confusion_matrix\n",
    "import tensorflow as tf\n",
    "from tensorflow import keras\n",
    "from tensorflow.keras import layers\n",
    "from sklearn.utils import class_weight\n",
    "import gc\n",
    "\n",
    "%load_ext autoreload\n",
    "%autoreload 2"
   ]
  },
  {
   "cell_type": "markdown",
   "metadata": {
    "id": "BWAQOZe0Wdta"
   },
   "source": [
    "# Dataset"
   ]
  },
  {
   "cell_type": "code",
   "execution_count": null,
   "metadata": {
    "id": "pSQ2FsEI3uJz"
   },
   "outputs": [],
   "source": [
    "df = pd.read_csv('classification_dataset.csv')\n",
    "df = df.iloc[:, 1:]"
   ]
  },
  {
   "cell_type": "code",
   "execution_count": null,
   "metadata": {
    "colab": {
     "base_uri": "https://localhost:8080/",
     "height": 289
    },
    "id": "Xo7sBNV33y1K",
    "outputId": "70e6b091-d7c1-4018-eb96-7f0a0a866225"
   },
   "outputs": [
    {
     "data": {
      "text/html": [
       "<div>\n",
       "<style scoped>\n",
       "    .dataframe tbody tr th:only-of-type {\n",
       "        vertical-align: middle;\n",
       "    }\n",
       "\n",
       "    .dataframe tbody tr th {\n",
       "        vertical-align: top;\n",
       "    }\n",
       "\n",
       "    .dataframe thead th {\n",
       "        text-align: right;\n",
       "    }\n",
       "</style>\n",
       "<table border=\"1\" class=\"dataframe\">\n",
       "  <thead>\n",
       "    <tr style=\"text-align: right;\">\n",
       "      <th></th>\n",
       "      <th>comment_id</th>\n",
       "      <th>entry_id</th>\n",
       "      <th>date</th>\n",
       "      <th>text</th>\n",
       "      <th>author_login</th>\n",
       "      <th>vote_count</th>\n",
       "      <th>receiver</th>\n",
       "      <th>hate_word_counts</th>\n",
       "      <th>is_hateful</th>\n",
       "      <th>annotation</th>\n",
       "    </tr>\n",
       "  </thead>\n",
       "  <tbody>\n",
       "    <tr>\n",
       "      <th>0</th>\n",
       "      <td>185386257</td>\n",
       "      <td>52292479</td>\n",
       "      <td>2020-09-23 00:18:39</td>\n",
       "      <td>Ty no kurwa że też ja na to nie wpadłem ale ze...</td>\n",
       "      <td>Cybek-Marian</td>\n",
       "      <td>1</td>\n",
       "      <td>atteint</td>\n",
       "      <td>2</td>\n",
       "      <td>1</td>\n",
       "      <td>0</td>\n",
       "    </tr>\n",
       "    <tr>\n",
       "      <th>1</th>\n",
       "      <td>174804569</td>\n",
       "      <td>49417029</td>\n",
       "      <td>2020-05-14 19:45:44</td>\n",
       "      <td>coś ponad 1 a mniej niż 2</td>\n",
       "      <td>wytrzzeszcz</td>\n",
       "      <td>1</td>\n",
       "      <td>Kosciany</td>\n",
       "      <td>0</td>\n",
       "      <td>0</td>\n",
       "      <td>0</td>\n",
       "    </tr>\n",
       "    <tr>\n",
       "      <th>2</th>\n",
       "      <td>189533891</td>\n",
       "      <td>53440779</td>\n",
       "      <td>2020-11-09 20:41:58</td>\n",
       "      <td>Motor ma już w garażu</td>\n",
       "      <td>piSSowiec39</td>\n",
       "      <td>3</td>\n",
       "      <td>Zagmadfany2</td>\n",
       "      <td>0</td>\n",
       "      <td>0</td>\n",
       "      <td>0</td>\n",
       "    </tr>\n",
       "    <tr>\n",
       "      <th>3</th>\n",
       "      <td>172538589</td>\n",
       "      <td>48804329</td>\n",
       "      <td>2020-04-17 01:00:24</td>\n",
       "      <td>znow robic na tego zlodzieja</td>\n",
       "      <td>ranunculus</td>\n",
       "      <td>3</td>\n",
       "      <td>Graner</td>\n",
       "      <td>0</td>\n",
       "      <td>0</td>\n",
       "      <td>0</td>\n",
       "    </tr>\n",
       "    <tr>\n",
       "      <th>4</th>\n",
       "      <td>185485247</td>\n",
       "      <td>52313979</td>\n",
       "      <td>2020-09-24 11:51:11</td>\n",
       "      <td>kurwa człowieku no do kurwy nędzy chociaż wytn...</td>\n",
       "      <td>Cybek-Marian</td>\n",
       "      <td>0</td>\n",
       "      <td>AgentGRU</td>\n",
       "      <td>3</td>\n",
       "      <td>1</td>\n",
       "      <td>1</td>\n",
       "    </tr>\n",
       "  </tbody>\n",
       "</table>\n",
       "</div>"
      ],
      "text/plain": [
       "   comment_id  entry_id  ... is_hateful annotation\n",
       "0   185386257  52292479  ...          1          0\n",
       "1   174804569  49417029  ...          0          0\n",
       "2   189533891  53440779  ...          0          0\n",
       "3   172538589  48804329  ...          0          0\n",
       "4   185485247  52313979  ...          1          1\n",
       "\n",
       "[5 rows x 10 columns]"
      ]
     },
     "execution_count": 6,
     "metadata": {
      "tags": []
     },
     "output_type": "execute_result"
    }
   ],
   "source": [
    "df.head()"
   ]
  },
  {
   "cell_type": "code",
   "execution_count": null,
   "metadata": {
    "id": "7uGBdWHgETAI"
   },
   "outputs": [],
   "source": [
    "skf = StratifiedKFold(n_splits=5, shuffle=True, random_state=0)"
   ]
  },
  {
   "cell_type": "markdown",
   "metadata": {
    "id": "ZRZ8RbycJ1Hq"
   },
   "source": [
    "# Embeddings"
   ]
  },
  {
   "cell_type": "code",
   "execution_count": null,
   "metadata": {
    "colab": {
     "base_uri": "https://localhost:8080/"
    },
    "id": "1mDqk5pt8Hr4",
    "outputId": "49ad004f-11d9-4c84-a101-eeac305f4139"
   },
   "outputs": [
    {
     "name": "stderr",
     "output_type": "stream",
     "text": [
      "Warning : `load_model` does not return WordVectorModel or SupervisedModel any more, but a `FastText` object which is very similar.\n"
     ]
    }
   ],
   "source": [
    "fasttext_model = fasttext.load_model('cc.pl.300.bin')"
   ]
  },
  {
   "cell_type": "code",
   "execution_count": null,
   "metadata": {
    "colab": {
     "base_uri": "https://localhost:8080/"
    },
    "id": "7ArZHW654a0H",
    "outputId": "62f46972-282f-4ef1-9591-92a9335a32ca"
   },
   "outputs": [
    {
     "name": "stderr",
     "output_type": "stream",
     "text": [
      "100%|██████████| 5821/5821 [00:01<00:00, 4429.06it/s]\n"
     ]
    }
   ],
   "source": [
    "embeddings = np.zeros((df.shape[0], 300))\n",
    "for index, row in tqdm(df.iterrows(), total=df.shape[0]):\n",
    "            vector = fasttext_model.get_sentence_vector(row['text'])\n",
    "            embeddings[index, :] = vector"
   ]
  },
  {
   "cell_type": "markdown",
   "metadata": {
    "id": "f4DdjK6IUGwD"
   },
   "source": [
    "# TF-IDF + SVM"
   ]
  },
  {
   "cell_type": "code",
   "execution_count": null,
   "metadata": {
    "id": "8U4iJuR1UI2u"
   },
   "outputs": [],
   "source": [
    "from sklearn.feature_extraction.text import TfidfVectorizer\n",
    "from sklearn.pipeline import Pipeline"
   ]
  },
  {
   "cell_type": "code",
   "execution_count": null,
   "metadata": {
    "id": "02pxgtbfURO5"
   },
   "outputs": [],
   "source": [
    "#Xtf = vectorizer.fit_transform(df.text.tolist())\n",
    "pipe = Pipeline([('tf-idf', TfidfVectorizer(analyzer='char_wb', ngram_range=(3,7))), ('svc', SVC(C=10.0))])"
   ]
  },
  {
   "cell_type": "code",
   "execution_count": null,
   "metadata": {
    "colab": {
     "base_uri": "https://localhost:8080/"
    },
    "id": "NDHvKvywUW2X",
    "outputId": "4b043640-a19a-4f39-b6c6-cd9ce428097a"
   },
   "outputs": [
    {
     "name": "stdout",
     "output_type": "stream",
     "text": [
      "Accuracy: [0.89270386 0.8943299  0.89175258 0.8943299  0.89261168]\n",
      "Precision: [0.66666667 0.75       0.         1.         0.5       ]\n",
      "Recall: [0.01587302 0.024      0.         0.016      0.024     ]\n",
      "F1-Score: [0.03100775 0.04651163 0.         0.03149606 0.04580153]\n",
      "Macro F1-Score: [0.48710769 0.49528856 0.47138965 0.48780619 0.49445288]\n"
     ]
    }
   ],
   "source": [
    "cv_results = cross_validate(pipe, df.text.tolist(), y, cv=skf, scoring=['accuracy', 'precision', 'recall', 'f1', 'f1_macro'])\n",
    "print(f'Accuracy: {cv_results[\"test_accuracy\"]}')\n",
    "print(f'Precision: {cv_results[\"test_precision\"]}')\n",
    "print(f'Recall: {cv_results[\"test_recall\"]}')\n",
    "print(f'F1-Score: {cv_results[\"test_f1\"]}')\n",
    "print(f'Macro F1-Score: {cv_results[\"test_f1_macro\"]}')"
   ]
  },
  {
   "cell_type": "markdown",
   "metadata": {
    "id": "C-F6KLSMp0kp"
   },
   "source": [
    "# FastText + SVM"
   ]
  },
  {
   "cell_type": "code",
   "execution_count": null,
   "metadata": {
    "id": "uc1IjSNdpUo5"
   },
   "outputs": [],
   "source": [
    "def check_svm(c=1.0, downsampling=True, ratio=1.0):\n",
    "  accuracy, recall, precision, f1, macro_f1 = [], [], [], [], []\n",
    "  for train_index, test_index in skf.split(X, y):\n",
    "    X_train, X_test = X[train_index], X[test_index]\n",
    "    y_train, y_test = y[train_index], y[test_index]\n",
    "    if downsampling:\n",
    "      offensive_indices = np.where(y_train == 1)[0]\n",
    "      nonoffensive_indices = np.where(y_train == 0)[0]\n",
    "      sampled_nonoffensive_indices = np.random.choice(nonoffensive_indices,\n",
    "                                                      size=int(ratio * len(offensive_indices)),\n",
    "                                                      replace=False)\n",
    "      indices = np.concatenate((offensive_indices, sampled_nonoffensive_indices))\n",
    "      np.random.shuffle(indices)\n",
    "      downsampled_y = y_train[indices]\n",
    "      downsampled_X = X_train[indices, :]\n",
    "    else:\n",
    "      downsampled_y, downsampled_X = y_train, X_train\n",
    "    clf = SVC(C=c)\n",
    "    clf.fit(downsampled_X, downsampled_y)\n",
    "    preds = clf.predict(X_test)\n",
    "    accuracy.append(accuracy_score(y_test, preds))\n",
    "    precision.append(precision_score(y_test, preds))\n",
    "    recall.append(recall_score(y_test, preds))\n",
    "    f1.append(f1_score(y_test, preds))\n",
    "    macro_f1.append(f1_score(y_test, preds, average='macro'))\n",
    "  return accuracy, recall, precision, f1, macro_f1"
   ]
  },
  {
   "cell_type": "markdown",
   "metadata": {
    "id": "deyjV_olsO0c"
   },
   "source": [
    "Check SVM with C=10 and no downsampling."
   ]
  },
  {
   "cell_type": "code",
   "execution_count": null,
   "metadata": {
    "colab": {
     "base_uri": "https://localhost:8080/"
    },
    "id": "kXkooiNKsRp4",
    "outputId": "3f5cc6e0-4e23-4bb7-e3d5-cadee7021495"
   },
   "outputs": [
    {
     "name": "stdout",
     "output_type": "stream",
     "text": [
      "Avg accuracy: 0.8984727814403491\n",
      "Avg precision: 0.5538482175101894\n",
      "Avg recall: 0.2827809523809524\n",
      "Avg F1-Score: 0.37331169869963665\n",
      "Avg macro F1-Score: 0.659032067951198\n"
     ]
    }
   ],
   "source": [
    "accuracy, recall, precision, f1, macro_f1 = check_svm(10.0, False)\n",
    "print(f'Avg accuracy: {np.array(accuracy).mean()}')\n",
    "print(f'Avg precision: {np.array(precision).mean()}')\n",
    "print(f'Avg recall: {np.array(recall).mean()}')\n",
    "print(f'Avg F1-Score: {np.array(f1).mean()}')\n",
    "print(f'Avg macro F1-Score: {np.array(macro_f1).mean()}')"
   ]
  },
  {
   "cell_type": "markdown",
   "metadata": {
    "id": "EA0uzaLPs2e2"
   },
   "source": [
    "Check SVM with C=10 and downsampling to ratio 1:1 offensive/nonoffensive."
   ]
  },
  {
   "cell_type": "code",
   "execution_count": null,
   "metadata": {
    "colab": {
     "base_uri": "https://localhost:8080/"
    },
    "id": "k_z_zJFPh0Qt",
    "outputId": "e53be870-2f2a-4b7b-fe16-01b15c4caea1"
   },
   "outputs": [
    {
     "name": "stdout",
     "output_type": "stream",
     "text": [
      "Avg accuracy: 0.7423144993584355\n",
      "Avg precision: 0.26434456785923255\n",
      "Avg recall: 0.7811809523809522\n",
      "Avg F1-Score: 0.3949618298515581\n",
      "Avg macro F1-Score: 0.61561620392051\n"
     ]
    }
   ],
   "source": [
    "accuracy, recall, precision, f1, macro_f1 = check_svm(10.0, True, 1)\n",
    "print(f'Avg accuracy: {np.array(accuracy).mean()}')\n",
    "print(f'Avg precision: {np.array(precision).mean()}')\n",
    "print(f'Avg recall: {np.array(recall).mean()}')\n",
    "print(f'Avg F1-Score: {np.array(f1).mean()}')\n",
    "print(f'Avg macro F1-Score: {np.array(macro_f1).mean()}')"
   ]
  },
  {
   "cell_type": "markdown",
   "metadata": {
    "id": "Sck6m1q3tFeG"
   },
   "source": [
    "Check SVM with C=1 and downsampling to ratio 1:1 offensive/nonoffensive."
   ]
  },
  {
   "cell_type": "code",
   "execution_count": null,
   "metadata": {
    "colab": {
     "base_uri": "https://localhost:8080/"
    },
    "id": "dANMf82ptDZa",
    "outputId": "40758b96-848a-4df9-be62-5b7643445d6c"
   },
   "outputs": [
    {
     "name": "stdout",
     "output_type": "stream",
     "text": [
      "Avg accuracy: 0.7376732592953115\n",
      "Avg precision: 0.26394062309276994\n",
      "Avg recall: 0.8050920634920635\n",
      "Avg F1-Score: 0.3975146957160808\n",
      "Avg macro F1-Score: 0.6149173515339064\n"
     ]
    }
   ],
   "source": [
    "accuracy, recall, precision, f1, macro_f1 = check_svm(1.0, True, 1)\n",
    "print(f'Avg accuracy: {np.array(accuracy).mean()}')\n",
    "print(f'Avg precision: {np.array(precision).mean()}')\n",
    "print(f'Avg recall: {np.array(recall).mean()}')\n",
    "print(f'Avg F1-Score: {np.array(f1).mean()}')\n",
    "print(f'Avg macro F1-Score: {np.array(macro_f1).mean()}')"
   ]
  },
  {
   "cell_type": "markdown",
   "metadata": {
    "id": "OyxNFc0itPEo"
   },
   "source": [
    "Check SVM with C=1 and downsampling to ratio 1:2 offensive/nonoffensive."
   ]
  },
  {
   "cell_type": "code",
   "execution_count": null,
   "metadata": {
    "colab": {
     "base_uri": "https://localhost:8080/"
    },
    "id": "yC1_5unUtSK5",
    "outputId": "64dad114-eaa9-4a70-9343-f7eabe134bcd"
   },
   "outputs": [
    {
     "name": "stdout",
     "output_type": "stream",
     "text": [
      "Avg accuracy: 0.870470480657198\n",
      "Avg precision: 0.4256327354550944\n",
      "Avg recall: 0.5734857142857143\n",
      "Avg F1-Score: 0.4881783801043551\n",
      "Avg macro F1-Score: 0.7070082893654377\n"
     ]
    }
   ],
   "source": [
    "accuracy, recall, precision, f1, macro_f1 = check_svm(1.0, True, 2)\n",
    "print(f'Avg accuracy: {np.array(accuracy).mean()}')\n",
    "print(f'Avg precision: {np.array(precision).mean()}')\n",
    "print(f'Avg recall: {np.array(recall).mean()}')\n",
    "print(f'Avg F1-Score: {np.array(f1).mean()}')\n",
    "print(f'Avg macro F1-Score: {np.array(macro_f1).mean()}')"
   ]
  },
  {
   "cell_type": "markdown",
   "metadata": {
    "id": "zKMmFuUFYswJ"
   },
   "source": [
    "# Keras NN"
   ]
  },
  {
   "cell_type": "code",
   "execution_count": null,
   "metadata": {
    "id": "NuZrVMtmu4Js"
   },
   "outputs": [],
   "source": [
    "def check_nn(downsampling=True, ratio=1.0, weighting=True, weights_dict=None,\n",
    "             batch_size=200, epochs=50, only_one=False):\n",
    "  accuracy, recall, precision, f1, macro_f1 = [], [], [], [], []\n",
    "  for train_index, test_index in skf.split(X, y):\n",
    "    X_train, X_test = X[train_index], X[test_index]\n",
    "    y_train, y_test = y[train_index], y[test_index]\n",
    "    if downsampling:\n",
    "      offensive_indices = np.where(y_train == 1)[0]\n",
    "      nonoffensive_indices = np.where(y_train == 0)[0]\n",
    "      sampled_nonoffensive_indices = np.random.choice(nonoffensive_indices,\n",
    "                                                      size=int(ratio * len(offensive_indices)),\n",
    "                                                      replace=False)\n",
    "      indices = np.concatenate((offensive_indices, sampled_nonoffensive_indices))\n",
    "      np.random.shuffle(indices)\n",
    "      downsampled_y = y_train[indices]\n",
    "      downsampled_X = X_train[indices, :]\n",
    "    else:\n",
    "      downsampled_y, downsampled_X = y_train, X_train\n",
    "    if weighting and weights_dict is None:\n",
    "      class_weights = class_weight.compute_class_weight('balanced',\n",
    "                                                        np.unique(downsampled_y),\n",
    "                                                        downsampled_y)\n",
    "      weights_dict = dict(enumerate(class_weights))\n",
    "\n",
    "    keras_nn = keras.Sequential([layers.Dense(128, activation=\"relu\"),\n",
    "                                 layers.Dropout(0.5),\n",
    "                                 layers.Dense(32, activation=\"relu\"),\n",
    "                                 layers.Dense(1, activation='sigmoid')])\n",
    "    opt = keras.optimizers.Adam(0.001)\n",
    "    keras_nn.compile(loss='binary_crossentropy', optimizer=opt, \n",
    "                     metrics=[tf.keras.metrics.Recall(name=\"recall\"), tf.keras.metrics.Precision(name=\"prec\")])\n",
    "    if only_one:\n",
    "      keras_nn.fit(X_train, y_train, batch_size=batch_size, epochs=epochs,\n",
    "                   validation_data=(X_test, y_test), class_weight=weights_dict)\n",
    "      break\n",
    "    if weighting:\n",
    "      keras_nn.fit(X_train, y_train, batch_size=batch_size, \n",
    "                   class_weight=weights_dict, epochs=epochs, verbose=0)\n",
    "    else:\n",
    "      keras_nn.fit(X_train, y_train, batch_size=batch_size,\n",
    "                   epochs=epochs, verbose=0)\n",
    "    preds = np.round(keras_nn.predict(X_test))\n",
    "    accuracy.append(accuracy_score(y_test, preds))\n",
    "    precision.append(precision_score(y_test, preds))\n",
    "    recall.append(recall_score(y_test, preds))\n",
    "    f1.append(f1_score(y_test, preds))\n",
    "    macro_f1.append(f1_score(y_test, preds, average='macro'))\n",
    "  return accuracy, recall, precision, f1, macro_f1"
   ]
  },
  {
   "cell_type": "markdown",
   "metadata": {
    "id": "MpBEFl7H0sfp"
   },
   "source": [
    "Check only one fold:"
   ]
  },
  {
   "cell_type": "code",
   "execution_count": null,
   "metadata": {
    "colab": {
     "base_uri": "https://localhost:8080/"
    },
    "id": "k0raLiCw0uu-",
    "outputId": "74c28536-5ce5-42ad-ded1-c7856459988c"
   },
   "outputs": [
    {
     "name": "stdout",
     "output_type": "stream",
     "text": [
      "Epoch 1/40\n",
      "47/47 [==============================] - 2s 13ms/step - loss: 0.1901 - recall: 0.1164 - prec: 0.0736 - val_loss: 0.5088 - val_recall: 0.0000e+00 - val_prec: 0.0000e+00\n",
      "Epoch 2/40\n",
      "47/47 [==============================] - 0s 4ms/step - loss: 0.1852 - recall: 1.2559e-04 - prec: 0.0625 - val_loss: 0.4953 - val_recall: 0.0000e+00 - val_prec: 0.0000e+00\n",
      "Epoch 3/40\n",
      "47/47 [==============================] - 0s 4ms/step - loss: 0.1765 - recall: 0.0180 - prec: 0.2570 - val_loss: 0.4545 - val_recall: 0.1905 - val_prec: 0.3750\n",
      "Epoch 4/40\n",
      "47/47 [==============================] - 0s 5ms/step - loss: 0.1652 - recall: 0.3067 - prec: 0.3686 - val_loss: 0.4254 - val_recall: 0.4921 - val_prec: 0.3131\n",
      "Epoch 5/40\n",
      "47/47 [==============================] - 0s 5ms/step - loss: 0.1505 - recall: 0.5058 - prec: 0.3042 - val_loss: 0.3430 - val_recall: 0.3968 - val_prec: 0.3289\n",
      "Epoch 6/40\n",
      "47/47 [==============================] - 0s 4ms/step - loss: 0.1439 - recall: 0.6011 - prec: 0.3408 - val_loss: 0.3590 - val_recall: 0.5079 - val_prec: 0.3386\n",
      "Epoch 7/40\n",
      "47/47 [==============================] - 0s 5ms/step - loss: 0.1406 - recall: 0.5826 - prec: 0.3310 - val_loss: 0.3804 - val_recall: 0.5794 - val_prec: 0.3230\n",
      "Epoch 8/40\n",
      "47/47 [==============================] - 0s 5ms/step - loss: 0.1376 - recall: 0.6724 - prec: 0.3558 - val_loss: 0.3825 - val_recall: 0.6111 - val_prec: 0.3235\n",
      "Epoch 9/40\n",
      "47/47 [==============================] - 0s 5ms/step - loss: 0.1324 - recall: 0.6755 - prec: 0.3520 - val_loss: 0.3701 - val_recall: 0.6111 - val_prec: 0.3348\n",
      "Epoch 10/40\n",
      "47/47 [==============================] - 0s 5ms/step - loss: 0.1220 - recall: 0.7209 - prec: 0.3750 - val_loss: 0.3529 - val_recall: 0.5952 - val_prec: 0.3472\n",
      "Epoch 11/40\n",
      "47/47 [==============================] - 0s 5ms/step - loss: 0.1195 - recall: 0.7401 - prec: 0.3942 - val_loss: 0.3940 - val_recall: 0.6587 - val_prec: 0.3268\n",
      "Epoch 12/40\n",
      "47/47 [==============================] - 0s 4ms/step - loss: 0.1208 - recall: 0.7348 - prec: 0.3635 - val_loss: 0.3718 - val_recall: 0.6349 - val_prec: 0.3361\n",
      "Epoch 13/40\n",
      "47/47 [==============================] - 0s 5ms/step - loss: 0.1185 - recall: 0.7419 - prec: 0.3700 - val_loss: 0.3873 - val_recall: 0.6667 - val_prec: 0.3231\n",
      "Epoch 14/40\n",
      "47/47 [==============================] - 0s 4ms/step - loss: 0.1152 - recall: 0.7670 - prec: 0.3961 - val_loss: 0.3707 - val_recall: 0.6587 - val_prec: 0.3430\n",
      "Epoch 15/40\n",
      "47/47 [==============================] - 0s 5ms/step - loss: 0.1162 - recall: 0.7790 - prec: 0.3997 - val_loss: 0.3715 - val_recall: 0.6746 - val_prec: 0.3542\n",
      "Epoch 16/40\n",
      "47/47 [==============================] - 0s 5ms/step - loss: 0.1113 - recall: 0.8041 - prec: 0.3863 - val_loss: 0.3050 - val_recall: 0.4921 - val_prec: 0.3924\n",
      "Epoch 17/40\n",
      "47/47 [==============================] - 0s 6ms/step - loss: 0.1042 - recall: 0.7392 - prec: 0.4483 - val_loss: 0.3480 - val_recall: 0.6349 - val_prec: 0.3653\n",
      "Epoch 18/40\n",
      "47/47 [==============================] - 0s 5ms/step - loss: 0.1040 - recall: 0.8117 - prec: 0.4484 - val_loss: 0.3591 - val_recall: 0.6587 - val_prec: 0.3689\n",
      "Epoch 19/40\n",
      "47/47 [==============================] - 0s 9ms/step - loss: 0.0967 - recall: 0.8112 - prec: 0.4279 - val_loss: 0.3618 - val_recall: 0.6508 - val_prec: 0.3628\n",
      "Epoch 20/40\n",
      "47/47 [==============================] - 0s 5ms/step - loss: 0.0981 - recall: 0.8220 - prec: 0.4308 - val_loss: 0.3296 - val_recall: 0.5952 - val_prec: 0.3827\n",
      "Epoch 21/40\n",
      "47/47 [==============================] - 0s 5ms/step - loss: 0.0891 - recall: 0.8178 - prec: 0.5020 - val_loss: 0.3203 - val_recall: 0.5476 - val_prec: 0.3651\n",
      "Epoch 22/40\n",
      "47/47 [==============================] - 0s 5ms/step - loss: 0.0910 - recall: 0.8233 - prec: 0.5108 - val_loss: 0.3331 - val_recall: 0.6190 - val_prec: 0.3881\n",
      "Epoch 23/40\n",
      "47/47 [==============================] - 0s 5ms/step - loss: 0.0827 - recall: 0.8630 - prec: 0.4908 - val_loss: 0.3381 - val_recall: 0.6032 - val_prec: 0.3654\n",
      "Epoch 24/40\n",
      "47/47 [==============================] - 0s 5ms/step - loss: 0.0872 - recall: 0.8484 - prec: 0.4970 - val_loss: 0.3484 - val_recall: 0.6111 - val_prec: 0.3649\n",
      "Epoch 25/40\n",
      "47/47 [==============================] - 0s 5ms/step - loss: 0.0823 - recall: 0.8613 - prec: 0.5169 - val_loss: 0.3403 - val_recall: 0.6111 - val_prec: 0.3793\n",
      "Epoch 26/40\n",
      "47/47 [==============================] - 0s 5ms/step - loss: 0.0771 - recall: 0.8792 - prec: 0.5214 - val_loss: 0.3297 - val_recall: 0.5952 - val_prec: 0.3947\n",
      "Epoch 27/40\n",
      "47/47 [==============================] - 0s 5ms/step - loss: 0.0680 - recall: 0.8659 - prec: 0.5468 - val_loss: 0.3804 - val_recall: 0.6508 - val_prec: 0.3306\n",
      "Epoch 28/40\n",
      "47/47 [==============================] - 0s 6ms/step - loss: 0.0688 - recall: 0.8949 - prec: 0.5459 - val_loss: 0.3346 - val_recall: 0.5556 - val_prec: 0.3723\n",
      "Epoch 29/40\n",
      "47/47 [==============================] - 0s 5ms/step - loss: 0.0702 - recall: 0.8946 - prec: 0.5307 - val_loss: 0.3396 - val_recall: 0.5635 - val_prec: 0.3797\n",
      "Epoch 30/40\n",
      "47/47 [==============================] - 0s 5ms/step - loss: 0.0667 - recall: 0.9050 - prec: 0.5454 - val_loss: 0.3218 - val_recall: 0.4762 - val_prec: 0.4000\n",
      "Epoch 31/40\n",
      "47/47 [==============================] - 0s 5ms/step - loss: 0.0668 - recall: 0.9017 - prec: 0.5625 - val_loss: 0.4113 - val_recall: 0.6667 - val_prec: 0.3231\n",
      "Epoch 32/40\n",
      "47/47 [==============================] - 0s 5ms/step - loss: 0.0633 - recall: 0.9110 - prec: 0.5349 - val_loss: 0.3401 - val_recall: 0.4921 - val_prec: 0.3605\n",
      "Epoch 33/40\n",
      "47/47 [==============================] - 0s 5ms/step - loss: 0.0595 - recall: 0.8989 - prec: 0.6227 - val_loss: 0.3302 - val_recall: 0.4683 - val_prec: 0.3933\n",
      "Epoch 34/40\n",
      "47/47 [==============================] - 0s 5ms/step - loss: 0.0564 - recall: 0.9184 - prec: 0.6165 - val_loss: 0.3650 - val_recall: 0.5635 - val_prec: 0.3641\n",
      "Epoch 35/40\n",
      "47/47 [==============================] - 0s 4ms/step - loss: 0.0607 - recall: 0.9203 - prec: 0.5860 - val_loss: 0.3688 - val_recall: 0.5794 - val_prec: 0.3561\n",
      "Epoch 36/40\n",
      "47/47 [==============================] - 0s 5ms/step - loss: 0.0533 - recall: 0.9362 - prec: 0.5980 - val_loss: 0.3988 - val_recall: 0.6032 - val_prec: 0.3408\n",
      "Epoch 37/40\n",
      "47/47 [==============================] - 0s 5ms/step - loss: 0.0507 - recall: 0.9380 - prec: 0.5902 - val_loss: 0.3761 - val_recall: 0.5873 - val_prec: 0.3541\n",
      "Epoch 38/40\n",
      "47/47 [==============================] - 0s 5ms/step - loss: 0.0526 - recall: 0.9383 - prec: 0.5955 - val_loss: 0.3396 - val_recall: 0.4444 - val_prec: 0.3889\n",
      "Epoch 39/40\n",
      "47/47 [==============================] - 0s 5ms/step - loss: 0.0519 - recall: 0.9221 - prec: 0.6304 - val_loss: 0.3769 - val_recall: 0.5714 - val_prec: 0.3673\n",
      "Epoch 40/40\n",
      "47/47 [==============================] - 0s 5ms/step - loss: 0.0437 - recall: 0.9480 - prec: 0.6680 - val_loss: 0.3802 - val_recall: 0.5317 - val_prec: 0.3418\n"
     ]
    },
    {
     "data": {
      "text/plain": [
       "([], [], [], [], [])"
      ]
     },
     "execution_count": 108,
     "metadata": {
      "tags": []
     },
     "output_type": "execute_result"
    }
   ],
   "source": [
    "check_nn(downsampling=False, weighting=False, batch_size=100, \n",
    "         epochs=40, only_one=True, weights_dict={0: 0.2, 1: 1.0})"
   ]
  },
  {
   "cell_type": "markdown",
   "metadata": {
    "id": "9l0F0XZkw1P8"
   },
   "source": [
    "Check a network with proportional class weighting, no downsampling."
   ]
  },
  {
   "cell_type": "code",
   "execution_count": null,
   "metadata": {
    "colab": {
     "base_uri": "https://localhost:8080/"
    },
    "id": "eTv6WirOwmhX",
    "outputId": "468455bb-f2bf-4f9d-e4af-4e8bbb4aed1e"
   },
   "outputs": [
    {
     "name": "stdout",
     "output_type": "stream",
     "text": [
      "Avg accuracy: 0.8436704865566421\n",
      "Avg precision: 0.3663891857717633\n",
      "Avg recall: 0.6167111111111111\n",
      "Avg F1-Score: 0.4572976092068857\n",
      "Avg macro F1-Score: 0.6829177857752396\n"
     ]
    }
   ],
   "source": [
    "acc, recall, prec, f1, macro_f1 = check_nn(downsampling=False, weighting=True, \n",
    "                                           weights_dict=None, batch_size=200, epochs=50)\n",
    "print(f'Avg accuracy: {np.array(acc).mean()}')\n",
    "print(f'Avg precision: {np.array(prec).mean()}')\n",
    "print(f'Avg recall: {np.array(recall).mean()}')\n",
    "print(f'Avg F1-Score: {np.array(f1).mean()}')\n",
    "print(f'Avg macro F1-Score: {np.array(macro_f1).mean()}')"
   ]
  },
  {
   "cell_type": "markdown",
   "metadata": {
    "id": "A4Cy4_a2_QKl"
   },
   "source": [
    "Check a network with given class weighting, no downsampling."
   ]
  },
  {
   "cell_type": "code",
   "execution_count": null,
   "metadata": {
    "colab": {
     "base_uri": "https://localhost:8080/"
    },
    "id": "AfpahSbq6HKY",
    "outputId": "04795c78-8550-4d9c-d783-a3b3338c9cc7"
   },
   "outputs": [
    {
     "name": "stdout",
     "output_type": "stream",
     "text": [
      "Avg accuracy: 0.8622232054628851\n",
      "Avg precision: 0.4002194542226286\n",
      "Avg recall: 0.5607619047619048\n",
      "Avg F1-Score: 0.4669201071466951\n",
      "Avg macro F1-Score: 0.6939014831638466\n"
     ]
    }
   ],
   "source": [
    "acc, recall, prec, f1, macro_f1 = check_nn(downsampling=False, weighting=True, \n",
    "                                           weights_dict={0: 0.2, 1: 1.0}, batch_size=200, epochs=50)\n",
    "print(f'Avg accuracy: {np.array(acc).mean()}')\n",
    "print(f'Avg precision: {np.array(prec).mean()}')\n",
    "print(f'Avg recall: {np.array(recall).mean()}')\n",
    "print(f'Avg F1-Score: {np.array(f1).mean()}')\n",
    "print(f'Avg macro F1-Score: {np.array(macro_f1).mean()}')"
   ]
  },
  {
   "cell_type": "markdown",
   "metadata": {
    "id": "ZkPeNGplzRS7"
   },
   "source": [
    "Check a network with no class weighting, but downsampling."
   ]
  },
  {
   "cell_type": "code",
   "execution_count": null,
   "metadata": {
    "colab": {
     "base_uri": "https://localhost:8080/"
    },
    "id": "MxKEUCIvzV2H",
    "outputId": "7aa047f5-b41b-4c5c-d3ca-2a0cf583661f"
   },
   "outputs": [
    {
     "name": "stdout",
     "output_type": "stream",
     "text": [
      "Avg accuracy: 0.8910849077474449\n",
      "Avg precision: 0.5023552963849017\n",
      "Avg recall: 0.36115555555555556\n",
      "Avg F1-Score: 0.41607455191815584\n",
      "Avg macro F1-Score: 0.6779796642593625\n"
     ]
    }
   ],
   "source": [
    "acc, recall, prec, f1, macro_f1 = check_nn(downsampling=True, ratio=1.0,\n",
    "                                           weighting=False, batch_size=100, epochs=30)\n",
    "print(f'Avg accuracy: {np.array(acc).mean()}')\n",
    "print(f'Avg precision: {np.array(prec).mean()}')\n",
    "print(f'Avg recall: {np.array(recall).mean()}')\n",
    "print(f'Avg F1-Score: {np.array(f1).mean()}')\n",
    "print(f'Avg macro F1-Score: {np.array(macro_f1).mean()}')"
   ]
  },
  {
   "cell_type": "code",
   "execution_count": null,
   "metadata": {
    "colab": {
     "base_uri": "https://localhost:8080/"
    },
    "id": "_lg-lZXBzeEo",
    "outputId": "9d97e730-0073-4538-c7d9-9e90d93a618f"
   },
   "outputs": [
    {
     "name": "stdout",
     "output_type": "stream",
     "text": [
      "Avg accuracy: 0.8936620798489742\n",
      "Avg precision: 0.5116250970637193\n",
      "Avg recall: 0.364215873015873\n",
      "Avg F1-Score: 0.4209222404802374\n",
      "Avg macro F1-Score: 0.6811621567363975\n"
     ]
    }
   ],
   "source": [
    "acc, recall, prec, f1, macro_f1 = check_nn(downsampling=True, ratio=2.0,\n",
    "                                           weighting=False, batch_size=100, epochs=30)\n",
    "print(f'Avg accuracy: {np.array(acc).mean()}')\n",
    "print(f'Avg precision: {np.array(prec).mean()}')\n",
    "print(f'Avg recall: {np.array(recall).mean()}')\n",
    "print(f'Avg F1-Score: {np.array(f1).mean()}')\n",
    "print(f'Avg macro F1-Score: {np.array(macro_f1).mean()}')"
   ]
  },
  {
   "cell_type": "code",
   "execution_count": null,
   "metadata": {
    "id": "YV1GclykgUyq"
   },
   "outputs": [],
   "source": [
    "import os \n",
    "import urllib.request\n",
    "\n",
    "if not os.path.exists('kgr10.plain.lower.skipgram.dim300.neg10.bin'):\n",
    "  file_path = 'kgr10.plain.lower.skipgram.dim300.neg10.bin'\n",
    "  urllib.request.urlretrieve('https://nextcloud.clarin-pl.eu/index.php/s/luubhnS0AvjmtQc/download?path=%2F&files=kgr10.plain.lower.skipgram.dim300.neg10.bin', file_path)"
   ]
  }
 ],
 "metadata": {
  "colab": {
   "collapsed_sections": [],
   "name": "FastText.ipynb",
   "provenance": [],
   "toc_visible": true
  },
  "kernelspec": {
   "display_name": "Python 3",
   "language": "python",
   "name": "python3"
  },
  "language_info": {
   "codemirror_mode": {
    "name": "ipython",
    "version": 3
   },
   "file_extension": ".py",
   "mimetype": "text/x-python",
   "name": "python",
   "nbconvert_exporter": "python",
   "pygments_lexer": "ipython3",
   "version": "3.8.1"
  }
 },
 "nbformat": 4,
 "nbformat_minor": 1
}
