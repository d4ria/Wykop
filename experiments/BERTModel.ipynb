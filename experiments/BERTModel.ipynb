{
 "cells": [
  {
   "cell_type": "code",
   "execution_count": null,
   "metadata": {
    "id": "jAeuJ43DLQ4T"
   },
   "outputs": [],
   "source": [
    "pip install -U sentence-transformers"
   ]
  },
  {
   "cell_type": "code",
   "execution_count": null,
   "metadata": {
    "id": "hGSQDP1sp4de"
   },
   "outputs": [],
   "source": [
    "import pandas as pd"
   ]
  },
  {
   "cell_type": "markdown",
   "metadata": {
    "id": "HmgAycsdeRxo"
   },
   "source": [
    "## Data loading"
   ]
  },
  {
   "cell_type": "code",
   "execution_count": null,
   "metadata": {
    "colab": {
     "base_uri": "https://localhost:8080/",
     "height": 929
    },
    "id": "HJjmqEfbiIMr",
    "outputId": "32482287-bd9d-4709-8719-d509d5e3ce8e"
   },
   "outputs": [
    {
     "data": {
      "text/html": [
       "<div>\n",
       "<style scoped>\n",
       "    .dataframe tbody tr th:only-of-type {\n",
       "        vertical-align: middle;\n",
       "    }\n",
       "\n",
       "    .dataframe tbody tr th {\n",
       "        vertical-align: top;\n",
       "    }\n",
       "\n",
       "    .dataframe thead th {\n",
       "        text-align: right;\n",
       "    }\n",
       "</style>\n",
       "<table border=\"1\" class=\"dataframe\">\n",
       "  <thead>\n",
       "    <tr style=\"text-align: right;\">\n",
       "      <th></th>\n",
       "      <th>Unnamed: 0</th>\n",
       "      <th>comment_id</th>\n",
       "      <th>entry_id</th>\n",
       "      <th>date</th>\n",
       "      <th>text</th>\n",
       "      <th>author_login</th>\n",
       "      <th>vote_count</th>\n",
       "      <th>receiver</th>\n",
       "      <th>hate_word_counts</th>\n",
       "      <th>is_hateful</th>\n",
       "      <th>annotation</th>\n",
       "      <th>text_clean</th>\n",
       "    </tr>\n",
       "  </thead>\n",
       "  <tbody>\n",
       "    <tr>\n",
       "      <th>0</th>\n",
       "      <td>0</td>\n",
       "      <td>185386257</td>\n",
       "      <td>52292479</td>\n",
       "      <td>2020-09-23 00:18:39</td>\n",
       "      <td>Ty no kurwa że też ja na to nie wpadłem ale ze...</td>\n",
       "      <td>Cybek-Marian</td>\n",
       "      <td>1</td>\n",
       "      <td>atteint</td>\n",
       "      <td>2</td>\n",
       "      <td>1</td>\n",
       "      <td>0</td>\n",
       "      <td>Ty no kurwa że też ja na to nie wpadłem ale ze...</td>\n",
       "    </tr>\n",
       "    <tr>\n",
       "      <th>1</th>\n",
       "      <td>3</td>\n",
       "      <td>174804569</td>\n",
       "      <td>49417029</td>\n",
       "      <td>2020-05-14 19:45:44</td>\n",
       "      <td>coś ponad 1 a mniej niż 2</td>\n",
       "      <td>wytrzzeszcz</td>\n",
       "      <td>1</td>\n",
       "      <td>Kosciany</td>\n",
       "      <td>0</td>\n",
       "      <td>0</td>\n",
       "      <td>0</td>\n",
       "      <td>coś ponad 1 a mniej niż 2</td>\n",
       "    </tr>\n",
       "    <tr>\n",
       "      <th>2</th>\n",
       "      <td>6</td>\n",
       "      <td>189533891</td>\n",
       "      <td>53440779</td>\n",
       "      <td>2020-11-09 20:41:58</td>\n",
       "      <td>Motor ma już w garażu</td>\n",
       "      <td>piSSowiec39</td>\n",
       "      <td>3</td>\n",
       "      <td>Zagmadfany2</td>\n",
       "      <td>0</td>\n",
       "      <td>0</td>\n",
       "      <td>0</td>\n",
       "      <td>Motor ma już w garażu</td>\n",
       "    </tr>\n",
       "    <tr>\n",
       "      <th>3</th>\n",
       "      <td>9</td>\n",
       "      <td>172538589</td>\n",
       "      <td>48804329</td>\n",
       "      <td>2020-04-17 01:00:24</td>\n",
       "      <td>znow robic na tego zlodzieja</td>\n",
       "      <td>ranunculus</td>\n",
       "      <td>3</td>\n",
       "      <td>Graner</td>\n",
       "      <td>0</td>\n",
       "      <td>0</td>\n",
       "      <td>0</td>\n",
       "      <td>znow robic na tego zlodzieja</td>\n",
       "    </tr>\n",
       "    <tr>\n",
       "      <th>4</th>\n",
       "      <td>12</td>\n",
       "      <td>185485247</td>\n",
       "      <td>52313979</td>\n",
       "      <td>2020-09-24 11:51:11</td>\n",
       "      <td>kurwa człowieku no do kurwy nędzy chociaż wytn...</td>\n",
       "      <td>Cybek-Marian</td>\n",
       "      <td>0</td>\n",
       "      <td>AgentGRU</td>\n",
       "      <td>3</td>\n",
       "      <td>1</td>\n",
       "      <td>1</td>\n",
       "      <td>kurwa człowieku no do kurwy nędzy chociaż wytn...</td>\n",
       "    </tr>\n",
       "    <tr>\n",
       "      <th>...</th>\n",
       "      <td>...</td>\n",
       "      <td>...</td>\n",
       "      <td>...</td>\n",
       "      <td>...</td>\n",
       "      <td>...</td>\n",
       "      <td>...</td>\n",
       "      <td>...</td>\n",
       "      <td>...</td>\n",
       "      <td>...</td>\n",
       "      <td>...</td>\n",
       "      <td>...</td>\n",
       "      <td>...</td>\n",
       "    </tr>\n",
       "    <tr>\n",
       "      <th>5816</th>\n",
       "      <td>17458</td>\n",
       "      <td>186254803</td>\n",
       "      <td>52523329</td>\n",
       "      <td>2020-10-04 01:25:55</td>\n",
       "      <td>ale jak to Nocna a ty w gaciach</td>\n",
       "      <td>Paula_pi</td>\n",
       "      <td>2</td>\n",
       "      <td>Graner</td>\n",
       "      <td>0</td>\n",
       "      <td>0</td>\n",
       "      <td>0</td>\n",
       "      <td>ale jak to Nocna a ty w gaciach</td>\n",
       "    </tr>\n",
       "    <tr>\n",
       "      <th>5817</th>\n",
       "      <td>17461</td>\n",
       "      <td>190203499</td>\n",
       "      <td>53620979</td>\n",
       "      <td>2020-11-17 20:48:21</td>\n",
       "      <td>mam ledwo 21 lat ja tam z dorosłością mam niew...</td>\n",
       "      <td>Anty_Chryst</td>\n",
       "      <td>0</td>\n",
       "      <td>SkrytyZolw</td>\n",
       "      <td>0</td>\n",
       "      <td>0</td>\n",
       "      <td>0</td>\n",
       "      <td>mam ledwo 21 lat ja tam z dorosłością mam niew...</td>\n",
       "    </tr>\n",
       "    <tr>\n",
       "      <th>5818</th>\n",
       "      <td>17464</td>\n",
       "      <td>188107553</td>\n",
       "      <td>53038579</td>\n",
       "      <td>2020-10-25 15:19:22</td>\n",
       "      <td>tylko niech potem nikogo nie zdziwi że protest...</td>\n",
       "      <td>galicjanin</td>\n",
       "      <td>0</td>\n",
       "      <td>muwieszeptem</td>\n",
       "      <td>1</td>\n",
       "      <td>1</td>\n",
       "      <td>0</td>\n",
       "      <td>tylko niech potem nikogo nie zdziwi że protest...</td>\n",
       "    </tr>\n",
       "    <tr>\n",
       "      <th>5819</th>\n",
       "      <td>17468</td>\n",
       "      <td>174952993</td>\n",
       "      <td>49460679</td>\n",
       "      <td>2020-05-16 17:17:34</td>\n",
       "      <td>a wiesz co jest najgorsze ze jak Michau bedzie...</td>\n",
       "      <td>niezdiagnozowany</td>\n",
       "      <td>0</td>\n",
       "      <td>Gon70</td>\n",
       "      <td>0</td>\n",
       "      <td>0</td>\n",
       "      <td>1</td>\n",
       "      <td>a wiesz co jest najgorsze ze jak Michau bedzie...</td>\n",
       "    </tr>\n",
       "    <tr>\n",
       "      <th>5820</th>\n",
       "      <td>17471</td>\n",
       "      <td>182798817</td>\n",
       "      <td>51530079</td>\n",
       "      <td>2020-08-21 15:06:27</td>\n",
       "      <td>Ja ścinałem się na łyso zanim szkalowanie zako...</td>\n",
       "      <td>Blaskun</td>\n",
       "      <td>1</td>\n",
       "      <td>PiccoloColo</td>\n",
       "      <td>0</td>\n",
       "      <td>0</td>\n",
       "      <td>0</td>\n",
       "      <td>Ja ścinałem się na łyso zanim szkalowanie zako...</td>\n",
       "    </tr>\n",
       "  </tbody>\n",
       "</table>\n",
       "<p>5821 rows × 12 columns</p>\n",
       "</div>"
      ],
      "text/plain": [
       "      Unnamed: 0  ...                                         text_clean\n",
       "0              0  ...  Ty no kurwa że też ja na to nie wpadłem ale ze...\n",
       "1              3  ...                          coś ponad 1 a mniej niż 2\n",
       "2              6  ...                              Motor ma już w garażu\n",
       "3              9  ...                       znow robic na tego zlodzieja\n",
       "4             12  ...  kurwa człowieku no do kurwy nędzy chociaż wytn...\n",
       "...          ...  ...                                                ...\n",
       "5816       17458  ...                    ale jak to Nocna a ty w gaciach\n",
       "5817       17461  ...  mam ledwo 21 lat ja tam z dorosłością mam niew...\n",
       "5818       17464  ...  tylko niech potem nikogo nie zdziwi że protest...\n",
       "5819       17468  ...  a wiesz co jest najgorsze ze jak Michau bedzie...\n",
       "5820       17471  ...  Ja ścinałem się na łyso zanim szkalowanie zako...\n",
       "\n",
       "[5821 rows x 12 columns]"
      ]
     },
     "execution_count": 6,
     "metadata": {
      "tags": []
     },
     "output_type": "execute_result"
    }
   ],
   "source": [
    "comments = pd.read_csv('/content/classification_dataset.csv')\n",
    "comments['text_clean'] = comments['text']\n",
    "comments"
   ]
  },
  {
   "cell_type": "code",
   "execution_count": null,
   "metadata": {
    "id": "5VIXKrNo9yYR"
   },
   "outputs": [],
   "source": [
    "import torch\n",
    "device = torch.device(\"cuda\" if torch.cuda.is_available() else \"cpu\")"
   ]
  },
  {
   "cell_type": "code",
   "execution_count": null,
   "metadata": {
    "colab": {
     "base_uri": "https://localhost:8080/",
     "height": 213,
     "referenced_widgets": [
      "cd800bacd34442069b882974bd7ef684",
      "72c3f418ce9744f7868ce2de695e50da",
      "dd2bc8768e1e4f93af3249c85f444b94",
      "20da653bb06d4df7bd454db0030a4239",
      "35ab34a2e1204e299662d0a30f3bc256",
      "15d779b94cbb420eba06f1af05773b2f",
      "483760ce76d349b2b1cb07919bdab1f8",
      "2a25d56024e248baa6aa214612d5198c",
      "624d64c8f55f45c99398c260129d27ae",
      "40feb3479c1f4e55a20041f7d6e9774d",
      "2a6f697db3554d448835dd7e1ff9a58c",
      "be3e521ddee94b239869fdfeedf4a5c2",
      "2c869fd7595847b28490439b10c05d47",
      "b7f50919cf4a4ebeb69d69c08083f078",
      "aa5b995a0f6d4287b40205458446ee1f",
      "73c8d68f8c7e4d62902f02c868696952",
      "a062f0e219314fa89b545888597f3592",
      "41ad94806d284c8d8e0e07c83bc8b52c",
      "d9965eeb25034c328975c4caea91e9f5",
      "0440b52d8ea549ddb3ae13329468f486",
      "92054cf7e0774e9a93d3e7f4f759d1fe",
      "ee0000b210674958aa2686ba62ba1a67",
      "0b7613c700364c9f81ef803462f5e269",
      "129b6e6a343b42b08bbf62d869b4757d",
      "edff19ac923a439fa4850a52998b57fa",
      "872e714713894eedb9fbab2b41ce6433",
      "3b9975a11f7044ee98a8e93a7e2b0bb3",
      "3b2ed11c28f443548c338412dc5a622c",
      "e1f76185ec1241b2a72b59061aa6ea76",
      "8d9ce524667e4573ad2c4ab1f3e9549e",
      "89d1420c82124ed2a2a0fea8b6e380c9",
      "2f7c38acba1e4324ba50c167b26f27c5"
     ]
    },
    "id": "v5k2g3HEMraF",
    "outputId": "d39b9222-e847-4800-8ecf-0942ae15eff7"
   },
   "outputs": [
    {
     "data": {
      "application/vnd.jupyter.widget-view+json": {
       "model_id": "cd800bacd34442069b882974bd7ef684",
       "version_major": 2,
       "version_minor": 0
      },
      "text/plain": [
       "HBox(children=(FloatProgress(value=0.0, description='Downloading', max=472.0, style=ProgressStyle(description_…"
      ]
     },
     "metadata": {
      "tags": []
     },
     "output_type": "display_data"
    },
    {
     "name": "stdout",
     "output_type": "stream",
     "text": [
      "\n"
     ]
    },
    {
     "data": {
      "application/vnd.jupyter.widget-view+json": {
       "model_id": "624d64c8f55f45c99398c260129d27ae",
       "version_major": 2,
       "version_minor": 0
      },
      "text/plain": [
       "HBox(children=(FloatProgress(value=0.0, description='Downloading', max=906984.0, style=ProgressStyle(descripti…"
      ]
     },
     "metadata": {
      "tags": []
     },
     "output_type": "display_data"
    },
    {
     "name": "stdout",
     "output_type": "stream",
     "text": [
      "\n"
     ]
    },
    {
     "data": {
      "application/vnd.jupyter.widget-view+json": {
       "model_id": "a062f0e219314fa89b545888597f3592",
       "version_major": 2,
       "version_minor": 0
      },
      "text/plain": [
       "HBox(children=(FloatProgress(value=0.0, description='Downloading', max=555571.0, style=ProgressStyle(descripti…"
      ]
     },
     "metadata": {
      "tags": []
     },
     "output_type": "display_data"
    },
    {
     "name": "stdout",
     "output_type": "stream",
     "text": [
      "\n"
     ]
    },
    {
     "data": {
      "application/vnd.jupyter.widget-view+json": {
       "model_id": "edff19ac923a439fa4850a52998b57fa",
       "version_major": 2,
       "version_minor": 0
      },
      "text/plain": [
       "HBox(children=(FloatProgress(value=0.0, description='Downloading', max=654201076.0, style=ProgressStyle(descri…"
      ]
     },
     "metadata": {
      "tags": []
     },
     "output_type": "display_data"
    },
    {
     "name": "stdout",
     "output_type": "stream",
     "text": [
      "\n"
     ]
    }
   ],
   "source": [
    "from transformers import AutoTokenizer, AutoModel, AutoModelForMaskedLM\n",
    "from transformers import AutoTokenizer, AutoModelForPreTraining\n",
    "\n",
    "tokenizer = AutoTokenizer.from_pretrained(\"allegro/herbert-base-cased\")\n",
    "model = AutoModel.from_pretrained(\"allegro/herbert-base-cased\")\n",
    "model = model.to(device)"
   ]
  },
  {
   "cell_type": "markdown",
   "metadata": {
    "id": "b24MBA_6eGjN"
   },
   "source": [
    "## User feature embeddings"
   ]
  },
  {
   "cell_type": "code",
   "execution_count": null,
   "metadata": {
    "id": "EMDp5J9t9VD_"
   },
   "outputs": [],
   "source": [
    "from sklearn import preprocessing\n",
    "import numpy as np\n",
    "\n",
    "user_features = pd.read_csv('user_features.csv').drop_duplicates()\n",
    "user_features.color = user_features.color.astype('category').cat.codes\n",
    "\n",
    "author_features = comments.merge(user_features, left_on='author_login', right_on='login', how='left').iloc[:, 14:]\n",
    "receivers_features = comments.merge(user_features, left_on='receiver', right_on='login', how='left').iloc[:, 14:]\n",
    "\n",
    "min_max_scaler = preprocessing.StandardScaler()\n",
    "\n",
    "receivers_embeddings = np.nan_to_num(min_max_scaler.fit_transform(receivers_features.values))\n",
    "authors_embeddings = np.nan_to_num(min_max_scaler.fit_transform(author_features.values))\n",
    "\n",
    "receivers_embeddings = torch.tensor(receivers_embeddings).float().to(device)\n",
    "authors_embeddings = torch.tensor(authors_embeddings).float().to(device)"
   ]
  },
  {
   "cell_type": "markdown",
   "metadata": {
    "id": "ym7a3LuneKzg"
   },
   "source": [
    "### User node2vec embeddings"
   ]
  },
  {
   "cell_type": "code",
   "execution_count": null,
   "metadata": {
    "id": "44wUt7wceN5M"
   },
   "outputs": [],
   "source": [
    "import pickle\n",
    "\n",
    "n2v_embeddings_dict = pickle.load(open('user_embeddings.p', \"rb\" ) )\n",
    "\n",
    "n2v_embeddings = []\n",
    "for author, receiver in comments.loc[:, ['author_login', 'receiver']].values.tolist():\n",
    "    n2v_embeddings.append([n2v_embeddings_dict[author], n2v_embeddings_dict[receiver]])\n",
    "\n",
    "n2v_embeddings = np.array(n2v_embeddings)\n",
    "authors_n2v_embeddings = n2v_embeddings[:, 0, :]\n",
    "receivers_n2v_embeddings = n2v_embeddings[:, 1, :]\n",
    "\n",
    "authors_n2v_embeddings = torch.tensor(authors_n2v_embeddings).float().to(device)\n",
    "receivers_n2v_embeddings = torch.tensor(receivers_n2v_embeddings).float().to(device)"
   ]
  },
  {
   "cell_type": "markdown",
   "metadata": {
    "id": "rtsPZH-meObj"
   },
   "source": [
    "## Comment augmentation"
   ]
  },
  {
   "cell_type": "code",
   "execution_count": null,
   "metadata": {
    "id": "2ZyDxPKNPxn4"
   },
   "outputs": [],
   "source": [
    "def get_augmented_texts(idx, num_samples=2000):\n",
    "  df = comments.loc[idx]\n",
    "\n",
    "  not_offensive = df.loc[df.annotation == 1]\n",
    "  offensive = df.loc[df.annotation == 2]\n",
    "\n",
    "  texts, annotations = [], []\n",
    "  for _ in range(num_samples):\n",
    "    annotation = 0\n",
    "    text = \"\"\n",
    "    for _ in range(2):\n",
    "      if np.random.rand() < 0.5:\n",
    "        annotation = 1\n",
    "        text += offensive.text_clean.sample(n=1).item()\n",
    "      else:\n",
    "        text += ' ' + not_offensive.text_clean.sample(n=1).item()\n",
    "\n",
    "    texts.append(text)\n",
    "    annotations.append(annotation)\n",
    "\n",
    "  return texts, annotations\n"
   ]
  },
  {
   "cell_type": "markdown",
   "metadata": {
    "id": "kUPNr7OgeW35"
   },
   "source": [
    "## Bert embeddings"
   ]
  },
  {
   "cell_type": "code",
   "execution_count": null,
   "metadata": {
    "id": "Bwckm2LIN9wW"
   },
   "outputs": [],
   "source": [
    "from tqdm import tqdm\n",
    "\n",
    "def get_embeddings(max_seq_len=50):\n",
    "  def batch(iterable, n=1):\n",
    "      l = len(iterable)\n",
    "      for ndx in range(0, l, n):\n",
    "          yield iterable[ndx:min(ndx + n, l)]\n",
    "\n",
    "  all_embeddings = []\n",
    "  for b_comments in tqdm(batch(comments.loc[:, 'text_clean'].tolist(), 20)):\n",
    "    \n",
    "    with torch.no_grad():\n",
    "      batch_encoding = tokenizer.batch_encode_plus(\n",
    "            b_comments,\n",
    "            padding='longest',\n",
    "            add_special_tokens=True,\n",
    "            truncation=True, max_length=max_seq_len,\n",
    "            return_tensors='pt',\n",
    "        ).to(device)\n",
    "\n",
    "      emb = model(**batch_encoding)\n",
    "\n",
    "    for i in range(emb[0].size()[0]):\n",
    "      all_embeddings.append(emb[0][i, batch_encoding['input_ids'][i] != 1, :].mean(axis=0)[None, :])\n",
    "\n",
    "  all_embeddings = torch.cat(all_embeddings, axis=0).to(device)\n",
    "\n",
    "  return all_embeddings"
   ]
  },
  {
   "cell_type": "code",
   "execution_count": null,
   "metadata": {
    "id": "aMT2Ml1RsrAN"
   },
   "outputs": [],
   "source": [
    "all_embeddings = get_embeddings(200)\n",
    "all_labels = torch.tensor(comments.annotation.values-1).to(device)"
   ]
  },
  {
   "cell_type": "code",
   "execution_count": null,
   "metadata": {
    "id": "svazkGC6dSW8"
   },
   "outputs": [],
   "source": [
    "embeddings_dict = {}\n",
    "for idx, comment_id in enumerate(comments.comment_id.values):\n",
    "  embeddings_dict[comment_id] = all_embeddings[idx].to('cpu').numpy()\n",
    "\n",
    "pickle.dump( embeddings_dict, open( \"bert_embeddings.p\", \"wb\" ) )"
   ]
  },
  {
   "cell_type": "markdown",
   "metadata": {
    "id": "ZX-JPvEgpwkT"
   },
   "source": [
    "# Bert embeddings + SVM"
   ]
  },
  {
   "cell_type": "code",
   "execution_count": null,
   "metadata": {
    "id": "VpZdYfr2rZJV"
   },
   "outputs": [],
   "source": [
    "import pandas as pd\n",
    "import numpy as np\n",
    "from tqdm import tqdm\n",
    "from sklearn.model_selection import cross_val_score, StratifiedKFold, cross_validate\n",
    "from sklearn.svm import SVC\n",
    "from sklearn.metrics import accuracy_score, precision_score, recall_score, f1_score\n",
    "import tensorflow as tf\n",
    "from tensorflow import keras\n",
    "from tensorflow.keras import layers\n",
    "from sklearn.utils import class_weight\n",
    "import gc\n",
    "\n",
    "skf = StratifiedKFold(n_splits=5, shuffle=True, random_state=0)\n",
    "embeddings = all_embeddings.cpu().numpy()\n",
    "labels = comments.annotation.values\n",
    "\n",
    "def check_svm(X, y, c=1.0, downsampling=True, ratio=1.0):\n",
    "  accuracy, recall, precision, f1, macro_f1 = [], [], [], [], []\n",
    "\n",
    "  for train_index, test_index in skf.split(X, y):\n",
    "    X_train, X_test = X[train_index], X[test_index]\n",
    "    y_train, y_test = y[train_index], y[test_index]\n",
    "    if downsampling:\n",
    "      offensive_indices = np.where(y_train == 1)[0]\n",
    "      nonoffensive_indices = np.where(y_train == 0)[0]\n",
    "      sampled_nonoffensive_indices = np.random.choice(nonoffensive_indices,\n",
    "                                                      size=int(ratio * len(offensive_indices)),\n",
    "                                                      replace=False)\n",
    "      indices = np.concatenate((offensive_indices, sampled_nonoffensive_indices))\n",
    "      np.random.shuffle(indices)\n",
    "      downsampled_y = y_train[indices]\n",
    "      downsampled_X = X_train[indices, :]\n",
    "    else:\n",
    "      downsampled_y, downsampled_X = y_train, X_train\n",
    "    clf = SVC(C=c)\n",
    "    clf.fit(downsampled_X, downsampled_y)\n",
    "    preds = clf.predict(X_test)\n",
    "    accuracy.append(accuracy_score(y_test, preds))\n",
    "    precision.append(precision_score(y_test, preds))\n",
    "    recall.append(recall_score(y_test, preds))\n",
    "    f1.append(f1_score(y_test, preds))\n",
    "    macro_f1.append(f1_score(y_test, preds, average='macro'))\n",
    "\n",
    "  return accuracy, recall, precision, f1, macro_f1\n",
    "\n",
    "\n",
    "results = {}\n",
    "\n",
    "for max_seq_len in [150]:\n",
    "  embeddings = get_embeddings(max_seq_len).cpu().numpy()\n",
    "  labels = comments.annotation.values\n",
    "  for c in range(3, 7):\n",
    "    for ratio in [1.5, 1.7, 2.0, 2.5]:\n",
    "      svm_result = check_svm(embeddings, labels, c=c, downsampling=True, ratio=ratio)\n",
    "      results[(max_seq_len, c, ratio)] = np.mean(svm_result[-2])"
   ]
  },
  {
   "cell_type": "code",
   "execution_count": null,
   "metadata": {
    "colab": {
     "base_uri": "https://localhost:8080/"
    },
    "id": "h3IwwcI80pC5",
    "outputId": "1ec34f58-fc9b-4165-9d04-8ea3cb184747"
   },
   "outputs": [
    {
     "data": {
      "text/plain": [
       "{(150, 3, 1.5): 0.4720466921352434,\n",
       " (150, 3, 1.7): 0.4900810850722099,\n",
       " (150, 3, 2.0): 0.5003060969753295,\n",
       " (150, 3, 2.5): 0.4819306847236334,\n",
       " (150, 4, 1.5): 0.4713074676966893,\n",
       " (150, 4, 1.7): 0.4938735652213042,\n",
       " (150, 4, 2.0): 0.4934706331273041,\n",
       " (150, 4, 2.5): 0.4805226350489423,\n",
       " (150, 5, 1.5): 0.4745383677347549,\n",
       " (150, 5, 1.7): 0.4928043256695811,\n",
       " (150, 5, 2.0): 0.4980697638560693,\n",
       " (150, 5, 2.5): 0.47942737503481486,\n",
       " (150, 6, 1.5): 0.46704066113569603,\n",
       " (150, 6, 1.7): 0.47924695172824255,\n",
       " (150, 6, 2.0): 0.4848725583449388,\n",
       " (150, 6, 2.5): 0.4883330549560226}"
      ]
     },
     "execution_count": 65,
     "metadata": {
      "tags": []
     },
     "output_type": "execute_result"
    }
   ],
   "source": [
    "results"
   ]
  },
  {
   "cell_type": "markdown",
   "metadata": {
    "id": "7U-yDMdPVDCC"
   },
   "source": [
    "## Models"
   ]
  },
  {
   "cell_type": "code",
   "execution_count": null,
   "metadata": {
    "id": "xllZGIJXbZor"
   },
   "outputs": [],
   "source": [
    "import torch\n",
    "import torch.nn as nn\n",
    "import torch.nn.functional as F\n",
    "\n",
    "class Net(nn.Module):\n",
    "\n",
    "    def __init__(self, classes_num=2, feature_num=768):\n",
    "        super(Net, self).__init__()\n",
    "        self.feature_num = feature_num\n",
    "\n",
    "        self.dp = nn.Dropout(p=0.5)\n",
    "        self.fc1 = nn.Linear(feature_num, 300)  # 6*6 from image dimension\n",
    "        self.fc2 = nn.Linear(300, 150)\n",
    "        self.fc3 = nn.Linear(150, classes_num)\n",
    "\n",
    "        self.softplus = nn.Softplus()\n",
    "\n",
    "    def forward(self, x, text_lengths):\n",
    "        x = x.view(-1, self.feature_num)\n",
    "        x = self.dp(x)\n",
    "        x = self.softplus(self.fc1(x))\n",
    "        x = self.dp(x)\n",
    "        x = self.softplus(self.fc2(x))\n",
    "        x = self.dp(x)\n",
    "        x = self.fc3(x)\n",
    "        return x\n",
    "\n",
    "class NetLSTM(nn.Module):\n",
    "\n",
    "    def __init__(self, classes_num=2, feature_num=768):\n",
    "        super(NetLSTM, self).__init__()\n",
    "        self.feature_num = feature_num\n",
    "\n",
    "        self.dp = nn.Dropout(p=0.5)\n",
    "        self.lstm = nn.LSTM(feature_num, hidden_size=32, batch_first=True, dropout=0.5, bidirectional=True, num_layers=1)\n",
    "        self.fc1 = nn.Linear(32*2, 100)  # 6*6 from image dimension\n",
    "        self.fc2 = nn.Linear(100, 50)\n",
    "        self.fc3 = nn.Linear(50, classes_num)\n",
    "\n",
    "        self.softplus = nn.Softplus()\n",
    "\n",
    "    def forward(self, x, text_lengths):\n",
    "        x = self.dp(x)\n",
    "        text_lengths = text_lengths.to('cpu')\n",
    "        x = torch.nn.utils.rnn.pack_padded_sequence(x, text_lengths, batch_first=True, enforce_sorted=False)\n",
    "\n",
    "        _, (x, _) = self.lstm(x)\n",
    "        x = torch.cat([x[i] for i in range(x.size()[0])], axis=1)\n",
    "\n",
    "        x = self.dp(x.squeeze())\n",
    "\n",
    "        x = self.softplus(self.fc1(x))\n",
    "        x = self.dp(x)\n",
    "\n",
    "        x = self.softplus(self.fc2(x))\n",
    "        x = self.dp(x)\n",
    "\n",
    "        x = self.fc3(x)\n",
    "        return x"
   ]
  },
  {
   "cell_type": "markdown",
   "metadata": {
    "id": "2h7U4PBSVFUm"
   },
   "source": [
    "## Train and test functions"
   ]
  },
  {
   "cell_type": "code",
   "execution_count": null,
   "metadata": {
    "id": "9vRMKP9BdR7T"
   },
   "outputs": [],
   "source": [
    "import time\n",
    "import numpy as np\n",
    "import seaborn as sns\n",
    "import matplotlib.pyplot as plt\n",
    "from sklearn.metrics import confusion_matrix, classification_report, f1_score\n",
    "from sklearn.model_selection import StratifiedKFold\n",
    "from torch.utils.data import DataLoader, WeightedRandomSampler\n",
    "\n",
    "def train_func(net, criterion, optimizer, sub_train_):\n",
    "    net.train()\n",
    "    train_loss = 0\n",
    "    train_acc = 0\n",
    "\n",
    "    if CFG['undersample']:\n",
    "      classes = [x[1].to('cpu').item() for x in sub_train_]\n",
    "      weights = torch.zeros(len(classes))\n",
    "      weights[np.array(classes) == 0] = 0.1 \n",
    "      weights[np.array(classes) == 1] = 0.9 \n",
    "      sampler = WeightedRandomSampler(weights, len(classes))\n",
    "      data = DataLoader(sub_train_, batch_size=CFG['batch_size'], sampler=sampler)\n",
    "    else:\n",
    "      data = DataLoader(sub_train_, batch_size=CFG['batch_size'], shuffle=True)\n",
    "\n",
    "    num_augmented = CFG['num_augmented']\n",
    "    if num_augmented:\n",
    "      train_indexes = [x[0] for x in sub_train_]\n",
    "      additional_texts, additional_labels = get_augmented_texts(train_indexes, num_augmented)\n",
    "\n",
    "    for i, (text_vector_ids, cls) in enumerate(data):\n",
    "        optimizer.zero_grad()\n",
    "\n",
    "        if CFG['use_lstm']:\n",
    "          texts = comments.iloc[text_vector_ids, :].loc[:, 'text_clean'].tolist()\n",
    "          text_vector, text_lengths = get_embeddings(texts, return_sequence=True)\n",
    "        elif CFG['user_embeddings']:\n",
    "          \n",
    "          if CFG.get('node2vec_embeddings', False):\n",
    "            r_embeddings = receivers_n2v_embeddings[text_vector_ids]\n",
    "            a_embeddings = authors_n2v_embeddings[text_vector_ids]\n",
    "          else:\n",
    "            r_embeddings = receivers_embeddings[text_vector_ids]\n",
    "            a_embeddings = authors_embeddings[text_vector_ids]\n",
    "\n",
    "          text_vector, text_lengths = all_embeddings[text_vector_ids], None\n",
    "          text_vector = torch.cat([text_vector, r_embeddings, a_embeddings], dim=1)\n",
    "        elif CFG['user_embeddings_only']:\n",
    "          text_lengths = None\n",
    "          text_vector = torch.cat([receivers_embeddings[text_vector_ids], authors_embeddings[text_vector_ids]], dim=1)\n",
    "        else:\n",
    "          text_vector, text_lengths = all_embeddings[text_vector_ids], None\n",
    "\n",
    "          if num_augmented:\n",
    "            additional_idx = np.random.choice(np.arange(num_augmented), CFG['num_augmented_sample'])\n",
    "            additional_embeddings = get_embeddings([additional_texts[a_i] for a_i in additional_idx])\n",
    "            add_labels = [additional_labels[a_i] for a_i in additional_idx]\n",
    "\n",
    "            text_vector = torch.cat([text_vector, additional_embeddings], axis=0)\n",
    "            cls = torch.cat([cls, torch.tensor(add_labels).to(device)], axis=0)\n",
    "\n",
    "        text_vector, cls = text_vector.to(device), cls.to(device)\n",
    "        output = net(text_vector, text_lengths)\n",
    "        loss = criterion(output, cls)\n",
    "\n",
    "        train_loss += loss.item()\n",
    "        loss.backward()\n",
    "        optimizer.step()\n",
    "        train_acc += (output.argmax(1) == cls).sum().item()\n",
    "\n",
    "    return train_loss / len(sub_train_), train_acc / len(sub_train_)\n",
    "\n",
    "def test(net, criterion, data_):\n",
    "    net.eval()\n",
    "    loss = 0\n",
    "    acc = 0\n",
    "    data = DataLoader(data_, batch_size=CFG['batch_size'])\n",
    "    \n",
    "    predictions, true_labels = [], []\n",
    "\n",
    "    for text_vector_ids, cls in data:\n",
    "        \n",
    "        if CFG['use_lstm']:\n",
    "          texts = comments.iloc[text_vector_ids, :].loc[:, 'text_clean'].tolist()\n",
    "          text_vector, text_lengths = get_embeddings(texts, return_sequence=True)\n",
    "        elif CFG['user_embeddings']:\n",
    "          text_vector, text_lengths = all_embeddings[text_vector_ids], None\n",
    "\n",
    "          if CFG.get('node2vec_embeddings', False):\n",
    "            r_embeddings = receivers_n2v_embeddings[text_vector_ids]\n",
    "            a_embeddings = authors_n2v_embeddings[text_vector_ids]\n",
    "          else:\n",
    "            r_embeddings = receivers_embeddings[text_vector_ids]\n",
    "            a_embeddings = authors_embeddings[text_vector_ids]\n",
    "\n",
    "          text_vector = torch.cat([text_vector, r_embeddings, a_embeddings], dim=1)\n",
    "\n",
    "        elif CFG['user_embeddings_only']:\n",
    "          text_lengths = None\n",
    "          text_vector = torch.cat([receivers_embeddings[text_vector_ids], authors_embeddings[text_vector_ids]], dim=1)\n",
    "        else:\n",
    "          text_vector, text_lengths = all_embeddings[text_vector_ids], None\n",
    "\n",
    "        text_vector, cls = text_vector.to(device), cls.to(device)\n",
    "\n",
    "        with torch.no_grad():\n",
    "            output = net(text_vector, text_lengths)\n",
    "            loss = criterion(output, cls)\n",
    "            loss += loss.item()\n",
    "            acc += (output.argmax(1) == cls).sum().item()\n",
    "\n",
    "            predictions.extend(output.argmax(axis=1).tolist())\n",
    "            true_labels.extend(cls.tolist())\n",
    "\n",
    "    return loss / len(data_), acc / len(data_), predictions, true_labels"
   ]
  },
  {
   "cell_type": "code",
   "execution_count": null,
   "metadata": {
    "id": "52iheTQrw0BR"
   },
   "outputs": [],
   "source": [
    "def get_embeddings(texts, return_sequence=False):\n",
    "  with torch.no_grad():\n",
    "    batch_encoding = tokenizer.batch_encode_plus(\n",
    "            texts,\n",
    "            padding='longest',\n",
    "            add_special_tokens=True,\n",
    "            truncation=True, max_length=150,\n",
    "            return_tensors='pt'\n",
    "        ).to(device)\n",
    "    \n",
    "    emb = model(**batch_encoding)\n",
    "\n",
    "    if return_sequence:\n",
    "      emb = emb[0]\n",
    "      return emb.to(device), (batch_encoding['input_ids'] != 1).sum(axis=1)\n",
    "    else:\n",
    "      all_embeddings = []\n",
    "\n",
    "      for i in range(emb[0].size()[0]):\n",
    "        all_embeddings.append(emb[0][i, batch_encoding['input_ids'][i] != 1, :].mean(axis=0)[None, :])\n",
    "\n",
    "      return torch.cat(all_embeddings, axis=0).to(device)"
   ]
  },
  {
   "cell_type": "code",
   "execution_count": null,
   "metadata": {
    "id": "aJw3_0T3RAAo"
   },
   "outputs": [],
   "source": [
    "def show_stats(reports):\n",
    "  precisions, recalls, f1s = [], [], []\n",
    "  for fold in range(CFG['fold_num']):\n",
    "    precisions.append(reports[fold]['1']['precision'])\n",
    "    recalls.append(reports[fold]['1']['recall'])\n",
    "    f1s.append(reports[fold]['1']['f1-score'])\n",
    "\n",
    "  print(f'Average precision = {np.mean(precisions):.4f}')\n",
    "  print(f'Average recall = {np.mean(recalls):.4f}')\n",
    "  print(f'Average f1 = {np.mean(f1s):.4f}')"
   ]
  },
  {
   "cell_type": "markdown",
   "metadata": {
    "id": "2OtDfNOAuy9V"
   },
   "source": [
    "# Experiments"
   ]
  },
  {
   "cell_type": "code",
   "execution_count": null,
   "metadata": {
    "id": "wHhM7HcSdjCp"
   },
   "outputs": [],
   "source": [
    "from torch.optim.lr_scheduler import StepLR\n",
    "\n",
    "def make_experiment(feature_num=768):\n",
    "  folds = StratifiedKFold(n_splits=CFG['fold_num'], shuffle=True, random_state=0).split(np.arange(all_labels.size()[0]), comments.annotation.values)\n",
    "\n",
    "  all_folds_predictions = []\n",
    "  all_folds_true = []\n",
    "  all_folds_reports = {}\n",
    "\n",
    "  for fold, (trn_idx, test_idx) in enumerate(folds):\n",
    "      train_dataset = list(zip(trn_idx, all_labels[trn_idx]))\n",
    "      test_dataset = list(zip(test_idx, all_labels[test_idx]))\n",
    "\n",
    "      if CFG['use_lstm']:\n",
    "        net = NetLSTM(classes_num=2, feature_num=feature_num).to(device)\n",
    "      else:\n",
    "        net = Net(classes_num=2, feature_num=feature_num).to(device)\n",
    "\n",
    "      criterion = torch.nn.CrossEntropyLoss(torch.tensor(CFG['class_weights'])).to(device)\n",
    "      optimizer = torch.optim.Adam(net.parameters(), lr=CFG['lr'])\n",
    "      scheduler = StepLR(optimizer, step_size=50, gamma=0.2)\n",
    "\n",
    "      for epoch in range(CFG['epochs']):\n",
    "          start_time = time.time()\n",
    "          train_loss, train_acc = train_func(net, criterion, optimizer, train_dataset)\n",
    "          valid_loss, valid_acc, predictions, true_labels = test(net, criterion, test_dataset)\n",
    "\n",
    "          secs = int(time.time() - start_time)\n",
    "          mins = secs / 60\n",
    "          secs = secs % 60\n",
    "\n",
    "          print('Epoch: %d' %(epoch + 1), \" | time in %d minutes, %d seconds\" %(mins, secs))\n",
    "          print(f'\\tLoss: {train_loss:.4f}(train)\\t|\\tAcc: {train_acc * 100:.1f}%(train)')\n",
    "          print(f'\\tLoss: {valid_loss:.4f}(valid)\\t|\\tAcc: {valid_acc * 100:.1f}%(valid)')\n",
    "\n",
    "          epoch_report = classification_report(true_labels, predictions, output_dict=True)\n",
    "          valid_f1 = epoch_report['1']['f1-score']\n",
    "          valid_recall = epoch_report['1']['recall']\n",
    "          valid_precision = epoch_report['1']['precision']\n",
    "          print(f'\\tValid F1: {valid_f1:.4f}')\n",
    "          print(f'\\tValid Recall: {valid_recall:.4f}')\n",
    "          print(f'\\tValid Precision: {valid_precision:.4f}')\n",
    "          \n",
    "          scheduler.step()\n",
    "\n",
    "      all_folds_reports[fold] = classification_report(true_labels, predictions, output_dict=True)\n",
    "      all_folds_predictions.extend(predictions)\n",
    "      all_folds_true.extend(true_labels)\n",
    "\n",
    "  return all_folds_true, all_folds_predictions, all_folds_reports"
   ]
  },
  {
   "cell_type": "markdown",
   "metadata": {
    "id": "eVaG3JTPmGag"
   },
   "source": [
    "## Bert embeddings + MLP Model"
   ]
  },
  {
   "cell_type": "code",
   "execution_count": null,
   "metadata": {
    "id": "5cYoXn2JiF62"
   },
   "outputs": [],
   "source": [
    "CFG =  {\n",
    "    \"batch_size\": 150,\n",
    "    'fold_num': 5,\n",
    "    'lr': 5*1e-4,\n",
    "    'epochs': 60,\n",
    "    'num_augmented': 0,\n",
    "    'num_augmented_sample': 0,\n",
    "    'use_lstm': False,\n",
    "    'user_embeddings':False,\n",
    "    'user_embeddings_only':False,\n",
    "    'class_weights': [0.25, 0.9],\n",
    "    'undersample':False\n",
    "}\n",
    "all_folds_true, all_folds_predictions, all_folds_reports = make_experiment()"
   ]
  },
  {
   "cell_type": "code",
   "execution_count": null,
   "metadata": {
    "colab": {
     "base_uri": "https://localhost:8080/"
    },
    "id": "1JFE_oxRcQUa",
    "outputId": "973ffd69-0e8e-4b13-9199-e3f1a2dba34a"
   },
   "outputs": [
    {
     "name": "stdout",
     "output_type": "stream",
     "text": [
      "Average precision = 0.4414\n",
      "Average recall = 0.5687\n",
      "Average f1 = 0.4963\n",
      "              precision    recall  f1-score   support\n",
      "\n",
      "           0       0.95      0.91      0.93      5316\n",
      "           1       0.44      0.57      0.50       640\n",
      "\n",
      "    accuracy                           0.88      5956\n",
      "   macro avg       0.69      0.74      0.71      5956\n",
      "weighted avg       0.89      0.88      0.88      5956\n",
      "\n",
      "[[4853  463]\n",
      " [ 276  364]]\n"
     ]
    }
   ],
   "source": [
    "  show_stats(all_folds_reports)\n",
    "  print(classification_report(all_folds_true, all_folds_predictions))\n",
    "  print(confusion_matrix(all_folds_true, all_folds_predictions))"
   ]
  },
  {
   "cell_type": "markdown",
   "metadata": {
    "id": "aMb4GYoFcwuc"
   },
   "source": [
    "## Bert embeddings + MLP Model + Data augmentation"
   ]
  },
  {
   "cell_type": "code",
   "execution_count": null,
   "metadata": {
    "id": "L03Zf0fYfHji"
   },
   "outputs": [],
   "source": [
    "CFG = {\n",
    "    \"batch_size\": 100,\n",
    "    'fold_num': 5,\n",
    "    'lr': 5*1e-4,\n",
    "    'epochs': 25,\n",
    "    'num_augmented': 300,\n",
    "    'num_augmented_sample': 15,\n",
    "    'use_lstm': False,\n",
    "    'user_embeddings':False,\n",
    "    'user_embeddings_only':False,\n",
    "    'class_weights': [0.6, 0.9],\n",
    "    'undersample':False\n",
    "}\n",
    "\n",
    "all_folds_true, all_folds_predictions, all_folds_reports = make_experiment()"
   ]
  },
  {
   "cell_type": "code",
   "execution_count": null,
   "metadata": {
    "colab": {
     "base_uri": "https://localhost:8080/"
    },
    "id": "gSEV3vzgcnjJ",
    "outputId": "1bbf1af7-1da4-4600-9950-ab27964fa28d"
   },
   "outputs": [
    {
     "name": "stdout",
     "output_type": "stream",
     "text": [
      "Average precision = 0.4777\n",
      "Average recall = 0.4266\n",
      "Average f1 = 0.4489\n",
      "              precision    recall  f1-score   support\n",
      "\n",
      "           0       0.93      0.94      0.94      5316\n",
      "           1       0.47      0.43      0.45       640\n",
      "\n",
      "    accuracy                           0.89      5956\n",
      "   macro avg       0.70      0.68      0.69      5956\n",
      "weighted avg       0.88      0.89      0.89      5956\n",
      "\n",
      "[[5014  302]\n",
      " [ 367  273]]\n"
     ]
    }
   ],
   "source": [
    "  show_stats(all_folds_reports)\n",
    "  print(classification_report(all_folds_true, all_folds_predictions))\n",
    "  print(confusion_matrix(all_folds_true, all_folds_predictions))"
   ]
  },
  {
   "cell_type": "markdown",
   "metadata": {
    "id": "gtMmGJjSTo8J"
   },
   "source": [
    "## Bert embeddings + MLP Model + Undersampling"
   ]
  },
  {
   "cell_type": "code",
   "execution_count": null,
   "metadata": {
    "id": "7rMVfjnGTrj4"
   },
   "outputs": [],
   "source": [
    "CFG = {    \"batch_size\": 150,\n",
    "    'fold_num': 5,\n",
    "    'lr': 3*1e-4,\n",
    "    'epochs': 60,\n",
    "    'num_augmented': 0,\n",
    "    'num_augmented_sample': 0,\n",
    "    'use_lstm': False,\n",
    "    'user_embeddings':False,\n",
    "    'user_embeddings_only':False,\n",
    "    'class_weights': [0.9, 0.9],\n",
    "    'undersample':True\n",
    "}\n",
    "\n",
    "all_folds_true, all_folds_predictions, all_folds_reports = make_experiment()"
   ]
  },
  {
   "cell_type": "code",
   "execution_count": null,
   "metadata": {
    "colab": {
     "base_uri": "https://localhost:8080/"
    },
    "id": "FKo0CbGkdPY-",
    "outputId": "a0c3b36f-9494-45d5-8c3b-59393b873b60"
   },
   "outputs": [
    {
     "name": "stdout",
     "output_type": "stream",
     "text": [
      "Average precision = 0.2836\n",
      "Average recall = 0.8063\n",
      "Average f1 = 0.4193\n",
      "              precision    recall  f1-score   support\n",
      "\n",
      "           0       0.97      0.75      0.85      5316\n",
      "           1       0.28      0.81      0.42       640\n",
      "\n",
      "    accuracy                           0.76      5956\n",
      "   macro avg       0.63      0.78      0.63      5956\n",
      "weighted avg       0.90      0.76      0.80      5956\n",
      "\n",
      "[[4007 1309]\n",
      " [ 124  516]]\n"
     ]
    }
   ],
   "source": [
    "  show_stats(all_folds_reports)\n",
    "  print(classification_report(all_folds_true, all_folds_predictions))\n",
    "  print(confusion_matrix(all_folds_true, all_folds_predictions))"
   ]
  },
  {
   "cell_type": "markdown",
   "metadata": {
    "id": "qdgNXexrmN3-"
   },
   "source": [
    "## MLP + User embeddings only"
   ]
  },
  {
   "cell_type": "code",
   "execution_count": null,
   "metadata": {
    "id": "i93zHz7QlAGy"
   },
   "outputs": [],
   "source": [
    "CFG = {\n",
    "    \"batch_size\": 150,\n",
    "    'fold_num': 5,\n",
    "    'lr': 3*1e-4,\n",
    "    'epochs': 30,\n",
    "    'num_augmented': 0,\n",
    "    'num_augmented_sample': 0,\n",
    "    'use_lstm': False,\n",
    "    'class_weights': [0.25, 0.9],\n",
    "    'user_embeddings_only':True,\n",
    "    'user_embeddings':False,\n",
    "    'undersample':False\n",
    "}\n",
    "\n",
    "all_folds_true, all_folds_predictions, all_folds_reports = make_experiment(feature_num=20)"
   ]
  },
  {
   "cell_type": "code",
   "execution_count": null,
   "metadata": {
    "colab": {
     "base_uri": "https://localhost:8080/"
    },
    "id": "Vs1N6KoCdyyx",
    "outputId": "a3da794a-6e7d-48b8-9b61-02c73dcdffd9"
   },
   "outputs": [
    {
     "name": "stdout",
     "output_type": "stream",
     "text": [
      "Average precision = 0.0000\n",
      "Average recall = 0.0000\n",
      "Average f1 = 0.0000\n",
      "              precision    recall  f1-score   support\n",
      "\n",
      "           0       0.89      1.00      0.94      5316\n",
      "           1       0.00      0.00      0.00       640\n",
      "\n",
      "    accuracy                           0.89      5956\n",
      "   macro avg       0.45      0.50      0.47      5956\n",
      "weighted avg       0.80      0.89      0.84      5956\n",
      "\n",
      "[[5316    0]\n",
      " [ 640    0]]\n"
     ]
    },
    {
     "name": "stderr",
     "output_type": "stream",
     "text": [
      "/usr/local/lib/python3.6/dist-packages/sklearn/metrics/_classification.py:1272: UndefinedMetricWarning: Precision and F-score are ill-defined and being set to 0.0 in labels with no predicted samples. Use `zero_division` parameter to control this behavior.\n",
      "  _warn_prf(average, modifier, msg_start, len(result))\n"
     ]
    }
   ],
   "source": [
    "  show_stats(all_folds_reports)\n",
    "  print(classification_report(all_folds_true, all_folds_predictions))\n",
    "  print(confusion_matrix(all_folds_true, all_folds_predictions))"
   ]
  },
  {
   "cell_type": "markdown",
   "metadata": {
    "id": "1tiRGnrBdn5Y"
   },
   "source": [
    "## MLP + User embeddings"
   ]
  },
  {
   "cell_type": "code",
   "execution_count": null,
   "metadata": {
    "id": "gVlxHlQQ4hJw"
   },
   "outputs": [],
   "source": [
    "CFG = {\n",
    "    \"batch_size\": 150,\n",
    "    'fold_num': 5,\n",
    "    'lr': 5*1e-4,\n",
    "    'epochs': 60,\n",
    "    'num_augmented': 0,\n",
    "    'num_augmented_sample': 0,\n",
    "    'use_lstm': False,\n",
    "    'class_weights': [0.25, 0.9],\n",
    "    'user_embeddings_only':False,\n",
    "    'user_embeddings':True,\n",
    "    'undersample':False\n",
    "}\n",
    "\n",
    "all_folds_true, all_folds_predictions, all_folds_reports = make_experiment(feature_num=768+20)"
   ]
  },
  {
   "cell_type": "code",
   "execution_count": null,
   "metadata": {
    "colab": {
     "base_uri": "https://localhost:8080/"
    },
    "id": "71Fqh5Mvd98_",
    "outputId": "b7c9b991-ee1b-4154-dd7b-6c0513626d70"
   },
   "outputs": [
    {
     "name": "stdout",
     "output_type": "stream",
     "text": [
      "Average precision = 0.4448\n",
      "Average recall = 0.5828\n",
      "Average f1 = 0.5040\n",
      "              precision    recall  f1-score   support\n",
      "\n",
      "           0       0.95      0.91      0.93      5316\n",
      "           1       0.44      0.58      0.50       640\n",
      "\n",
      "    accuracy                           0.88      5956\n",
      "   macro avg       0.70      0.75      0.72      5956\n",
      "weighted avg       0.89      0.88      0.88      5956\n",
      "\n",
      "[[4850  466]\n",
      " [ 267  373]]\n"
     ]
    }
   ],
   "source": [
    "  show_stats(all_folds_reports)\n",
    "  print(classification_report(all_folds_true, all_folds_predictions))\n",
    "  print(confusion_matrix(all_folds_true, all_folds_predictions))"
   ]
  },
  {
   "cell_type": "markdown",
   "metadata": {
    "id": "IhOoGaFud9T7"
   },
   "source": [
    "## MLP + node2vec embeddings"
   ]
  },
  {
   "cell_type": "code",
   "execution_count": null,
   "metadata": {
    "id": "rqXTHnO4d-tJ"
   },
   "outputs": [],
   "source": [
    "CFG = {\n",
    "    \"batch_size\": 150,\n",
    "    'fold_num': 5,\n",
    "    'lr': 3*1e-4,\n",
    "    'epochs': 60,\n",
    "    'num_augmented': 0,\n",
    "    'num_augmented_sample': 0,\n",
    "    'use_lstm': False,\n",
    "    'class_weights': [0.3, 0.9],\n",
    "    'user_embeddings_only':False,\n",
    "    'user_embeddings':True,\n",
    "    'node2vec_embeddings':True,\n",
    "    'undersample':False\n",
    "}\n",
    "\n",
    "all_folds_true, all_folds_predictions, all_folds_reports = make_experiment(feature_num=768+64)"
   ]
  },
  {
   "cell_type": "code",
   "execution_count": null,
   "metadata": {
    "colab": {
     "base_uri": "https://localhost:8080/"
    },
    "id": "rwJE9Veio4hN",
    "outputId": "a6f3b721-9cce-40d7-8575-2a7e373941fb"
   },
   "outputs": [
    {
     "name": "stdout",
     "output_type": "stream",
     "text": [
      "Average precision = 0.4825\n",
      "Average recall = 0.5109\n",
      "Average f1 = 0.4947\n",
      "              precision    recall  f1-score   support\n",
      "\n",
      "           0       0.94      0.93      0.94      5316\n",
      "           1       0.48      0.51      0.49       640\n",
      "\n",
      "    accuracy                           0.89      5956\n",
      "   macro avg       0.71      0.72      0.72      5956\n",
      "weighted avg       0.89      0.89      0.89      5956\n",
      "\n",
      "[[4960  356]\n",
      " [ 313  327]]\n"
     ]
    }
   ],
   "source": [
    "  show_stats(all_folds_reports)\n",
    "  print(classification_report(all_folds_true, all_folds_predictions))\n",
    "  print(confusion_matrix(all_folds_true, all_folds_predictions))"
   ]
  },
  {
   "cell_type": "markdown",
   "metadata": {
    "id": "F-TpKWkEOMPw"
   },
   "source": [
    "## False positives\n",
    "\n",
    "'O chuj ale dzisiaj dojebali XD',\n",
    "\n",
    "'Takie koszulki za 810zl z hm czy innej sieciowki to zajebista sprawa ale jako jednorazowka bardziej albo do ratowania dupy jak sie twoja czyms pobrudzi a nie lubisz wygladac jak bezdomny xD', \n",
    "\n",
    "'więc jestem zjebany nawet według vieniasna', \n",
    "\n",
    "'Halabala co kobieta sukcesu jak ty robi o tej porze na nocnej', \n",
    "\n",
    "'Pamiętaj ze śpisz z milionami roztoczami które z pewnością wejdą Ci w nocy do kutasa', \n",
    "\n",
    "'10Warthog nie ma niczego fuj w miłości i nawet by Ci ręki nie starczylo żeby objąć tego bydlaka', \n",
    "\n",
    "'a jaki kobiet na świecie pracuje w modelingu Po co się do nich porównywać Analogiczna sytuacja do płaczów na tagu bo nie wygląda się jak chad', \n",
    "\n",
    "'no tak trochę jakby rysownik w corelu po pijaku od linijki kreski napierdalał',"
   ]
  },
  {
   "cell_type": "markdown",
   "metadata": {
    "id": "x6NBb8tNNrSM"
   },
   "source": [
    "## False Negatives\n",
    "\n",
    "'naparz sobie cały dzbanek i napełnij nim siebie dzbanie', \n",
    "\n",
    "'za meczet obcięli by ci głowę tu mam nadzieję chociaż o solidny wjeb', \n",
    "\n",
    "'do specjalisty to ty powinieneś się się skierować pies tam woli suke ciekawe dlaczego', \n",
    "\n",
    "'monarchia konstytucja odwrotnie jak Orban zakaże pedałowania to Szwecja a jak stracę robotę to taki jak w Chile', \n",
    "\n",
    "'Ta ale to różowe zostawiają po sobie smród okresu z pizdy', 'Ja znów w Sejmie kurwy nie dadzą mi spokoju XD', \n",
    "\n",
    "'no ale leżac na płasko też się nie leży płasko to prawie niemożliwe trzeba były się postarać Ddodatkowo można robić i na placka jak i z nogami przed siebie jak i skos gdzie się nie robi leg drive jak i płaską z nogami w górze wszystko zależy od celu tego jaki RoM chcemy osiągnąć lub dla osób właśnie po urazach bardzo mnie denerwuje jednowymiarowość na wykopie i traktowanie formy trójbojowej jako wyznacznika No pomijam że OP pewnie to spotkał sebixa który nie wie o co chodzi', \n",
    "\n",
    "'masz paranoje większe niż ja po piątce palenia ogarnij się', \n",
    "\n",
    "'xDDDDDDDDDDDDDDDDD No faktycznie wpierdalać mniej to taki wielki wysiłek', \n",
    "\n",
    "'mundi od razu seria zartow o jasiu mi sie przypomniala kot jest moj i bede go pierdolic czy komus sie podoba czy nie xDDD', \n",
    "\n",
    "'no i kuj niech mnie jebią', \n",
    "\n",
    "'o pa jak to się robi przegrywie walony Hej bejbe chcesz wyskoczyc na jakiegos browarka Na dwór nie można wychodzić ale możemy posiedzieć u mnie w łóżku', \n",
    "\n",
    "'widać bo pjerdilusz od rzeczy sprawdź sobie pierwszy wkład to dopiero zmienisz zdanie', \n",
    "\n",
    "'Widać i słychać że psychiczna Nie wiadomo czy by nawet jej psychiatryk pomogl'\n"
   ]
  },
  {
   "cell_type": "code",
   "execution_count": null,
   "metadata": {
    "id": "9RdU7G4BOGt7"
   },
   "outputs": [],
   "source": []
  }
 ],
 "metadata": {
  "colab": {
   "collapsed_sections": [],
   "name": "BertModel_SMA",
   "provenance": [],
   "toc_visible": true
  },
  "kernelspec": {
   "display_name": "Python 3",
   "language": "python",
   "name": "python3"
  },
  "language_info": {
   "codemirror_mode": {
    "name": "ipython",
    "version": 3
   },
   "file_extension": ".py",
   "mimetype": "text/x-python",
   "name": "python",
   "nbconvert_exporter": "python",
   "pygments_lexer": "ipython3",
   "version": "3.8.1"
  },
  "widgets": {
   "application/vnd.jupyter.widget-state+json": {
    "0440b52d8ea549ddb3ae13329468f486": {
     "model_module": "@jupyter-widgets/controls",
     "model_name": "HTMLModel",
     "state": {
      "_dom_classes": [],
      "_model_module": "@jupyter-widgets/controls",
      "_model_module_version": "1.5.0",
      "_model_name": "HTMLModel",
      "_view_count": null,
      "_view_module": "@jupyter-widgets/controls",
      "_view_module_version": "1.5.0",
      "_view_name": "HTMLView",
      "description": "",
      "description_tooltip": null,
      "layout": "IPY_MODEL_129b6e6a343b42b08bbf62d869b4757d",
      "placeholder": "​",
      "style": "IPY_MODEL_0b7613c700364c9f81ef803462f5e269",
      "value": " 556k/556k [00:00&lt;00:00, 5.70MB/s]"
     }
    },
    "0b7613c700364c9f81ef803462f5e269": {
     "model_module": "@jupyter-widgets/controls",
     "model_name": "DescriptionStyleModel",
     "state": {
      "_model_module": "@jupyter-widgets/controls",
      "_model_module_version": "1.5.0",
      "_model_name": "DescriptionStyleModel",
      "_view_count": null,
      "_view_module": "@jupyter-widgets/base",
      "_view_module_version": "1.2.0",
      "_view_name": "StyleView",
      "description_width": ""
     }
    },
    "129b6e6a343b42b08bbf62d869b4757d": {
     "model_module": "@jupyter-widgets/base",
     "model_name": "LayoutModel",
     "state": {
      "_model_module": "@jupyter-widgets/base",
      "_model_module_version": "1.2.0",
      "_model_name": "LayoutModel",
      "_view_count": null,
      "_view_module": "@jupyter-widgets/base",
      "_view_module_version": "1.2.0",
      "_view_name": "LayoutView",
      "align_content": null,
      "align_items": null,
      "align_self": null,
      "border": null,
      "bottom": null,
      "display": null,
      "flex": null,
      "flex_flow": null,
      "grid_area": null,
      "grid_auto_columns": null,
      "grid_auto_flow": null,
      "grid_auto_rows": null,
      "grid_column": null,
      "grid_gap": null,
      "grid_row": null,
      "grid_template_areas": null,
      "grid_template_columns": null,
      "grid_template_rows": null,
      "height": null,
      "justify_content": null,
      "justify_items": null,
      "left": null,
      "margin": null,
      "max_height": null,
      "max_width": null,
      "min_height": null,
      "min_width": null,
      "object_fit": null,
      "object_position": null,
      "order": null,
      "overflow": null,
      "overflow_x": null,
      "overflow_y": null,
      "padding": null,
      "right": null,
      "top": null,
      "visibility": null,
      "width": null
     }
    },
    "15d779b94cbb420eba06f1af05773b2f": {
     "model_module": "@jupyter-widgets/base",
     "model_name": "LayoutModel",
     "state": {
      "_model_module": "@jupyter-widgets/base",
      "_model_module_version": "1.2.0",
      "_model_name": "LayoutModel",
      "_view_count": null,
      "_view_module": "@jupyter-widgets/base",
      "_view_module_version": "1.2.0",
      "_view_name": "LayoutView",
      "align_content": null,
      "align_items": null,
      "align_self": null,
      "border": null,
      "bottom": null,
      "display": null,
      "flex": null,
      "flex_flow": null,
      "grid_area": null,
      "grid_auto_columns": null,
      "grid_auto_flow": null,
      "grid_auto_rows": null,
      "grid_column": null,
      "grid_gap": null,
      "grid_row": null,
      "grid_template_areas": null,
      "grid_template_columns": null,
      "grid_template_rows": null,
      "height": null,
      "justify_content": null,
      "justify_items": null,
      "left": null,
      "margin": null,
      "max_height": null,
      "max_width": null,
      "min_height": null,
      "min_width": null,
      "object_fit": null,
      "object_position": null,
      "order": null,
      "overflow": null,
      "overflow_x": null,
      "overflow_y": null,
      "padding": null,
      "right": null,
      "top": null,
      "visibility": null,
      "width": null
     }
    },
    "20da653bb06d4df7bd454db0030a4239": {
     "model_module": "@jupyter-widgets/controls",
     "model_name": "HTMLModel",
     "state": {
      "_dom_classes": [],
      "_model_module": "@jupyter-widgets/controls",
      "_model_module_version": "1.5.0",
      "_model_name": "HTMLModel",
      "_view_count": null,
      "_view_module": "@jupyter-widgets/controls",
      "_view_module_version": "1.5.0",
      "_view_name": "HTMLView",
      "description": "",
      "description_tooltip": null,
      "layout": "IPY_MODEL_2a25d56024e248baa6aa214612d5198c",
      "placeholder": "​",
      "style": "IPY_MODEL_483760ce76d349b2b1cb07919bdab1f8",
      "value": " 472/472 [00:00&lt;00:00, 1.28kB/s]"
     }
    },
    "2a25d56024e248baa6aa214612d5198c": {
     "model_module": "@jupyter-widgets/base",
     "model_name": "LayoutModel",
     "state": {
      "_model_module": "@jupyter-widgets/base",
      "_model_module_version": "1.2.0",
      "_model_name": "LayoutModel",
      "_view_count": null,
      "_view_module": "@jupyter-widgets/base",
      "_view_module_version": "1.2.0",
      "_view_name": "LayoutView",
      "align_content": null,
      "align_items": null,
      "align_self": null,
      "border": null,
      "bottom": null,
      "display": null,
      "flex": null,
      "flex_flow": null,
      "grid_area": null,
      "grid_auto_columns": null,
      "grid_auto_flow": null,
      "grid_auto_rows": null,
      "grid_column": null,
      "grid_gap": null,
      "grid_row": null,
      "grid_template_areas": null,
      "grid_template_columns": null,
      "grid_template_rows": null,
      "height": null,
      "justify_content": null,
      "justify_items": null,
      "left": null,
      "margin": null,
      "max_height": null,
      "max_width": null,
      "min_height": null,
      "min_width": null,
      "object_fit": null,
      "object_position": null,
      "order": null,
      "overflow": null,
      "overflow_x": null,
      "overflow_y": null,
      "padding": null,
      "right": null,
      "top": null,
      "visibility": null,
      "width": null
     }
    },
    "2a6f697db3554d448835dd7e1ff9a58c": {
     "model_module": "@jupyter-widgets/controls",
     "model_name": "FloatProgressModel",
     "state": {
      "_dom_classes": [],
      "_model_module": "@jupyter-widgets/controls",
      "_model_module_version": "1.5.0",
      "_model_name": "FloatProgressModel",
      "_view_count": null,
      "_view_module": "@jupyter-widgets/controls",
      "_view_module_version": "1.5.0",
      "_view_name": "ProgressView",
      "bar_style": "success",
      "description": "Downloading: 100%",
      "description_tooltip": null,
      "layout": "IPY_MODEL_b7f50919cf4a4ebeb69d69c08083f078",
      "max": 906984,
      "min": 0,
      "orientation": "horizontal",
      "style": "IPY_MODEL_2c869fd7595847b28490439b10c05d47",
      "value": 906984
     }
    },
    "2c869fd7595847b28490439b10c05d47": {
     "model_module": "@jupyter-widgets/controls",
     "model_name": "ProgressStyleModel",
     "state": {
      "_model_module": "@jupyter-widgets/controls",
      "_model_module_version": "1.5.0",
      "_model_name": "ProgressStyleModel",
      "_view_count": null,
      "_view_module": "@jupyter-widgets/base",
      "_view_module_version": "1.2.0",
      "_view_name": "StyleView",
      "bar_color": null,
      "description_width": "initial"
     }
    },
    "2f7c38acba1e4324ba50c167b26f27c5": {
     "model_module": "@jupyter-widgets/base",
     "model_name": "LayoutModel",
     "state": {
      "_model_module": "@jupyter-widgets/base",
      "_model_module_version": "1.2.0",
      "_model_name": "LayoutModel",
      "_view_count": null,
      "_view_module": "@jupyter-widgets/base",
      "_view_module_version": "1.2.0",
      "_view_name": "LayoutView",
      "align_content": null,
      "align_items": null,
      "align_self": null,
      "border": null,
      "bottom": null,
      "display": null,
      "flex": null,
      "flex_flow": null,
      "grid_area": null,
      "grid_auto_columns": null,
      "grid_auto_flow": null,
      "grid_auto_rows": null,
      "grid_column": null,
      "grid_gap": null,
      "grid_row": null,
      "grid_template_areas": null,
      "grid_template_columns": null,
      "grid_template_rows": null,
      "height": null,
      "justify_content": null,
      "justify_items": null,
      "left": null,
      "margin": null,
      "max_height": null,
      "max_width": null,
      "min_height": null,
      "min_width": null,
      "object_fit": null,
      "object_position": null,
      "order": null,
      "overflow": null,
      "overflow_x": null,
      "overflow_y": null,
      "padding": null,
      "right": null,
      "top": null,
      "visibility": null,
      "width": null
     }
    },
    "35ab34a2e1204e299662d0a30f3bc256": {
     "model_module": "@jupyter-widgets/controls",
     "model_name": "ProgressStyleModel",
     "state": {
      "_model_module": "@jupyter-widgets/controls",
      "_model_module_version": "1.5.0",
      "_model_name": "ProgressStyleModel",
      "_view_count": null,
      "_view_module": "@jupyter-widgets/base",
      "_view_module_version": "1.2.0",
      "_view_name": "StyleView",
      "bar_color": null,
      "description_width": "initial"
     }
    },
    "3b2ed11c28f443548c338412dc5a622c": {
     "model_module": "@jupyter-widgets/controls",
     "model_name": "HTMLModel",
     "state": {
      "_dom_classes": [],
      "_model_module": "@jupyter-widgets/controls",
      "_model_module_version": "1.5.0",
      "_model_name": "HTMLModel",
      "_view_count": null,
      "_view_module": "@jupyter-widgets/controls",
      "_view_module_version": "1.5.0",
      "_view_name": "HTMLView",
      "description": "",
      "description_tooltip": null,
      "layout": "IPY_MODEL_2f7c38acba1e4324ba50c167b26f27c5",
      "placeholder": "​",
      "style": "IPY_MODEL_89d1420c82124ed2a2a0fea8b6e380c9",
      "value": " 654M/654M [00:16&lt;00:00, 40.4MB/s]"
     }
    },
    "3b9975a11f7044ee98a8e93a7e2b0bb3": {
     "model_module": "@jupyter-widgets/controls",
     "model_name": "FloatProgressModel",
     "state": {
      "_dom_classes": [],
      "_model_module": "@jupyter-widgets/controls",
      "_model_module_version": "1.5.0",
      "_model_name": "FloatProgressModel",
      "_view_count": null,
      "_view_module": "@jupyter-widgets/controls",
      "_view_module_version": "1.5.0",
      "_view_name": "ProgressView",
      "bar_style": "success",
      "description": "Downloading: 100%",
      "description_tooltip": null,
      "layout": "IPY_MODEL_8d9ce524667e4573ad2c4ab1f3e9549e",
      "max": 654201076,
      "min": 0,
      "orientation": "horizontal",
      "style": "IPY_MODEL_e1f76185ec1241b2a72b59061aa6ea76",
      "value": 654201076
     }
    },
    "40feb3479c1f4e55a20041f7d6e9774d": {
     "model_module": "@jupyter-widgets/base",
     "model_name": "LayoutModel",
     "state": {
      "_model_module": "@jupyter-widgets/base",
      "_model_module_version": "1.2.0",
      "_model_name": "LayoutModel",
      "_view_count": null,
      "_view_module": "@jupyter-widgets/base",
      "_view_module_version": "1.2.0",
      "_view_name": "LayoutView",
      "align_content": null,
      "align_items": null,
      "align_self": null,
      "border": null,
      "bottom": null,
      "display": null,
      "flex": null,
      "flex_flow": null,
      "grid_area": null,
      "grid_auto_columns": null,
      "grid_auto_flow": null,
      "grid_auto_rows": null,
      "grid_column": null,
      "grid_gap": null,
      "grid_row": null,
      "grid_template_areas": null,
      "grid_template_columns": null,
      "grid_template_rows": null,
      "height": null,
      "justify_content": null,
      "justify_items": null,
      "left": null,
      "margin": null,
      "max_height": null,
      "max_width": null,
      "min_height": null,
      "min_width": null,
      "object_fit": null,
      "object_position": null,
      "order": null,
      "overflow": null,
      "overflow_x": null,
      "overflow_y": null,
      "padding": null,
      "right": null,
      "top": null,
      "visibility": null,
      "width": null
     }
    },
    "41ad94806d284c8d8e0e07c83bc8b52c": {
     "model_module": "@jupyter-widgets/base",
     "model_name": "LayoutModel",
     "state": {
      "_model_module": "@jupyter-widgets/base",
      "_model_module_version": "1.2.0",
      "_model_name": "LayoutModel",
      "_view_count": null,
      "_view_module": "@jupyter-widgets/base",
      "_view_module_version": "1.2.0",
      "_view_name": "LayoutView",
      "align_content": null,
      "align_items": null,
      "align_self": null,
      "border": null,
      "bottom": null,
      "display": null,
      "flex": null,
      "flex_flow": null,
      "grid_area": null,
      "grid_auto_columns": null,
      "grid_auto_flow": null,
      "grid_auto_rows": null,
      "grid_column": null,
      "grid_gap": null,
      "grid_row": null,
      "grid_template_areas": null,
      "grid_template_columns": null,
      "grid_template_rows": null,
      "height": null,
      "justify_content": null,
      "justify_items": null,
      "left": null,
      "margin": null,
      "max_height": null,
      "max_width": null,
      "min_height": null,
      "min_width": null,
      "object_fit": null,
      "object_position": null,
      "order": null,
      "overflow": null,
      "overflow_x": null,
      "overflow_y": null,
      "padding": null,
      "right": null,
      "top": null,
      "visibility": null,
      "width": null
     }
    },
    "483760ce76d349b2b1cb07919bdab1f8": {
     "model_module": "@jupyter-widgets/controls",
     "model_name": "DescriptionStyleModel",
     "state": {
      "_model_module": "@jupyter-widgets/controls",
      "_model_module_version": "1.5.0",
      "_model_name": "DescriptionStyleModel",
      "_view_count": null,
      "_view_module": "@jupyter-widgets/base",
      "_view_module_version": "1.2.0",
      "_view_name": "StyleView",
      "description_width": ""
     }
    },
    "624d64c8f55f45c99398c260129d27ae": {
     "model_module": "@jupyter-widgets/controls",
     "model_name": "HBoxModel",
     "state": {
      "_dom_classes": [],
      "_model_module": "@jupyter-widgets/controls",
      "_model_module_version": "1.5.0",
      "_model_name": "HBoxModel",
      "_view_count": null,
      "_view_module": "@jupyter-widgets/controls",
      "_view_module_version": "1.5.0",
      "_view_name": "HBoxView",
      "box_style": "",
      "children": [
       "IPY_MODEL_2a6f697db3554d448835dd7e1ff9a58c",
       "IPY_MODEL_be3e521ddee94b239869fdfeedf4a5c2"
      ],
      "layout": "IPY_MODEL_40feb3479c1f4e55a20041f7d6e9774d"
     }
    },
    "72c3f418ce9744f7868ce2de695e50da": {
     "model_module": "@jupyter-widgets/base",
     "model_name": "LayoutModel",
     "state": {
      "_model_module": "@jupyter-widgets/base",
      "_model_module_version": "1.2.0",
      "_model_name": "LayoutModel",
      "_view_count": null,
      "_view_module": "@jupyter-widgets/base",
      "_view_module_version": "1.2.0",
      "_view_name": "LayoutView",
      "align_content": null,
      "align_items": null,
      "align_self": null,
      "border": null,
      "bottom": null,
      "display": null,
      "flex": null,
      "flex_flow": null,
      "grid_area": null,
      "grid_auto_columns": null,
      "grid_auto_flow": null,
      "grid_auto_rows": null,
      "grid_column": null,
      "grid_gap": null,
      "grid_row": null,
      "grid_template_areas": null,
      "grid_template_columns": null,
      "grid_template_rows": null,
      "height": null,
      "justify_content": null,
      "justify_items": null,
      "left": null,
      "margin": null,
      "max_height": null,
      "max_width": null,
      "min_height": null,
      "min_width": null,
      "object_fit": null,
      "object_position": null,
      "order": null,
      "overflow": null,
      "overflow_x": null,
      "overflow_y": null,
      "padding": null,
      "right": null,
      "top": null,
      "visibility": null,
      "width": null
     }
    },
    "73c8d68f8c7e4d62902f02c868696952": {
     "model_module": "@jupyter-widgets/base",
     "model_name": "LayoutModel",
     "state": {
      "_model_module": "@jupyter-widgets/base",
      "_model_module_version": "1.2.0",
      "_model_name": "LayoutModel",
      "_view_count": null,
      "_view_module": "@jupyter-widgets/base",
      "_view_module_version": "1.2.0",
      "_view_name": "LayoutView",
      "align_content": null,
      "align_items": null,
      "align_self": null,
      "border": null,
      "bottom": null,
      "display": null,
      "flex": null,
      "flex_flow": null,
      "grid_area": null,
      "grid_auto_columns": null,
      "grid_auto_flow": null,
      "grid_auto_rows": null,
      "grid_column": null,
      "grid_gap": null,
      "grid_row": null,
      "grid_template_areas": null,
      "grid_template_columns": null,
      "grid_template_rows": null,
      "height": null,
      "justify_content": null,
      "justify_items": null,
      "left": null,
      "margin": null,
      "max_height": null,
      "max_width": null,
      "min_height": null,
      "min_width": null,
      "object_fit": null,
      "object_position": null,
      "order": null,
      "overflow": null,
      "overflow_x": null,
      "overflow_y": null,
      "padding": null,
      "right": null,
      "top": null,
      "visibility": null,
      "width": null
     }
    },
    "872e714713894eedb9fbab2b41ce6433": {
     "model_module": "@jupyter-widgets/base",
     "model_name": "LayoutModel",
     "state": {
      "_model_module": "@jupyter-widgets/base",
      "_model_module_version": "1.2.0",
      "_model_name": "LayoutModel",
      "_view_count": null,
      "_view_module": "@jupyter-widgets/base",
      "_view_module_version": "1.2.0",
      "_view_name": "LayoutView",
      "align_content": null,
      "align_items": null,
      "align_self": null,
      "border": null,
      "bottom": null,
      "display": null,
      "flex": null,
      "flex_flow": null,
      "grid_area": null,
      "grid_auto_columns": null,
      "grid_auto_flow": null,
      "grid_auto_rows": null,
      "grid_column": null,
      "grid_gap": null,
      "grid_row": null,
      "grid_template_areas": null,
      "grid_template_columns": null,
      "grid_template_rows": null,
      "height": null,
      "justify_content": null,
      "justify_items": null,
      "left": null,
      "margin": null,
      "max_height": null,
      "max_width": null,
      "min_height": null,
      "min_width": null,
      "object_fit": null,
      "object_position": null,
      "order": null,
      "overflow": null,
      "overflow_x": null,
      "overflow_y": null,
      "padding": null,
      "right": null,
      "top": null,
      "visibility": null,
      "width": null
     }
    },
    "89d1420c82124ed2a2a0fea8b6e380c9": {
     "model_module": "@jupyter-widgets/controls",
     "model_name": "DescriptionStyleModel",
     "state": {
      "_model_module": "@jupyter-widgets/controls",
      "_model_module_version": "1.5.0",
      "_model_name": "DescriptionStyleModel",
      "_view_count": null,
      "_view_module": "@jupyter-widgets/base",
      "_view_module_version": "1.2.0",
      "_view_name": "StyleView",
      "description_width": ""
     }
    },
    "8d9ce524667e4573ad2c4ab1f3e9549e": {
     "model_module": "@jupyter-widgets/base",
     "model_name": "LayoutModel",
     "state": {
      "_model_module": "@jupyter-widgets/base",
      "_model_module_version": "1.2.0",
      "_model_name": "LayoutModel",
      "_view_count": null,
      "_view_module": "@jupyter-widgets/base",
      "_view_module_version": "1.2.0",
      "_view_name": "LayoutView",
      "align_content": null,
      "align_items": null,
      "align_self": null,
      "border": null,
      "bottom": null,
      "display": null,
      "flex": null,
      "flex_flow": null,
      "grid_area": null,
      "grid_auto_columns": null,
      "grid_auto_flow": null,
      "grid_auto_rows": null,
      "grid_column": null,
      "grid_gap": null,
      "grid_row": null,
      "grid_template_areas": null,
      "grid_template_columns": null,
      "grid_template_rows": null,
      "height": null,
      "justify_content": null,
      "justify_items": null,
      "left": null,
      "margin": null,
      "max_height": null,
      "max_width": null,
      "min_height": null,
      "min_width": null,
      "object_fit": null,
      "object_position": null,
      "order": null,
      "overflow": null,
      "overflow_x": null,
      "overflow_y": null,
      "padding": null,
      "right": null,
      "top": null,
      "visibility": null,
      "width": null
     }
    },
    "92054cf7e0774e9a93d3e7f4f759d1fe": {
     "model_module": "@jupyter-widgets/controls",
     "model_name": "ProgressStyleModel",
     "state": {
      "_model_module": "@jupyter-widgets/controls",
      "_model_module_version": "1.5.0",
      "_model_name": "ProgressStyleModel",
      "_view_count": null,
      "_view_module": "@jupyter-widgets/base",
      "_view_module_version": "1.2.0",
      "_view_name": "StyleView",
      "bar_color": null,
      "description_width": "initial"
     }
    },
    "a062f0e219314fa89b545888597f3592": {
     "model_module": "@jupyter-widgets/controls",
     "model_name": "HBoxModel",
     "state": {
      "_dom_classes": [],
      "_model_module": "@jupyter-widgets/controls",
      "_model_module_version": "1.5.0",
      "_model_name": "HBoxModel",
      "_view_count": null,
      "_view_module": "@jupyter-widgets/controls",
      "_view_module_version": "1.5.0",
      "_view_name": "HBoxView",
      "box_style": "",
      "children": [
       "IPY_MODEL_d9965eeb25034c328975c4caea91e9f5",
       "IPY_MODEL_0440b52d8ea549ddb3ae13329468f486"
      ],
      "layout": "IPY_MODEL_41ad94806d284c8d8e0e07c83bc8b52c"
     }
    },
    "aa5b995a0f6d4287b40205458446ee1f": {
     "model_module": "@jupyter-widgets/controls",
     "model_name": "DescriptionStyleModel",
     "state": {
      "_model_module": "@jupyter-widgets/controls",
      "_model_module_version": "1.5.0",
      "_model_name": "DescriptionStyleModel",
      "_view_count": null,
      "_view_module": "@jupyter-widgets/base",
      "_view_module_version": "1.2.0",
      "_view_name": "StyleView",
      "description_width": ""
     }
    },
    "b7f50919cf4a4ebeb69d69c08083f078": {
     "model_module": "@jupyter-widgets/base",
     "model_name": "LayoutModel",
     "state": {
      "_model_module": "@jupyter-widgets/base",
      "_model_module_version": "1.2.0",
      "_model_name": "LayoutModel",
      "_view_count": null,
      "_view_module": "@jupyter-widgets/base",
      "_view_module_version": "1.2.0",
      "_view_name": "LayoutView",
      "align_content": null,
      "align_items": null,
      "align_self": null,
      "border": null,
      "bottom": null,
      "display": null,
      "flex": null,
      "flex_flow": null,
      "grid_area": null,
      "grid_auto_columns": null,
      "grid_auto_flow": null,
      "grid_auto_rows": null,
      "grid_column": null,
      "grid_gap": null,
      "grid_row": null,
      "grid_template_areas": null,
      "grid_template_columns": null,
      "grid_template_rows": null,
      "height": null,
      "justify_content": null,
      "justify_items": null,
      "left": null,
      "margin": null,
      "max_height": null,
      "max_width": null,
      "min_height": null,
      "min_width": null,
      "object_fit": null,
      "object_position": null,
      "order": null,
      "overflow": null,
      "overflow_x": null,
      "overflow_y": null,
      "padding": null,
      "right": null,
      "top": null,
      "visibility": null,
      "width": null
     }
    },
    "be3e521ddee94b239869fdfeedf4a5c2": {
     "model_module": "@jupyter-widgets/controls",
     "model_name": "HTMLModel",
     "state": {
      "_dom_classes": [],
      "_model_module": "@jupyter-widgets/controls",
      "_model_module_version": "1.5.0",
      "_model_name": "HTMLModel",
      "_view_count": null,
      "_view_module": "@jupyter-widgets/controls",
      "_view_module_version": "1.5.0",
      "_view_name": "HTMLView",
      "description": "",
      "description_tooltip": null,
      "layout": "IPY_MODEL_73c8d68f8c7e4d62902f02c868696952",
      "placeholder": "​",
      "style": "IPY_MODEL_aa5b995a0f6d4287b40205458446ee1f",
      "value": " 907k/907k [00:00&lt;00:00, 4.31MB/s]"
     }
    },
    "cd800bacd34442069b882974bd7ef684": {
     "model_module": "@jupyter-widgets/controls",
     "model_name": "HBoxModel",
     "state": {
      "_dom_classes": [],
      "_model_module": "@jupyter-widgets/controls",
      "_model_module_version": "1.5.0",
      "_model_name": "HBoxModel",
      "_view_count": null,
      "_view_module": "@jupyter-widgets/controls",
      "_view_module_version": "1.5.0",
      "_view_name": "HBoxView",
      "box_style": "",
      "children": [
       "IPY_MODEL_dd2bc8768e1e4f93af3249c85f444b94",
       "IPY_MODEL_20da653bb06d4df7bd454db0030a4239"
      ],
      "layout": "IPY_MODEL_72c3f418ce9744f7868ce2de695e50da"
     }
    },
    "d9965eeb25034c328975c4caea91e9f5": {
     "model_module": "@jupyter-widgets/controls",
     "model_name": "FloatProgressModel",
     "state": {
      "_dom_classes": [],
      "_model_module": "@jupyter-widgets/controls",
      "_model_module_version": "1.5.0",
      "_model_name": "FloatProgressModel",
      "_view_count": null,
      "_view_module": "@jupyter-widgets/controls",
      "_view_module_version": "1.5.0",
      "_view_name": "ProgressView",
      "bar_style": "success",
      "description": "Downloading: 100%",
      "description_tooltip": null,
      "layout": "IPY_MODEL_ee0000b210674958aa2686ba62ba1a67",
      "max": 555571,
      "min": 0,
      "orientation": "horizontal",
      "style": "IPY_MODEL_92054cf7e0774e9a93d3e7f4f759d1fe",
      "value": 555571
     }
    },
    "dd2bc8768e1e4f93af3249c85f444b94": {
     "model_module": "@jupyter-widgets/controls",
     "model_name": "FloatProgressModel",
     "state": {
      "_dom_classes": [],
      "_model_module": "@jupyter-widgets/controls",
      "_model_module_version": "1.5.0",
      "_model_name": "FloatProgressModel",
      "_view_count": null,
      "_view_module": "@jupyter-widgets/controls",
      "_view_module_version": "1.5.0",
      "_view_name": "ProgressView",
      "bar_style": "success",
      "description": "Downloading: 100%",
      "description_tooltip": null,
      "layout": "IPY_MODEL_15d779b94cbb420eba06f1af05773b2f",
      "max": 472,
      "min": 0,
      "orientation": "horizontal",
      "style": "IPY_MODEL_35ab34a2e1204e299662d0a30f3bc256",
      "value": 472
     }
    },
    "e1f76185ec1241b2a72b59061aa6ea76": {
     "model_module": "@jupyter-widgets/controls",
     "model_name": "ProgressStyleModel",
     "state": {
      "_model_module": "@jupyter-widgets/controls",
      "_model_module_version": "1.5.0",
      "_model_name": "ProgressStyleModel",
      "_view_count": null,
      "_view_module": "@jupyter-widgets/base",
      "_view_module_version": "1.2.0",
      "_view_name": "StyleView",
      "bar_color": null,
      "description_width": "initial"
     }
    },
    "edff19ac923a439fa4850a52998b57fa": {
     "model_module": "@jupyter-widgets/controls",
     "model_name": "HBoxModel",
     "state": {
      "_dom_classes": [],
      "_model_module": "@jupyter-widgets/controls",
      "_model_module_version": "1.5.0",
      "_model_name": "HBoxModel",
      "_view_count": null,
      "_view_module": "@jupyter-widgets/controls",
      "_view_module_version": "1.5.0",
      "_view_name": "HBoxView",
      "box_style": "",
      "children": [
       "IPY_MODEL_3b9975a11f7044ee98a8e93a7e2b0bb3",
       "IPY_MODEL_3b2ed11c28f443548c338412dc5a622c"
      ],
      "layout": "IPY_MODEL_872e714713894eedb9fbab2b41ce6433"
     }
    },
    "ee0000b210674958aa2686ba62ba1a67": {
     "model_module": "@jupyter-widgets/base",
     "model_name": "LayoutModel",
     "state": {
      "_model_module": "@jupyter-widgets/base",
      "_model_module_version": "1.2.0",
      "_model_name": "LayoutModel",
      "_view_count": null,
      "_view_module": "@jupyter-widgets/base",
      "_view_module_version": "1.2.0",
      "_view_name": "LayoutView",
      "align_content": null,
      "align_items": null,
      "align_self": null,
      "border": null,
      "bottom": null,
      "display": null,
      "flex": null,
      "flex_flow": null,
      "grid_area": null,
      "grid_auto_columns": null,
      "grid_auto_flow": null,
      "grid_auto_rows": null,
      "grid_column": null,
      "grid_gap": null,
      "grid_row": null,
      "grid_template_areas": null,
      "grid_template_columns": null,
      "grid_template_rows": null,
      "height": null,
      "justify_content": null,
      "justify_items": null,
      "left": null,
      "margin": null,
      "max_height": null,
      "max_width": null,
      "min_height": null,
      "min_width": null,
      "object_fit": null,
      "object_position": null,
      "order": null,
      "overflow": null,
      "overflow_x": null,
      "overflow_y": null,
      "padding": null,
      "right": null,
      "top": null,
      "visibility": null,
      "width": null
     }
    }
   }
  }
 },
 "nbformat": 4,
 "nbformat_minor": 1
}
