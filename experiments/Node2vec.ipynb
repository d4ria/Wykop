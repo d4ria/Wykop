{
 "cells": [
  {
   "cell_type": "code",
   "execution_count": 4,
   "metadata": {
    "colab": {
     "base_uri": "https://localhost:8080/"
    },
    "id": "MRcAlyTvMLzY",
    "outputId": "afeef23d-9c6d-4408-cb54-16a9f1898045",
    "scrolled": true
   },
   "outputs": [
    {
     "name": "stdout",
     "output_type": "stream",
     "text": [
      "Requirement already satisfied: node2vec in /home/satyr/anaconda2/envs/py_new/lib/python3.9/site-packages (0.4.1)\n",
      "Requirement already satisfied: gensim in /home/satyr/anaconda2/envs/py_new/lib/python3.9/site-packages (from node2vec) (3.8.3)\n",
      "Requirement already satisfied: joblib>=0.13.2 in /home/satyr/anaconda2/envs/py_new/lib/python3.9/site-packages (from node2vec) (1.0.0)\n",
      "Requirement already satisfied: numpy in /home/satyr/anaconda2/envs/py_new/lib/python3.9/site-packages (from node2vec) (1.19.5)\n",
      "Requirement already satisfied: networkx in /home/satyr/anaconda2/envs/py_new/lib/python3.9/site-packages (from node2vec) (2.5)\n",
      "Requirement already satisfied: tqdm in /home/satyr/anaconda2/envs/py_new/lib/python3.9/site-packages (from node2vec) (4.55.1)\n",
      "Requirement already satisfied: six>=1.5.0 in /home/satyr/anaconda2/envs/py_new/lib/python3.9/site-packages (from gensim->node2vec) (1.15.0)\n",
      "Requirement already satisfied: scipy>=0.18.1 in /home/satyr/anaconda2/envs/py_new/lib/python3.9/site-packages (from gensim->node2vec) (1.5.2)\n",
      "Requirement already satisfied: smart-open>=1.8.1 in /home/satyr/anaconda2/envs/py_new/lib/python3.9/site-packages (from gensim->node2vec) (4.1.2)\n",
      "Requirement already satisfied: decorator>=4.3.0 in /home/satyr/anaconda2/envs/py_new/lib/python3.9/site-packages (from networkx->node2vec) (4.4.2)\n",
      "Requirement already satisfied: networkx in /home/satyr/anaconda2/envs/py_new/lib/python3.9/site-packages (2.5)\n",
      "Requirement already satisfied: decorator>=4.3.0 in /home/satyr/anaconda2/envs/py_new/lib/python3.9/site-packages (from networkx) (4.4.2)\n",
      "Collecting sklearn\n",
      "  Downloading sklearn-0.0.tar.gz (1.1 kB)\n",
      "Collecting scikit-learn\n",
      "  Downloading scikit_learn-0.24.1-cp39-cp39-manylinux2010_x86_64.whl (23.8 MB)\n",
      "\u001b[K     |████████████████████████████████| 23.8 MB 12.9 MB/s eta 0:00:01\n",
      "\u001b[?25hRequirement already satisfied: numpy>=1.13.3 in /home/satyr/anaconda2/envs/py_new/lib/python3.9/site-packages (from scikit-learn->sklearn) (1.19.5)\n",
      "Requirement already satisfied: joblib>=0.11 in /home/satyr/anaconda2/envs/py_new/lib/python3.9/site-packages (from scikit-learn->sklearn) (1.0.0)\n",
      "Requirement already satisfied: scipy>=0.19.1 in /home/satyr/anaconda2/envs/py_new/lib/python3.9/site-packages (from scikit-learn->sklearn) (1.5.2)\n",
      "Collecting threadpoolctl>=2.0.0\n",
      "  Downloading threadpoolctl-2.1.0-py3-none-any.whl (12 kB)\n",
      "Building wheels for collected packages: sklearn\n",
      "  Building wheel for sklearn (setup.py) ... \u001b[?25ldone\n",
      "\u001b[?25h  Created wheel for sklearn: filename=sklearn-0.0-py2.py3-none-any.whl size=1316 sha256=c9d1000b5d00b5f155cca047315a062c91506caeda13baef186a08e7c8b707fa\n",
      "  Stored in directory: /home/satyr/.cache/pip/wheels/e4/7b/98/b6466d71b8d738a0c547008b9eb39bf8676d1ff6ca4b22af1c\n",
      "Successfully built sklearn\n",
      "Installing collected packages: threadpoolctl, scikit-learn, sklearn\n",
      "Successfully installed scikit-learn-0.24.1 sklearn-0.0 threadpoolctl-2.1.0\n"
     ]
    }
   ],
   "source": [
    "!pip install node2vec\n",
    "!pip install networkx\n",
    "!pip install sklearn"
   ]
  },
  {
   "cell_type": "code",
   "execution_count": 5,
   "metadata": {
    "id": "zd9G-7C6MWWg"
   },
   "outputs": [],
   "source": [
    "import networkx as nx\n",
    "from node2vec import Node2Vec\n",
    "import pandas as pd\n",
    "import numpy as np\n",
    "from sklearn.manifold import TSNE\n",
    "import seaborn as sns\n",
    "sns.set()"
   ]
  },
  {
   "cell_type": "markdown",
   "metadata": {
    "id": "YQ4olu2ri6x9"
   },
   "source": [
    "Load the dataset:"
   ]
  },
  {
   "cell_type": "code",
   "execution_count": 8,
   "metadata": {
    "id": "tEqb6oNPZbqX"
   },
   "outputs": [],
   "source": [
    "df = pd.read_csv('../annotations/data/classification_dataset.csv')\n",
    "#df = pd.read_csv('../wykop_scraper/data/latest/comments.csv')\n",
    "#df = df.iloc[:, 1:]"
   ]
  },
  {
   "cell_type": "code",
   "execution_count": 9,
   "metadata": {
    "colab": {
     "base_uri": "https://localhost:8080/",
     "height": 289
    },
    "id": "j6t_5TBsZ4AI",
    "outputId": "1b93d922-3e6b-4fb7-f73e-a3d92d9ebcc6"
   },
   "outputs": [
    {
     "data": {
      "text/html": [
       "<div>\n",
       "<style scoped>\n",
       "    .dataframe tbody tr th:only-of-type {\n",
       "        vertical-align: middle;\n",
       "    }\n",
       "\n",
       "    .dataframe tbody tr th {\n",
       "        vertical-align: top;\n",
       "    }\n",
       "\n",
       "    .dataframe thead th {\n",
       "        text-align: right;\n",
       "    }\n",
       "</style>\n",
       "<table border=\"1\" class=\"dataframe\">\n",
       "  <thead>\n",
       "    <tr style=\"text-align: right;\">\n",
       "      <th></th>\n",
       "      <th>Unnamed: 0</th>\n",
       "      <th>comment_id</th>\n",
       "      <th>entry_id</th>\n",
       "      <th>date</th>\n",
       "      <th>text</th>\n",
       "      <th>author_login</th>\n",
       "      <th>vote_count</th>\n",
       "      <th>receiver</th>\n",
       "      <th>hate_word_counts</th>\n",
       "      <th>is_hateful</th>\n",
       "      <th>annotation</th>\n",
       "    </tr>\n",
       "  </thead>\n",
       "  <tbody>\n",
       "    <tr>\n",
       "      <th>0</th>\n",
       "      <td>0</td>\n",
       "      <td>185386257</td>\n",
       "      <td>52292479</td>\n",
       "      <td>2020-09-23 00:18:39</td>\n",
       "      <td>Ty no kurwa że też ja na to nie wpadłem ale ze...</td>\n",
       "      <td>Cybek-Marian</td>\n",
       "      <td>1</td>\n",
       "      <td>atteint</td>\n",
       "      <td>2</td>\n",
       "      <td>1</td>\n",
       "      <td>0</td>\n",
       "    </tr>\n",
       "    <tr>\n",
       "      <th>1</th>\n",
       "      <td>3</td>\n",
       "      <td>174804569</td>\n",
       "      <td>49417029</td>\n",
       "      <td>2020-05-14 19:45:44</td>\n",
       "      <td>coś ponad 1 a mniej niż 2</td>\n",
       "      <td>wytrzzeszcz</td>\n",
       "      <td>1</td>\n",
       "      <td>Kosciany</td>\n",
       "      <td>0</td>\n",
       "      <td>0</td>\n",
       "      <td>0</td>\n",
       "    </tr>\n",
       "    <tr>\n",
       "      <th>2</th>\n",
       "      <td>6</td>\n",
       "      <td>189533891</td>\n",
       "      <td>53440779</td>\n",
       "      <td>2020-11-09 20:41:58</td>\n",
       "      <td>Motor ma już w garażu</td>\n",
       "      <td>piSSowiec39</td>\n",
       "      <td>3</td>\n",
       "      <td>Zagmadfany2</td>\n",
       "      <td>0</td>\n",
       "      <td>0</td>\n",
       "      <td>0</td>\n",
       "    </tr>\n",
       "    <tr>\n",
       "      <th>3</th>\n",
       "      <td>9</td>\n",
       "      <td>172538589</td>\n",
       "      <td>48804329</td>\n",
       "      <td>2020-04-17 01:00:24</td>\n",
       "      <td>znow robic na tego zlodzieja</td>\n",
       "      <td>ranunculus</td>\n",
       "      <td>3</td>\n",
       "      <td>Graner</td>\n",
       "      <td>0</td>\n",
       "      <td>0</td>\n",
       "      <td>0</td>\n",
       "    </tr>\n",
       "    <tr>\n",
       "      <th>4</th>\n",
       "      <td>12</td>\n",
       "      <td>185485247</td>\n",
       "      <td>52313979</td>\n",
       "      <td>2020-09-24 11:51:11</td>\n",
       "      <td>kurwa człowieku no do kurwy nędzy chociaż wytn...</td>\n",
       "      <td>Cybek-Marian</td>\n",
       "      <td>0</td>\n",
       "      <td>AgentGRU</td>\n",
       "      <td>3</td>\n",
       "      <td>1</td>\n",
       "      <td>1</td>\n",
       "    </tr>\n",
       "  </tbody>\n",
       "</table>\n",
       "</div>"
      ],
      "text/plain": [
       "   Unnamed: 0  comment_id  entry_id                 date  \\\n",
       "0           0   185386257  52292479  2020-09-23 00:18:39   \n",
       "1           3   174804569  49417029  2020-05-14 19:45:44   \n",
       "2           6   189533891  53440779  2020-11-09 20:41:58   \n",
       "3           9   172538589  48804329  2020-04-17 01:00:24   \n",
       "4          12   185485247  52313979  2020-09-24 11:51:11   \n",
       "\n",
       "                                                text  author_login  \\\n",
       "0  Ty no kurwa że też ja na to nie wpadłem ale ze...  Cybek-Marian   \n",
       "1                          coś ponad 1 a mniej niż 2   wytrzzeszcz   \n",
       "2                              Motor ma już w garażu   piSSowiec39   \n",
       "3                       znow robic na tego zlodzieja    ranunculus   \n",
       "4  kurwa człowieku no do kurwy nędzy chociaż wytn...  Cybek-Marian   \n",
       "\n",
       "   vote_count     receiver  hate_word_counts  is_hateful  annotation  \n",
       "0           1      atteint                 2           1           0  \n",
       "1           1     Kosciany                 0           0           0  \n",
       "2           3  Zagmadfany2                 0           0           0  \n",
       "3           3       Graner                 0           0           0  \n",
       "4           0     AgentGRU                 3           1           1  "
      ]
     },
     "execution_count": 9,
     "metadata": {},
     "output_type": "execute_result"
    }
   ],
   "source": [
    "df.head()"
   ]
  },
  {
   "cell_type": "code",
   "execution_count": 12,
   "metadata": {
    "id": "spB0ozp6lMDU"
   },
   "outputs": [],
   "source": [
    "tags_df = pd.read_csv('../wykop_scraper/data/latest/tags.csv')\n",
    "comments = pd.read_csv('../wykop_scraper/data/latest/comments.csv')"
   ]
  },
  {
   "cell_type": "code",
   "execution_count": 13,
   "metadata": {},
   "outputs": [
    {
     "data": {
      "text/plain": [
       "#koronawirus      4724\n",
       "#heheszki         4376\n",
       "#patostreamy      4077\n",
       "#przegryw         3561\n",
       "#polityka         3341\n",
       "                  ... \n",
       "#souljazz            1\n",
       "#blackandwhite       1\n",
       "#bezpeczenstwo       1\n",
       "#egzorcyzmy          1\n",
       "#hyoyeon             1\n",
       "Name: tag, Length: 17418, dtype: int64"
      ]
     },
     "execution_count": 13,
     "metadata": {},
     "output_type": "execute_result"
    }
   ],
   "source": [
    "tags_df.tag.value_counts()"
   ]
  },
  {
   "cell_type": "code",
   "execution_count": 14,
   "metadata": {},
   "outputs": [
    {
     "data": {
      "text/html": [
       "<div>\n",
       "<style scoped>\n",
       "    .dataframe tbody tr th:only-of-type {\n",
       "        vertical-align: middle;\n",
       "    }\n",
       "\n",
       "    .dataframe tbody tr th {\n",
       "        vertical-align: top;\n",
       "    }\n",
       "\n",
       "    .dataframe thead th {\n",
       "        text-align: right;\n",
       "    }\n",
       "</style>\n",
       "<table border=\"1\" class=\"dataframe\">\n",
       "  <thead>\n",
       "    <tr style=\"text-align: right;\">\n",
       "      <th></th>\n",
       "      <th>entry_id</th>\n",
       "      <th>comment_id</th>\n",
       "      <th>tag</th>\n",
       "    </tr>\n",
       "  </thead>\n",
       "  <tbody>\n",
       "    <tr>\n",
       "      <th>0</th>\n",
       "      <td>53777179</td>\n",
       "      <td>NaN</td>\n",
       "      <td>#pytanie</td>\n",
       "    </tr>\n",
       "    <tr>\n",
       "      <th>1</th>\n",
       "      <td>53777179</td>\n",
       "      <td>NaN</td>\n",
       "      <td>#finanse</td>\n",
       "    </tr>\n",
       "    <tr>\n",
       "      <th>2</th>\n",
       "      <td>53777179</td>\n",
       "      <td>NaN</td>\n",
       "      <td>#pytaniedoeksperta</td>\n",
       "    </tr>\n",
       "    <tr>\n",
       "      <th>3</th>\n",
       "      <td>53777179</td>\n",
       "      <td>NaN</td>\n",
       "      <td>#gielda</td>\n",
       "    </tr>\n",
       "    <tr>\n",
       "      <th>4</th>\n",
       "      <td>53777129</td>\n",
       "      <td>NaN</td>\n",
       "      <td>#wykopaka</td>\n",
       "    </tr>\n",
       "    <tr>\n",
       "      <th>...</th>\n",
       "      <td>...</td>\n",
       "      <td>...</td>\n",
       "      <td>...</td>\n",
       "    </tr>\n",
       "    <tr>\n",
       "      <th>202158</th>\n",
       "      <td>45220929</td>\n",
       "      <td>NaN</td>\n",
       "      <td>#niebieskiepaski</td>\n",
       "    </tr>\n",
       "    <tr>\n",
       "      <th>202159</th>\n",
       "      <td>45220929</td>\n",
       "      <td>NaN</td>\n",
       "      <td>#rozowepaski</td>\n",
       "    </tr>\n",
       "    <tr>\n",
       "      <th>202161</th>\n",
       "      <td>45220629</td>\n",
       "      <td>NaN</td>\n",
       "      <td>#dziendobry</td>\n",
       "    </tr>\n",
       "    <tr>\n",
       "      <th>202162</th>\n",
       "      <td>45220629</td>\n",
       "      <td>NaN</td>\n",
       "      <td>#kawatime</td>\n",
       "    </tr>\n",
       "    <tr>\n",
       "      <th>202163</th>\n",
       "      <td>45220629</td>\n",
       "      <td>NaN</td>\n",
       "      <td>#grazynacore</td>\n",
       "    </tr>\n",
       "  </tbody>\n",
       "</table>\n",
       "<p>192107 rows × 3 columns</p>\n",
       "</div>"
      ],
      "text/plain": [
       "        entry_id  comment_id                 tag\n",
       "0       53777179         NaN            #pytanie\n",
       "1       53777179         NaN            #finanse\n",
       "2       53777179         NaN  #pytaniedoeksperta\n",
       "3       53777179         NaN             #gielda\n",
       "4       53777129         NaN           #wykopaka\n",
       "...          ...         ...                 ...\n",
       "202158  45220929         NaN    #niebieskiepaski\n",
       "202159  45220929         NaN        #rozowepaski\n",
       "202161  45220629         NaN         #dziendobry\n",
       "202162  45220629         NaN           #kawatime\n",
       "202163  45220629         NaN        #grazynacore\n",
       "\n",
       "[192107 rows x 3 columns]"
      ]
     },
     "execution_count": 14,
     "metadata": {},
     "output_type": "execute_result"
    }
   ],
   "source": [
    "tag_df_counts = tags_df.tag.value_counts().to_dict()\n",
    "\n",
    "tags_df = tags_df[tags_df.tag.apply(tag_df_counts.get) > 1]\n",
    "tags_df"
   ]
  },
  {
   "cell_type": "code",
   "execution_count": 15,
   "metadata": {
    "id": "lp7_JoinlY-T"
   },
   "outputs": [],
   "source": [
    "most_used_tags = tags_df.merge(df, on='entry_id')[['author_login', 'tag']].groupby('author_login').agg(lambda x: x.value_counts().index[0]).reset_index()"
   ]
  },
  {
   "cell_type": "code",
   "execution_count": 16,
   "metadata": {},
   "outputs": [
    {
     "data": {
      "text/html": [
       "<div>\n",
       "<style scoped>\n",
       "    .dataframe tbody tr th:only-of-type {\n",
       "        vertical-align: middle;\n",
       "    }\n",
       "\n",
       "    .dataframe tbody tr th {\n",
       "        vertical-align: top;\n",
       "    }\n",
       "\n",
       "    .dataframe thead th {\n",
       "        text-align: right;\n",
       "    }\n",
       "</style>\n",
       "<table border=\"1\" class=\"dataframe\">\n",
       "  <thead>\n",
       "    <tr style=\"text-align: right;\">\n",
       "      <th></th>\n",
       "      <th>author_login</th>\n",
       "      <th>tag</th>\n",
       "    </tr>\n",
       "  </thead>\n",
       "  <tbody>\n",
       "    <tr>\n",
       "      <th>0</th>\n",
       "      <td>10129</td>\n",
       "      <td>#przegryw</td>\n",
       "    </tr>\n",
       "    <tr>\n",
       "      <th>1</th>\n",
       "      <td>A-10_Warthog</td>\n",
       "      <td>#anime</td>\n",
       "    </tr>\n",
       "    <tr>\n",
       "      <th>2</th>\n",
       "      <td>AGS__K</td>\n",
       "      <td>#polityka</td>\n",
       "    </tr>\n",
       "    <tr>\n",
       "      <th>3</th>\n",
       "      <td>Adu_Jean</td>\n",
       "      <td>#bigbrother</td>\n",
       "    </tr>\n",
       "    <tr>\n",
       "      <th>4</th>\n",
       "      <td>AgentGRU</td>\n",
       "      <td>#wybory</td>\n",
       "    </tr>\n",
       "    <tr>\n",
       "      <th>...</th>\n",
       "      <td>...</td>\n",
       "      <td>...</td>\n",
       "    </tr>\n",
       "    <tr>\n",
       "      <th>301</th>\n",
       "      <td>zartos</td>\n",
       "      <td>#przegryw</td>\n",
       "    </tr>\n",
       "    <tr>\n",
       "      <th>302</th>\n",
       "      <td>zastuj</td>\n",
       "      <td>#wiara</td>\n",
       "    </tr>\n",
       "    <tr>\n",
       "      <th>303</th>\n",
       "      <td>ziemba1</td>\n",
       "      <td>#konfederacja</td>\n",
       "    </tr>\n",
       "    <tr>\n",
       "      <th>304</th>\n",
       "      <td>zirytowana_plaszczka</td>\n",
       "      <td>#polityka</td>\n",
       "    </tr>\n",
       "    <tr>\n",
       "      <th>305</th>\n",
       "      <td>zosiasamosia1</td>\n",
       "      <td>#przegryw</td>\n",
       "    </tr>\n",
       "  </tbody>\n",
       "</table>\n",
       "<p>306 rows × 2 columns</p>\n",
       "</div>"
      ],
      "text/plain": [
       "             author_login            tag\n",
       "0                   10129      #przegryw\n",
       "1            A-10_Warthog         #anime\n",
       "2                  AGS__K      #polityka\n",
       "3                Adu_Jean    #bigbrother\n",
       "4                AgentGRU        #wybory\n",
       "..                    ...            ...\n",
       "301                zartos      #przegryw\n",
       "302                zastuj         #wiara\n",
       "303               ziemba1  #konfederacja\n",
       "304  zirytowana_plaszczka      #polityka\n",
       "305         zosiasamosia1      #przegryw\n",
       "\n",
       "[306 rows x 2 columns]"
      ]
     },
     "execution_count": 16,
     "metadata": {},
     "output_type": "execute_result"
    }
   ],
   "source": [
    "most_used_tags"
   ]
  },
  {
   "cell_type": "markdown",
   "metadata": {
    "id": "ADla-FsUi9f5"
   },
   "source": [
    "Create the list of edges:"
   ]
  },
  {
   "cell_type": "code",
   "execution_count": 17,
   "metadata": {},
   "outputs": [],
   "source": [
    "df = df.dropna(subset=['author_login', 'receiver'])"
   ]
  },
  {
   "cell_type": "code",
   "execution_count": 18,
   "metadata": {
    "id": "ecPSS8odahSw"
   },
   "outputs": [],
   "source": [
    "edges = []\n",
    "for index, row in df.iterrows():\n",
    "    a = row['author_login']\n",
    "    r = row['receiver']\n",
    "    if not a or not r:\n",
    "        continue\n",
    "    if (a, r) not in edges:\n",
    "        edges.append((a, r))"
   ]
  },
  {
   "cell_type": "code",
   "execution_count": 19,
   "metadata": {},
   "outputs": [],
   "source": [
    "#edges = comments.loc[:, ['author_login', 'receiver']].dropna().values.tolist()\n",
    "#edges"
   ]
  },
  {
   "cell_type": "markdown",
   "metadata": {
    "id": "ahDPws1sjF7h"
   },
   "source": [
    "Create the graphs:"
   ]
  },
  {
   "cell_type": "code",
   "execution_count": 20,
   "metadata": {
    "id": "3weRXuFIaNlo"
   },
   "outputs": [],
   "source": [
    "DG = nx.DiGraph()\n",
    "DG.add_edges_from(edges)\n",
    "UDG = DG.to_undirected()"
   ]
  },
  {
   "cell_type": "markdown",
   "metadata": {
    "id": "OxxGgncrjd9z"
   },
   "source": [
    "Check if everything's ok:"
   ]
  },
  {
   "cell_type": "code",
   "execution_count": 21,
   "metadata": {
    "colab": {
     "base_uri": "https://localhost:8080/"
    },
    "id": "BVFkTSuJcaYu",
    "outputId": "fcfdc2ac-c52d-42ec-9a90-e990264de3c6"
   },
   "outputs": [
    {
     "name": "stdout",
     "output_type": "stream",
     "text": [
      "True\n",
      "False\n"
     ]
    }
   ],
   "source": [
    "print(nx.is_directed(DG))\n",
    "print(nx.is_directed(UDG))"
   ]
  },
  {
   "cell_type": "markdown",
   "metadata": {
    "id": "fDXSyjVljKuG"
   },
   "source": [
    "Check the graph size:"
   ]
  },
  {
   "cell_type": "code",
   "execution_count": 22,
   "metadata": {
    "colab": {
     "base_uri": "https://localhost:8080/"
    },
    "id": "zEIYdZHna9pg",
    "outputId": "0cb81d48-1467-4524-c508-4a51ad6c89ca"
   },
   "outputs": [
    {
     "name": "stdout",
     "output_type": "stream",
     "text": [
      "Number of nodes: 311\n",
      "Number of edges: 3043\n",
      "Number of connected components: 1\n"
     ]
    }
   ],
   "source": [
    "print(f'Number of nodes: {DG.number_of_nodes()}')\n",
    "print(f'Number of edges: {DG.number_of_edges()}')\n",
    "print(f'Number of connected components: {nx.number_connected_components(UDG)}') # not implemented for directed graphs"
   ]
  },
  {
   "cell_type": "markdown",
   "metadata": {
    "id": "zaneksubjorv"
   },
   "source": [
    "Create the Node2Vec:"
   ]
  },
  {
   "cell_type": "code",
   "execution_count": 23,
   "metadata": {
    "colab": {
     "base_uri": "https://localhost:8080/",
     "height": 83,
     "referenced_widgets": [
      "a3f74a9bc7b44473a93a9ddb91a518fd",
      "40b8e089fb96452f91b87ef5445f6abe",
      "9730fbddd1ae4dac8a76559516931f42",
      "e8dbfbd243064761accb44de28fd4b01",
      "87c979feb88a45ada07b403eb2e0471c",
      "9eadb45fbaab42a9b6df66609cf4b56d",
      "6691ff712020419ba67bbf0451dccb6c",
      "46bd321b9b38478ba291f1d32a5c65b0"
     ]
    },
    "id": "lPAV2Oaichjs",
    "outputId": "532da3a4-eeb8-4dcc-8b23-91a1b0e0b58b"
   },
   "outputs": [
    {
     "data": {
      "application/vnd.jupyter.widget-view+json": {
       "model_id": "0523be14b8804c589c27aced2fe7a3d6",
       "version_major": 2,
       "version_minor": 0
      },
      "text/plain": [
       "Computing transition probabilities:   0%|          | 0/311 [00:00<?, ?it/s]"
      ]
     },
     "metadata": {},
     "output_type": "display_data"
    },
    {
     "name": "stderr",
     "output_type": "stream",
     "text": [
      "Generating walks (CPU: 1): 100%|██████████| 100/100 [00:43<00:00,  2.32it/s]\n"
     ]
    }
   ],
   "source": [
    "node_size = 32\n",
    "node2vec = Node2Vec(DG, dimensions=node_size, walk_length=16, num_walks=100, )"
   ]
  },
  {
   "cell_type": "code",
   "execution_count": 24,
   "metadata": {
    "id": "tjQnOuATelR3"
   },
   "outputs": [],
   "source": [
    "model = node2vec.fit(window=10, min_count=1)"
   ]
  },
  {
   "cell_type": "code",
   "execution_count": 25,
   "metadata": {
    "id": "KawPp7Tjfsdf"
   },
   "outputs": [],
   "source": [
    "user_embeddings = {}\n",
    "for node in UDG.nodes:\n",
    "    if node not in user_embeddings.keys() and node in df.author_login.values:\n",
    "        user_embeddings[node] = model.wv[node]"
   ]
  },
  {
   "cell_type": "code",
   "execution_count": 26,
   "metadata": {},
   "outputs": [
    {
     "data": {
      "text/plain": [
       "311"
      ]
     },
     "execution_count": 26,
     "metadata": {},
     "output_type": "execute_result"
    }
   ],
   "source": [
    "num_users = len(list(user_embeddings.keys()))\n",
    "len(list(user_embeddings.keys()))"
   ]
  },
  {
   "cell_type": "markdown",
   "metadata": {
    "id": "sijDYf3BlJOd"
   },
   "source": [
    "### Embeddings visualisation"
   ]
  },
  {
   "cell_type": "code",
   "execution_count": 27,
   "metadata": {
    "id": "KdQcPWS6mQrX"
   },
   "outputs": [],
   "source": [
    "X = np.zeros((num_users, node_size))\n",
    "tags = []\n",
    "for i, (user, emb) in enumerate(user_embeddings.items()):\n",
    "    X[i, :] = emb\n",
    "    tag = most_used_tags[most_used_tags.author_login == user].tag\n",
    "    if not tag.empty:\n",
    "        tags.append(tag.values[0])\n",
    "    else:\n",
    "        tags.append('OTHER')"
   ]
  },
  {
   "cell_type": "code",
   "execution_count": 28,
   "metadata": {},
   "outputs": [],
   "source": [
    "tag_counts = pd.Series(tags).value_counts().to_dict()\n",
    "\n",
    "tags = [tag if tag_counts[tag] > 6 else 'OTHER' for tag in tags]"
   ]
  },
  {
   "cell_type": "code",
   "execution_count": 29,
   "metadata": {},
   "outputs": [
    {
     "data": {
      "text/plain": [
       "['#pdk',\n",
       " 'OTHER',\n",
       " '#gownowpis',\n",
       " 'OTHER',\n",
       " '#kononowicz',\n",
       " '#kononowicz',\n",
       " 'OTHER',\n",
       " 'OTHER',\n",
       " 'OTHER',\n",
       " 'OTHER',\n",
       " '#polityka',\n",
       " '#pdk',\n",
       " '#przegryw',\n",
       " 'OTHER',\n",
       " '#kononowicz',\n",
       " 'OTHER',\n",
       " 'OTHER',\n",
       " 'OTHER',\n",
       " 'OTHER',\n",
       " '#przegryw',\n",
       " '#mikrokoksy',\n",
       " '#przegryw',\n",
       " '#mikrokoksy',\n",
       " '#mikrokoksy',\n",
       " 'OTHER',\n",
       " '#polityka',\n",
       " 'OTHER',\n",
       " 'OTHER',\n",
       " 'OTHER',\n",
       " '#przegryw',\n",
       " '#przegryw',\n",
       " 'OTHER',\n",
       " 'OTHER',\n",
       " '#pdk',\n",
       " 'OTHER',\n",
       " '#przegryw',\n",
       " '#przegryw',\n",
       " '#przegryw',\n",
       " '#gownowpis',\n",
       " '#polityka',\n",
       " '#kononowicz',\n",
       " 'OTHER',\n",
       " 'OTHER',\n",
       " 'OTHER',\n",
       " '#koronawirus',\n",
       " '#f1',\n",
       " '#kononowicz',\n",
       " 'OTHER',\n",
       " '#przegryw',\n",
       " 'OTHER',\n",
       " 'OTHER',\n",
       " 'OTHER',\n",
       " '#przegryw',\n",
       " '#przegryw',\n",
       " 'OTHER',\n",
       " 'OTHER',\n",
       " '#mikrokoksy',\n",
       " 'OTHER',\n",
       " '#pytanie',\n",
       " 'OTHER',\n",
       " '#pytanie',\n",
       " 'OTHER',\n",
       " 'OTHER',\n",
       " '#przegryw',\n",
       " '#gownowpis',\n",
       " 'OTHER',\n",
       " '#przegryw',\n",
       " '#pdk',\n",
       " '#przegryw',\n",
       " 'OTHER',\n",
       " 'OTHER',\n",
       " '#gownowpis',\n",
       " '#koronawirus',\n",
       " 'OTHER',\n",
       " 'OTHER',\n",
       " 'OTHER',\n",
       " 'OTHER',\n",
       " '#pdk',\n",
       " '#mikrokoksy',\n",
       " 'OTHER',\n",
       " 'OTHER',\n",
       " '#polityka',\n",
       " 'OTHER',\n",
       " 'OTHER',\n",
       " '#mikrokoksy',\n",
       " 'OTHER',\n",
       " 'OTHER',\n",
       " 'OTHER',\n",
       " '#pytanie',\n",
       " 'OTHER',\n",
       " '#polityka',\n",
       " 'OTHER',\n",
       " '#przegryw',\n",
       " '#przegryw',\n",
       " 'OTHER',\n",
       " 'OTHER',\n",
       " '#polityka',\n",
       " 'OTHER',\n",
       " '#f1',\n",
       " '#polityka',\n",
       " 'OTHER',\n",
       " '#przegryw',\n",
       " 'OTHER',\n",
       " 'OTHER',\n",
       " 'OTHER',\n",
       " '#koronawirus',\n",
       " 'OTHER',\n",
       " '#mikrokoksy',\n",
       " '#polityka',\n",
       " '#gownowpis',\n",
       " 'OTHER',\n",
       " '#przegryw',\n",
       " '#kononowicz',\n",
       " 'OTHER',\n",
       " 'OTHER',\n",
       " '#kononowicz',\n",
       " '#koronawirus',\n",
       " 'OTHER',\n",
       " '#przegryw',\n",
       " '#polityka',\n",
       " '#pytanie',\n",
       " '#przegryw',\n",
       " 'OTHER',\n",
       " 'OTHER',\n",
       " '#mikrokoksy',\n",
       " 'OTHER',\n",
       " 'OTHER',\n",
       " 'OTHER',\n",
       " 'OTHER',\n",
       " 'OTHER',\n",
       " 'OTHER',\n",
       " 'OTHER',\n",
       " '#polityka',\n",
       " '#polityka',\n",
       " '#mikrokoksy',\n",
       " 'OTHER',\n",
       " 'OTHER',\n",
       " 'OTHER',\n",
       " 'OTHER',\n",
       " 'OTHER',\n",
       " 'OTHER',\n",
       " 'OTHER',\n",
       " '#f1',\n",
       " 'OTHER',\n",
       " 'OTHER',\n",
       " 'OTHER',\n",
       " 'OTHER',\n",
       " 'OTHER',\n",
       " 'OTHER',\n",
       " 'OTHER',\n",
       " 'OTHER',\n",
       " '#pytanie',\n",
       " 'OTHER',\n",
       " 'OTHER',\n",
       " 'OTHER',\n",
       " 'OTHER',\n",
       " '#pytanie',\n",
       " '#gownowpis',\n",
       " '#gownowpis',\n",
       " 'OTHER',\n",
       " 'OTHER',\n",
       " '#gownowpis',\n",
       " 'OTHER',\n",
       " '#przegryw',\n",
       " 'OTHER',\n",
       " 'OTHER',\n",
       " 'OTHER',\n",
       " 'OTHER',\n",
       " 'OTHER',\n",
       " '#przegryw',\n",
       " 'OTHER',\n",
       " 'OTHER',\n",
       " '#pdk',\n",
       " 'OTHER',\n",
       " 'OTHER',\n",
       " 'OTHER',\n",
       " '#koronawirus',\n",
       " 'OTHER',\n",
       " 'OTHER',\n",
       " '#polityka',\n",
       " 'OTHER',\n",
       " 'OTHER',\n",
       " 'OTHER',\n",
       " 'OTHER',\n",
       " 'OTHER',\n",
       " '#polityka',\n",
       " '#f1',\n",
       " 'OTHER',\n",
       " 'OTHER',\n",
       " 'OTHER',\n",
       " 'OTHER',\n",
       " 'OTHER',\n",
       " 'OTHER',\n",
       " 'OTHER',\n",
       " 'OTHER',\n",
       " 'OTHER',\n",
       " 'OTHER',\n",
       " 'OTHER',\n",
       " 'OTHER',\n",
       " 'OTHER',\n",
       " 'OTHER',\n",
       " 'OTHER',\n",
       " 'OTHER',\n",
       " 'OTHER',\n",
       " '#polityka',\n",
       " 'OTHER',\n",
       " '#koronawirus',\n",
       " '#koronawirus',\n",
       " 'OTHER',\n",
       " 'OTHER',\n",
       " 'OTHER',\n",
       " '#przegryw',\n",
       " 'OTHER',\n",
       " '#polityka',\n",
       " '#koronawirus',\n",
       " 'OTHER',\n",
       " '#kononowicz',\n",
       " '#polityka',\n",
       " 'OTHER',\n",
       " 'OTHER',\n",
       " 'OTHER',\n",
       " 'OTHER',\n",
       " 'OTHER',\n",
       " 'OTHER',\n",
       " 'OTHER',\n",
       " '#mikrokoksy',\n",
       " '#polityka',\n",
       " '#przegryw',\n",
       " 'OTHER',\n",
       " '#przegryw',\n",
       " 'OTHER',\n",
       " 'OTHER',\n",
       " 'OTHER',\n",
       " '#przegryw',\n",
       " 'OTHER',\n",
       " '#pdk',\n",
       " 'OTHER',\n",
       " 'OTHER',\n",
       " 'OTHER',\n",
       " 'OTHER',\n",
       " 'OTHER',\n",
       " 'OTHER',\n",
       " 'OTHER',\n",
       " 'OTHER',\n",
       " '#przegryw',\n",
       " '#przegryw',\n",
       " 'OTHER',\n",
       " 'OTHER',\n",
       " '#f1',\n",
       " 'OTHER',\n",
       " '#polityka',\n",
       " '#przegryw',\n",
       " '#pytanie',\n",
       " '#polityka',\n",
       " '#pdk',\n",
       " 'OTHER',\n",
       " 'OTHER',\n",
       " 'OTHER',\n",
       " 'OTHER',\n",
       " 'OTHER',\n",
       " 'OTHER',\n",
       " 'OTHER',\n",
       " 'OTHER',\n",
       " 'OTHER',\n",
       " 'OTHER',\n",
       " '#koronawirus',\n",
       " '#polityka',\n",
       " 'OTHER',\n",
       " 'OTHER',\n",
       " '#przegryw',\n",
       " 'OTHER',\n",
       " 'OTHER',\n",
       " 'OTHER',\n",
       " 'OTHER',\n",
       " 'OTHER',\n",
       " 'OTHER',\n",
       " 'OTHER',\n",
       " '#f1',\n",
       " 'OTHER',\n",
       " 'OTHER',\n",
       " 'OTHER',\n",
       " 'OTHER',\n",
       " 'OTHER',\n",
       " '#f1',\n",
       " 'OTHER',\n",
       " '#mikrokoksy',\n",
       " 'OTHER',\n",
       " '#przegryw',\n",
       " 'OTHER',\n",
       " '#polityka',\n",
       " '#przegryw',\n",
       " 'OTHER',\n",
       " 'OTHER',\n",
       " 'OTHER',\n",
       " 'OTHER',\n",
       " '#polityka',\n",
       " '#koronawirus',\n",
       " '#przegryw',\n",
       " '#przegryw',\n",
       " '#gownowpis',\n",
       " 'OTHER',\n",
       " 'OTHER',\n",
       " 'OTHER',\n",
       " 'OTHER',\n",
       " 'OTHER',\n",
       " 'OTHER',\n",
       " 'OTHER',\n",
       " 'OTHER',\n",
       " '#przegryw',\n",
       " 'OTHER',\n",
       " '#koronawirus']"
      ]
     },
     "execution_count": 29,
     "metadata": {},
     "output_type": "execute_result"
    }
   ],
   "source": [
    "tags"
   ]
  },
  {
   "cell_type": "code",
   "execution_count": 32,
   "metadata": {
    "colab": {
     "base_uri": "https://localhost:8080/"
    },
    "id": "H7I7c7LykXfq",
    "outputId": "87b632b4-6d3b-45b6-e5f9-1c02fd29e25c"
   },
   "outputs": [
    {
     "name": "stdout",
     "output_type": "stream",
     "text": [
      "[t-SNE] Computing 61 nearest neighbors...\n",
      "[t-SNE] Indexed 311 samples in 0.000s...\n",
      "[t-SNE] Computed neighbors for 311 samples in 0.058s...\n",
      "[t-SNE] Computed conditional probabilities for sample 311 / 311\n",
      "[t-SNE] Mean sigma: 0.811608\n",
      "[t-SNE] KL divergence after 250 iterations with early exaggeration: 73.344643\n",
      "[t-SNE] KL divergence after 1000 iterations: 1.264247\n"
     ]
    }
   ],
   "source": [
    "tsne = TSNE(n_components=2, verbose=1, perplexity=20, n_iter=1000)\n",
    "tsne_results = tsne.fit_transform(X)"
   ]
  },
  {
   "cell_type": "code",
   "execution_count": 33,
   "metadata": {
    "scrolled": false
   },
   "outputs": [
    {
     "data": {
      "text/plain": [
       "<AxesSubplot:xlabel='x1', ylabel='x2'>"
      ]
     },
     "execution_count": 33,
     "metadata": {},
     "output_type": "execute_result"
    },
    {
     "data": {
      "image/png": "[encoded data removed]",
      "text/plain": [
       "<Figure size 1080x720 with 1 Axes>"
      ]
     },
     "metadata": {},
     "output_type": "display_data"
    }
   ],
   "source": [
    "import matplotlib.pyplot as plt\n",
    "\n",
    "tsne_df = pd.DataFrame({'x1': tsne_results[:,0], 'x2': tsne_results[:,1], 'tag': tags})\n",
    "\n",
    "plt.figure(figsize=(15, 10))\n",
    "sns.scatterplot(x=\"x1\", y=\"x2\", hue=\"tag\",\n",
    "    data=tsne_df, alpha=1, palette=\"deep\"\n",
    ")"
   ]
  },
  {
   "cell_type": "code",
   "execution_count": 25,
   "metadata": {},
   "outputs": [],
   "source": [
    "import pickle\n",
    "\n",
    "pickle.dump( user_embeddings, open( \"user_embeddings_big.p\", \"wb\" ) )"
   ]
  },
  {
   "cell_type": "code",
   "execution_count": null,
   "metadata": {},
   "outputs": [],
   "source": []
  },
  {
   "cell_type": "code",
   "execution_count": null,
   "metadata": {},
   "outputs": [],
   "source": []
  }
 ],
 "metadata": {
  "accelerator": "GPU",
  "colab": {
   "collapsed_sections": [],
   "name": "Node2vec.ipynb",
   "provenance": []
  },
  "kernelspec": {
   "display_name": "py_new",
   "language": "python",
   "name": "py_new"
  },
  "widgets": {
   "application/vnd.jupyter.widget-state+json": {
    "40b8e089fb96452f91b87ef5445f6abe": {
     "model_module": "@jupyter-widgets/base",
     "model_name": "LayoutModel",
     "state": {
      "_model_module": "@jupyter-widgets/base",
      "_model_module_version": "1.2.0",
      "_model_name": "LayoutModel",
      "_view_count": null,
      "_view_module": "@jupyter-widgets/base",
      "_view_module_version": "1.2.0",
      "_view_name": "LayoutView",
      "align_content": null,
      "align_items": null,
      "align_self": null,
      "border": null,
      "bottom": null,
      "display": null,
      "flex": null,
      "flex_flow": null,
      "grid_area": null,
      "grid_auto_columns": null,
      "grid_auto_flow": null,
      "grid_auto_rows": null,
      "grid_column": null,
      "grid_gap": null,
      "grid_row": null,
      "grid_template_areas": null,
      "grid_template_columns": null,
      "grid_template_rows": null,
      "height": null,
      "justify_content": null,
      "justify_items": null,
      "left": null,
      "margin": null,
      "max_height": null,
      "max_width": null,
      "min_height": null,
      "min_width": null,
      "object_fit": null,
      "object_position": null,
      "order": null,
      "overflow": null,
      "overflow_x": null,
      "overflow_y": null,
      "padding": null,
      "right": null,
      "top": null,
      "visibility": null,
      "width": null
     }
    },
    "46bd321b9b38478ba291f1d32a5c65b0": {
     "model_module": "@jupyter-widgets/base",
     "model_name": "LayoutModel",
     "state": {
      "_model_module": "@jupyter-widgets/base",
      "_model_module_version": "1.2.0",
      "_model_name": "LayoutModel",
      "_view_count": null,
      "_view_module": "@jupyter-widgets/base",
      "_view_module_version": "1.2.0",
      "_view_name": "LayoutView",
      "align_content": null,
      "align_items": null,
      "align_self": null,
      "border": null,
      "bottom": null,
      "display": null,
      "flex": null,
      "flex_flow": null,
      "grid_area": null,
      "grid_auto_columns": null,
      "grid_auto_flow": null,
      "grid_auto_rows": null,
      "grid_column": null,
      "grid_gap": null,
      "grid_row": null,
      "grid_template_areas": null,
      "grid_template_columns": null,
      "grid_template_rows": null,
      "height": null,
      "justify_content": null,
      "justify_items": null,
      "left": null,
      "margin": null,
      "max_height": null,
      "max_width": null,
      "min_height": null,
      "min_width": null,
      "object_fit": null,
      "object_position": null,
      "order": null,
      "overflow": null,
      "overflow_x": null,
      "overflow_y": null,
      "padding": null,
      "right": null,
      "top": null,
      "visibility": null,
      "width": null
     }
    },
    "6691ff712020419ba67bbf0451dccb6c": {
     "model_module": "@jupyter-widgets/controls",
     "model_name": "DescriptionStyleModel",
     "state": {
      "_model_module": "@jupyter-widgets/controls",
      "_model_module_version": "1.5.0",
      "_model_name": "DescriptionStyleModel",
      "_view_count": null,
      "_view_module": "@jupyter-widgets/base",
      "_view_module_version": "1.2.0",
      "_view_name": "StyleView",
      "description_width": ""
     }
    },
    "87c979feb88a45ada07b403eb2e0471c": {
     "model_module": "@jupyter-widgets/controls",
     "model_name": "ProgressStyleModel",
     "state": {
      "_model_module": "@jupyter-widgets/controls",
      "_model_module_version": "1.5.0",
      "_model_name": "ProgressStyleModel",
      "_view_count": null,
      "_view_module": "@jupyter-widgets/base",
      "_view_module_version": "1.2.0",
      "_view_name": "StyleView",
      "bar_color": null,
      "description_width": "initial"
     }
    },
    "9730fbddd1ae4dac8a76559516931f42": {
     "model_module": "@jupyter-widgets/controls",
     "model_name": "FloatProgressModel",
     "state": {
      "_dom_classes": [],
      "_model_module": "@jupyter-widgets/controls",
      "_model_module_version": "1.5.0",
      "_model_name": "FloatProgressModel",
      "_view_count": null,
      "_view_module": "@jupyter-widgets/controls",
      "_view_module_version": "1.5.0",
      "_view_name": "ProgressView",
      "bar_style": "success",
      "description": "Computing transition probabilities: 100%",
      "description_tooltip": null,
      "layout": "IPY_MODEL_9eadb45fbaab42a9b6df66609cf4b56d",
      "max": 311,
      "min": 0,
      "orientation": "horizontal",
      "style": "IPY_MODEL_87c979feb88a45ada07b403eb2e0471c",
      "value": 311
     }
    },
    "9eadb45fbaab42a9b6df66609cf4b56d": {
     "model_module": "@jupyter-widgets/base",
     "model_name": "LayoutModel",
     "state": {
      "_model_module": "@jupyter-widgets/base",
      "_model_module_version": "1.2.0",
      "_model_name": "LayoutModel",
      "_view_count": null,
      "_view_module": "@jupyter-widgets/base",
      "_view_module_version": "1.2.0",
      "_view_name": "LayoutView",
      "align_content": null,
      "align_items": null,
      "align_self": null,
      "border": null,
      "bottom": null,
      "display": null,
      "flex": null,
      "flex_flow": null,
      "grid_area": null,
      "grid_auto_columns": null,
      "grid_auto_flow": null,
      "grid_auto_rows": null,
      "grid_column": null,
      "grid_gap": null,
      "grid_row": null,
      "grid_template_areas": null,
      "grid_template_columns": null,
      "grid_template_rows": null,
      "height": null,
      "justify_content": null,
      "justify_items": null,
      "left": null,
      "margin": null,
      "max_height": null,
      "max_width": null,
      "min_height": null,
      "min_width": null,
      "object_fit": null,
      "object_position": null,
      "order": null,
      "overflow": null,
      "overflow_x": null,
      "overflow_y": null,
      "padding": null,
      "right": null,
      "top": null,
      "visibility": null,
      "width": null
     }
    },
    "a3f74a9bc7b44473a93a9ddb91a518fd": {
     "model_module": "@jupyter-widgets/controls",
     "model_name": "HBoxModel",
     "state": {
      "_dom_classes": [],
      "_model_module": "@jupyter-widgets/controls",
      "_model_module_version": "1.5.0",
      "_model_name": "HBoxModel",
      "_view_count": null,
      "_view_module": "@jupyter-widgets/controls",
      "_view_module_version": "1.5.0",
      "_view_name": "HBoxView",
      "box_style": "",
      "children": [
       "IPY_MODEL_9730fbddd1ae4dac8a76559516931f42",
       "IPY_MODEL_e8dbfbd243064761accb44de28fd4b01"
      ],
      "layout": "IPY_MODEL_40b8e089fb96452f91b87ef5445f6abe"
     }
    },
    "e8dbfbd243064761accb44de28fd4b01": {
     "model_module": "@jupyter-widgets/controls",
     "model_name": "HTMLModel",
     "state": {
      "_dom_classes": [],
      "_model_module": "@jupyter-widgets/controls",
      "_model_module_version": "1.5.0",
      "_model_name": "HTMLModel",
      "_view_count": null,
      "_view_module": "@jupyter-widgets/controls",
      "_view_module_version": "1.5.0",
      "_view_name": "HTMLView",
      "description": "",
      "description_tooltip": null,
      "layout": "IPY_MODEL_46bd321b9b38478ba291f1d32a5c65b0",
      "placeholder": "​",
      "style": "IPY_MODEL_6691ff712020419ba67bbf0451dccb6c",
      "value": " 311/311 [00:03&lt;00:00, 78.62it/s]"
     }
    }
   }
  }
 },
 "nbformat": 4,
 "nbformat_minor": 1
}
